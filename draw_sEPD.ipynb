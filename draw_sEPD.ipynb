{
 "cells": [
  {
   "cell_type": "code",
   "execution_count": 1,
   "id": "2d11cdfa",
   "metadata": {},
   "outputs": [],
   "source": [
    "import drawsvg as draw\n",
    "import math\n",
    "import os"
   ]
  },
  {
   "cell_type": "code",
   "execution_count": 2,
   "id": "89ced176",
   "metadata": {},
   "outputs": [],
   "source": [
    "# Create output directory for SVGs\n",
    "output_dir = 'svg_tiles'\n",
    "os.makedirs(output_dir, exist_ok=True)\n",
    "\n",
    "# Parameters\n",
    "num_rings = 16\n",
    "num_radial_divisions = 24\n",
    "radius_step = 50  # Distance between each ring\n",
    "\n",
    "# Set the minimum inner radius for the entire disk to 10\n",
    "min_inner_radius = 50\n",
    "\n",
    "# Adjust the logic for all rings\n",
    "for i in range(num_rings):\n",
    "    for j in range(num_radial_divisions):\n",
    "        # Create a new drawing for each tile\n",
    "        d = draw.Drawing(400, 400, origin='center')\n",
    "\n",
    "        # Define the boundaries of the tile\n",
    "        inner_radius = max(min_inner_radius, (i + 1) * radius_step)\n",
    "        outer_radius = (i + 2) * radius_step\n",
    "        angle_step = 2 * math.pi / num_radial_divisions\n",
    "        start_angle = j * angle_step\n",
    "        end_angle = (j + 1) * angle_step\n",
    "        # The inner ring only has 12 divisions\n",
    "        if i == 0:\n",
    "            if j >= num_radial_divisions // 2:\n",
    "                continue\n",
    "            start_angle = j * angle_step * 2\n",
    "            end_angle = (j + 1) * angle_step * 2\n",
    "\n",
    "            \n",
    "\n",
    "        # Draw the full bounded sector\n",
    "        path = draw.Path(stroke='white', stroke_width=0.5)\n",
    "        path.M(inner_radius * math.cos(start_angle), inner_radius * math.sin(start_angle))\n",
    "        path.L(outer_radius * math.cos(start_angle), outer_radius * math.sin(start_angle))\n",
    "        path.A(outer_radius, outer_radius, 0, 0, 1, outer_radius * math.cos(end_angle), outer_radius * math.sin(end_angle))\n",
    "        path.L(inner_radius * math.cos(end_angle), inner_radius * math.sin(end_angle))\n",
    "        path.A(inner_radius, inner_radius, 0, 0, 0, inner_radius * math.cos(start_angle), inner_radius * math.sin(start_angle))\n",
    "        path.Z()\n",
    "        d.append(path)\n",
    "\n",
    "        # Save the drawing as an SVG\n",
    "        tile_filename = f'tile_ring{i}_division{j}.svg'\n",
    "        d.save_svg(os.path.join(output_dir, tile_filename))"
   ]
  },
  {
   "cell_type": "code",
   "execution_count": null,
   "id": "7bc03bde",
   "metadata": {},
   "outputs": [
    {
     "name": "stdout",
     "output_type": "stream",
     "text": [
      "Displaying: tile_ring0_division0.svg\n"
     ]
    },
    {
     "data": {
      "image/svg+xml": [
       "<svg xmlns=\"http://www.w3.org/2000/svg\" xmlns:xlink=\"http://www.w3.org/1999/xlink\" width=\"400\" height=\"400\" viewBox=\"-200.0 -200.0 400 400\">\n",
       "<defs>\n",
       "</defs>\n",
       "<path d=\"M50.0,0.0 L100.0,0.0 A100,100,0,0,1,86.60254037844388,49.99999999999999 L43.30127018922194,24.999999999999996 A50,50,0,0,0,50.0,0.0 Z\" stroke=\"white\" stroke-width=\"0.5\"/>\n",
       "</svg>"
      ],
      "text/plain": [
       "<IPython.core.display.SVG object>"
      ]
     },
     "metadata": {},
     "output_type": "display_data"
    },
    {
     "name": "stdout",
     "output_type": "stream",
     "text": [
      "Displaying: tile_ring0_division1.svg\n"
     ]
    },
    {
     "data": {
      "image/svg+xml": [
       "<svg xmlns=\"http://www.w3.org/2000/svg\" xmlns:xlink=\"http://www.w3.org/1999/xlink\" width=\"400\" height=\"400\" viewBox=\"-200.0 -200.0 400 400\">\n",
       "<defs>\n",
       "</defs>\n",
       "<path d=\"M43.30127018922194,24.999999999999996 L86.60254037844388,49.99999999999999 A100,100,0,0,1,50.000000000000014,86.60254037844386 L25.000000000000007,43.30127018922193 A50,50,0,0,0,43.30127018922194,24.999999999999996 Z\" stroke=\"white\" stroke-width=\"0.5\"/>\n",
       "</svg>"
      ],
      "text/plain": [
       "<IPython.core.display.SVG object>"
      ]
     },
     "metadata": {},
     "output_type": "display_data"
    },
    {
     "name": "stdout",
     "output_type": "stream",
     "text": [
      "Displaying: tile_ring0_division10.svg\n"
     ]
    },
    {
     "data": {
      "image/svg+xml": [
       "<svg xmlns=\"http://www.w3.org/2000/svg\" xmlns:xlink=\"http://www.w3.org/1999/xlink\" width=\"400\" height=\"400\" viewBox=\"-200.0 -200.0 400 400\">\n",
       "<defs>\n",
       "</defs>\n",
       "<path d=\"M24.999999999999968,-43.30127018922195 L49.999999999999936,-86.6025403784439 A100,100,0,0,1,86.60254037844383,-50.00000000000004 L43.30127018922192,-25.00000000000002 A50,50,0,0,0,24.999999999999968,-43.30127018922195 Z\" stroke=\"white\" stroke-width=\"0.5\"/>\n",
       "</svg>"
      ],
      "text/plain": [
       "<IPython.core.display.SVG object>"
      ]
     },
     "metadata": {},
     "output_type": "display_data"
    },
    {
     "name": "stdout",
     "output_type": "stream",
     "text": [
      "Displaying: tile_ring0_division11.svg\n"
     ]
    },
    {
     "data": {
      "image/svg+xml": [
       "<svg xmlns=\"http://www.w3.org/2000/svg\" xmlns:xlink=\"http://www.w3.org/1999/xlink\" width=\"400\" height=\"400\" viewBox=\"-200.0 -200.0 400 400\">\n",
       "<defs>\n",
       "</defs>\n",
       "<path d=\"M43.30127018922192,-25.00000000000002 L86.60254037844383,-50.00000000000004 A100,100,0,0,1,100.0,-2.4492935982947064e-14 L50.0,-1.2246467991473532e-14 A50,50,0,0,0,43.30127018922192,-25.00000000000002 Z\" stroke=\"white\" stroke-width=\"0.5\"/>\n",
       "</svg>"
      ],
      "text/plain": [
       "<IPython.core.display.SVG object>"
      ]
     },
     "metadata": {},
     "output_type": "display_data"
    },
    {
     "name": "stdout",
     "output_type": "stream",
     "text": [
      "Displaying: tile_ring0_division2.svg\n"
     ]
    },
    {
     "data": {
      "image/svg+xml": [
       "<svg xmlns=\"http://www.w3.org/2000/svg\" xmlns:xlink=\"http://www.w3.org/1999/xlink\" width=\"400\" height=\"400\" viewBox=\"-200.0 -200.0 400 400\">\n",
       "<defs>\n",
       "</defs>\n",
       "<path d=\"M25.000000000000007,43.30127018922193 L50.000000000000014,86.60254037844386 A100,100,0,0,1,6.123233995736766e-15,100.0 L3.061616997868383e-15,50.0 A50,50,0,0,0,25.000000000000007,43.30127018922193 Z\" stroke=\"white\" stroke-width=\"0.5\"/>\n",
       "</svg>"
      ],
      "text/plain": [
       "<IPython.core.display.SVG object>"
      ]
     },
     "metadata": {},
     "output_type": "display_data"
    },
    {
     "name": "stdout",
     "output_type": "stream",
     "text": [
      "Displaying: tile_ring0_division3.svg\n"
     ]
    },
    {
     "data": {
      "image/svg+xml": [
       "<svg xmlns=\"http://www.w3.org/2000/svg\" xmlns:xlink=\"http://www.w3.org/1999/xlink\" width=\"400\" height=\"400\" viewBox=\"-200.0 -200.0 400 400\">\n",
       "<defs>\n",
       "</defs>\n",
       "<path d=\"M3.061616997868383e-15,50.0 L6.123233995736766e-15,100.0 A100,100,0,0,1,-49.999999999999986,86.60254037844388 L-24.999999999999993,43.30127018922194 A50,50,0,0,0,3.061616997868383e-15,50.0 Z\" stroke=\"white\" stroke-width=\"0.5\"/>\n",
       "</svg>"
      ],
      "text/plain": [
       "<IPython.core.display.SVG object>"
      ]
     },
     "metadata": {},
     "output_type": "display_data"
    },
    {
     "name": "stdout",
     "output_type": "stream",
     "text": [
      "Displaying: tile_ring0_division4.svg\n"
     ]
    },
    {
     "data": {
      "image/svg+xml": [
       "<svg xmlns=\"http://www.w3.org/2000/svg\" xmlns:xlink=\"http://www.w3.org/1999/xlink\" width=\"400\" height=\"400\" viewBox=\"-200.0 -200.0 400 400\">\n",
       "<defs>\n",
       "</defs>\n",
       "<path d=\"M-24.999999999999993,43.30127018922194 L-49.999999999999986,86.60254037844388 A100,100,0,0,1,-86.60254037844385,50.000000000000036 L-43.301270189221924,25.000000000000018 A50,50,0,0,0,-24.999999999999993,43.30127018922194 Z\" stroke=\"white\" stroke-width=\"0.5\"/>\n",
       "</svg>"
      ],
      "text/plain": [
       "<IPython.core.display.SVG object>"
      ]
     },
     "metadata": {},
     "output_type": "display_data"
    },
    {
     "name": "stdout",
     "output_type": "stream",
     "text": [
      "Displaying: tile_ring0_division5.svg\n"
     ]
    },
    {
     "data": {
      "image/svg+xml": [
       "<svg xmlns=\"http://www.w3.org/2000/svg\" xmlns:xlink=\"http://www.w3.org/1999/xlink\" width=\"400\" height=\"400\" viewBox=\"-200.0 -200.0 400 400\">\n",
       "<defs>\n",
       "</defs>\n",
       "<path d=\"M-43.301270189221924,25.000000000000018 L-86.60254037844385,50.000000000000036 A100,100,0,0,1,-100.0,1.2246467991473532e-14 L-50.0,6.123233995736766e-15 A50,50,0,0,0,-43.301270189221924,25.000000000000018 Z\" stroke=\"white\" stroke-width=\"0.5\"/>\n",
       "</svg>"
      ],
      "text/plain": [
       "<IPython.core.display.SVG object>"
      ]
     },
     "metadata": {},
     "output_type": "display_data"
    },
    {
     "name": "stdout",
     "output_type": "stream",
     "text": [
      "Displaying: tile_ring0_division6.svg\n"
     ]
    },
    {
     "data": {
      "image/svg+xml": [
       "<svg xmlns=\"http://www.w3.org/2000/svg\" xmlns:xlink=\"http://www.w3.org/1999/xlink\" width=\"400\" height=\"400\" viewBox=\"-200.0 -200.0 400 400\">\n",
       "<defs>\n",
       "</defs>\n",
       "<path d=\"M-50.0,6.123233995736766e-15 L-100.0,1.2246467991473532e-14 A100,100,0,0,1,-86.60254037844388,-49.99999999999998 L-43.30127018922194,-24.99999999999999 A50,50,0,0,0,-50.0,6.123233995736766e-15 Z\" stroke=\"white\" stroke-width=\"0.5\"/>\n",
       "</svg>"
      ],
      "text/plain": [
       "<IPython.core.display.SVG object>"
      ]
     },
     "metadata": {},
     "output_type": "display_data"
    },
    {
     "name": "stdout",
     "output_type": "stream",
     "text": [
      "Displaying: tile_ring0_division7.svg\n"
     ]
    },
    {
     "data": {
      "image/svg+xml": [
       "<svg xmlns=\"http://www.w3.org/2000/svg\" xmlns:xlink=\"http://www.w3.org/1999/xlink\" width=\"400\" height=\"400\" viewBox=\"-200.0 -200.0 400 400\">\n",
       "<defs>\n",
       "</defs>\n",
       "<path d=\"M-43.30127018922194,-24.99999999999999 L-86.60254037844388,-49.99999999999998 A100,100,0,0,1,-50.00000000000004,-86.60254037844383 L-25.00000000000002,-43.30127018922192 A50,50,0,0,0,-43.30127018922194,-24.99999999999999 Z\" stroke=\"white\" stroke-width=\"0.5\"/>\n",
       "</svg>"
      ],
      "text/plain": [
       "<IPython.core.display.SVG object>"
      ]
     },
     "metadata": {},
     "output_type": "display_data"
    },
    {
     "name": "stdout",
     "output_type": "stream",
     "text": [
      "Displaying: tile_ring0_division8.svg\n"
     ]
    },
    {
     "data": {
      "image/svg+xml": [
       "<svg xmlns=\"http://www.w3.org/2000/svg\" xmlns:xlink=\"http://www.w3.org/1999/xlink\" width=\"400\" height=\"400\" viewBox=\"-200.0 -200.0 400 400\">\n",
       "<defs>\n",
       "</defs>\n",
       "<path d=\"M-25.00000000000002,-43.30127018922192 L-50.00000000000004,-86.60254037844383 A100,100,0,0,1,-1.8369701987210297e-14,-100.0 L-9.184850993605149e-15,-50.0 A50,50,0,0,0,-25.00000000000002,-43.30127018922192 Z\" stroke=\"white\" stroke-width=\"0.5\"/>\n",
       "</svg>"
      ],
      "text/plain": [
       "<IPython.core.display.SVG object>"
      ]
     },
     "metadata": {},
     "output_type": "display_data"
    },
    {
     "name": "stdout",
     "output_type": "stream",
     "text": [
      "Displaying: tile_ring0_division9.svg\n"
     ]
    },
    {
     "data": {
      "image/svg+xml": [
       "<svg xmlns=\"http://www.w3.org/2000/svg\" xmlns:xlink=\"http://www.w3.org/1999/xlink\" width=\"400\" height=\"400\" viewBox=\"-200.0 -200.0 400 400\">\n",
       "<defs>\n",
       "</defs>\n",
       "<path d=\"M-9.184850993605149e-15,-50.0 L-1.8369701987210297e-14,-100.0 A100,100,0,0,1,49.999999999999936,-86.6025403784439 L24.999999999999968,-43.30127018922195 A50,50,0,0,0,-9.184850993605149e-15,-50.0 Z\" stroke=\"white\" stroke-width=\"0.5\"/>\n",
       "</svg>"
      ],
      "text/plain": [
       "<IPython.core.display.SVG object>"
      ]
     },
     "metadata": {},
     "output_type": "display_data"
    },
    {
     "name": "stdout",
     "output_type": "stream",
     "text": [
      "Displaying: tile_ring10_division0.svg\n"
     ]
    },
    {
     "data": {
      "image/svg+xml": [
       "<svg xmlns=\"http://www.w3.org/2000/svg\" xmlns:xlink=\"http://www.w3.org/1999/xlink\" width=\"400\" height=\"400\" viewBox=\"-200.0 -200.0 400 400\">\n",
       "<defs>\n",
       "</defs>\n",
       "<path d=\"M550.0,0.0 L600.0,0.0 A600,600,0,0,1,579.555495773441,155.29142706151245 L531.2592044589876,142.35047480638642 A550,550,0,0,0,550.0,0.0 Z\" stroke=\"white\" stroke-width=\"0.5\"/>\n",
       "</svg>"
      ],
      "text/plain": [
       "<IPython.core.display.SVG object>"
      ]
     },
     "metadata": {},
     "output_type": "display_data"
    },
    {
     "name": "stdout",
     "output_type": "stream",
     "text": [
      "Displaying: tile_ring10_division1.svg\n"
     ]
    },
    {
     "data": {
      "image/svg+xml": [
       "<svg xmlns=\"http://www.w3.org/2000/svg\" xmlns:xlink=\"http://www.w3.org/1999/xlink\" width=\"400\" height=\"400\" viewBox=\"-200.0 -200.0 400 400\">\n",
       "<defs>\n",
       "</defs>\n",
       "<path d=\"M531.2592044589876,142.35047480638642 L579.555495773441,155.29142706151245 A600,600,0,0,1,519.6152422706632,299.99999999999994 L476.3139720814413,274.99999999999994 A550,550,0,0,0,531.2592044589876,142.35047480638642 Z\" stroke=\"white\" stroke-width=\"0.5\"/>\n",
       "</svg>"
      ],
      "text/plain": [
       "<IPython.core.display.SVG object>"
      ]
     },
     "metadata": {},
     "output_type": "display_data"
    },
    {
     "name": "stdout",
     "output_type": "stream",
     "text": [
      "Displaying: tile_ring10_division10.svg\n"
     ]
    },
    {
     "data": {
      "image/svg+xml": [
       "<svg xmlns=\"http://www.w3.org/2000/svg\" xmlns:xlink=\"http://www.w3.org/1999/xlink\" width=\"400\" height=\"400\" viewBox=\"-200.0 -200.0 400 400\">\n",
       "<defs>\n",
       "</defs>\n",
       "<path d=\"M-476.3139720814412,275.00000000000017 L-519.6152422706631,300.0000000000002 A600,600,0,0,1,-579.555495773441,155.29142706151262 L-531.2592044589875,142.35047480638656 A550,550,0,0,0,-476.3139720814412,275.00000000000017 Z\" stroke=\"white\" stroke-width=\"0.5\"/>\n",
       "</svg>"
      ],
      "text/plain": [
       "<IPython.core.display.SVG object>"
      ]
     },
     "metadata": {},
     "output_type": "display_data"
    },
    {
     "name": "stdout",
     "output_type": "stream",
     "text": [
      "Displaying: tile_ring10_division11.svg\n"
     ]
    },
    {
     "data": {
      "image/svg+xml": [
       "<svg xmlns=\"http://www.w3.org/2000/svg\" xmlns:xlink=\"http://www.w3.org/1999/xlink\" width=\"400\" height=\"400\" viewBox=\"-200.0 -200.0 400 400\">\n",
       "<defs>\n",
       "</defs>\n",
       "<path d=\"M-531.2592044589875,142.35047480638656 L-579.555495773441,155.29142706151262 A600,600,0,0,1,-600.0,7.347880794884119e-14 L-550.0,6.735557395310443e-14 A550,550,0,0,0,-531.2592044589875,142.35047480638656 Z\" stroke=\"white\" stroke-width=\"0.5\"/>\n",
       "</svg>"
      ],
      "text/plain": [
       "<IPython.core.display.SVG object>"
      ]
     },
     "metadata": {},
     "output_type": "display_data"
    },
    {
     "name": "stdout",
     "output_type": "stream",
     "text": [
      "Displaying: tile_ring10_division12.svg\n"
     ]
    },
    {
     "data": {
      "image/svg+xml": [
       "<svg xmlns=\"http://www.w3.org/2000/svg\" xmlns:xlink=\"http://www.w3.org/1999/xlink\" width=\"400\" height=\"400\" viewBox=\"-200.0 -200.0 400 400\">\n",
       "<defs>\n",
       "</defs>\n",
       "<path d=\"M-550.0,6.735557395310443e-14 L-600.0,7.347880794884119e-14 A600,600,0,0,1,-579.5554957734411,-155.29142706151222 L-531.2592044589876,-142.3504748063862 A550,550,0,0,0,-550.0,6.735557395310443e-14 Z\" stroke=\"white\" stroke-width=\"0.5\"/>\n",
       "</svg>"
      ],
      "text/plain": [
       "<IPython.core.display.SVG object>"
      ]
     },
     "metadata": {},
     "output_type": "display_data"
    },
    {
     "name": "stdout",
     "output_type": "stream",
     "text": [
      "Displaying: tile_ring10_division13.svg\n"
     ]
    },
    {
     "data": {
      "image/svg+xml": [
       "<svg xmlns=\"http://www.w3.org/2000/svg\" xmlns:xlink=\"http://www.w3.org/1999/xlink\" width=\"400\" height=\"400\" viewBox=\"-200.0 -200.0 400 400\">\n",
       "<defs>\n",
       "</defs>\n",
       "<path d=\"M-531.2592044589876,-142.3504748063862 L-579.5554957734411,-155.29142706151222 A600,600,0,0,1,-519.6152422706633,-299.9999999999999 L-476.31397208144136,-274.9999999999999 A550,550,0,0,0,-531.2592044589876,-142.3504748063862 Z\" stroke=\"white\" stroke-width=\"0.5\"/>\n",
       "</svg>"
      ],
      "text/plain": [
       "<IPython.core.display.SVG object>"
      ]
     },
     "metadata": {},
     "output_type": "display_data"
    },
    {
     "name": "stdout",
     "output_type": "stream",
     "text": [
      "Displaying: tile_ring10_division14.svg\n"
     ]
    },
    {
     "data": {
      "image/svg+xml": [
       "<svg xmlns=\"http://www.w3.org/2000/svg\" xmlns:xlink=\"http://www.w3.org/1999/xlink\" width=\"400\" height=\"400\" viewBox=\"-200.0 -200.0 400 400\">\n",
       "<defs>\n",
       "</defs>\n",
       "<path d=\"M-476.31397208144136,-274.9999999999999 L-519.6152422706633,-299.9999999999999 A600,600,0,0,1,-424.26406871192876,-424.2640687119283 L-388.9087296526013,-388.9087296526009 A550,550,0,0,0,-476.31397208144136,-274.9999999999999 Z\" stroke=\"white\" stroke-width=\"0.5\"/>\n",
       "</svg>"
      ],
      "text/plain": [
       "<IPython.core.display.SVG object>"
      ]
     },
     "metadata": {},
     "output_type": "display_data"
    },
    {
     "name": "stdout",
     "output_type": "stream",
     "text": [
      "Displaying: tile_ring10_division15.svg\n"
     ]
    },
    {
     "data": {
      "image/svg+xml": [
       "<svg xmlns=\"http://www.w3.org/2000/svg\" xmlns:xlink=\"http://www.w3.org/1999/xlink\" width=\"400\" height=\"400\" viewBox=\"-200.0 -200.0 400 400\">\n",
       "<defs>\n",
       "</defs>\n",
       "<path d=\"M-388.9087296526013,-388.9087296526009 L-424.26406871192876,-424.2640687119283 A600,600,0,0,1,-300.0000000000003,-519.615242270663 L-275.0000000000002,-476.3139720814411 A550,550,0,0,0,-388.9087296526013,-388.9087296526009 Z\" stroke=\"white\" stroke-width=\"0.5\"/>\n",
       "</svg>"
      ],
      "text/plain": [
       "<IPython.core.display.SVG object>"
      ]
     },
     "metadata": {},
     "output_type": "display_data"
    },
    {
     "name": "stdout",
     "output_type": "stream",
     "text": [
      "Displaying: tile_ring10_division16.svg\n"
     ]
    },
    {
     "data": {
      "image/svg+xml": [
       "<svg xmlns=\"http://www.w3.org/2000/svg\" xmlns:xlink=\"http://www.w3.org/1999/xlink\" width=\"400\" height=\"400\" viewBox=\"-200.0 -200.0 400 400\">\n",
       "<defs>\n",
       "</defs>\n",
       "<path d=\"M-275.0000000000002,-476.3139720814411 L-300.0000000000003,-519.615242270663 A600,600,0,0,1,-155.2914270615129,-579.5554957734408 L-142.35047480638684,-531.2592044589875 A550,550,0,0,0,-275.0000000000002,-476.3139720814411 Z\" stroke=\"white\" stroke-width=\"0.5\"/>\n",
       "</svg>"
      ],
      "text/plain": [
       "<IPython.core.display.SVG object>"
      ]
     },
     "metadata": {},
     "output_type": "display_data"
    },
    {
     "name": "stdout",
     "output_type": "stream",
     "text": [
      "Displaying: tile_ring10_division17.svg\n"
     ]
    },
    {
     "data": {
      "image/svg+xml": [
       "<svg xmlns=\"http://www.w3.org/2000/svg\" xmlns:xlink=\"http://www.w3.org/1999/xlink\" width=\"400\" height=\"400\" viewBox=\"-200.0 -200.0 400 400\">\n",
       "<defs>\n",
       "</defs>\n",
       "<path d=\"M-142.35047480638684,-531.2592044589875 L-155.2914270615129,-579.5554957734408 A600,600,0,0,1,-1.1021821192326178e-13,-600.0 L-1.0103336092965664e-13,-550.0 A550,550,0,0,0,-142.35047480638684,-531.2592044589875 Z\" stroke=\"white\" stroke-width=\"0.5\"/>\n",
       "</svg>"
      ],
      "text/plain": [
       "<IPython.core.display.SVG object>"
      ]
     },
     "metadata": {},
     "output_type": "display_data"
    },
    {
     "name": "stdout",
     "output_type": "stream",
     "text": [
      "Displaying: tile_ring10_division18.svg\n"
     ]
    },
    {
     "data": {
      "image/svg+xml": [
       "<svg xmlns=\"http://www.w3.org/2000/svg\" xmlns:xlink=\"http://www.w3.org/1999/xlink\" width=\"400\" height=\"400\" viewBox=\"-200.0 -200.0 400 400\">\n",
       "<defs>\n",
       "</defs>\n",
       "<path d=\"M-1.0103336092965664e-13,-550.0 L-1.1021821192326178e-13,-600.0 A600,600,0,0,1,155.29142706151217,-579.5554957734411 L142.35047480638616,-531.2592044589876 A550,550,0,0,0,-1.0103336092965664e-13,-550.0 Z\" stroke=\"white\" stroke-width=\"0.5\"/>\n",
       "</svg>"
      ],
      "text/plain": [
       "<IPython.core.display.SVG object>"
      ]
     },
     "metadata": {},
     "output_type": "display_data"
    },
    {
     "name": "stdout",
     "output_type": "stream",
     "text": [
      "Displaying: tile_ring10_division19.svg\n"
     ]
    },
    {
     "data": {
      "image/svg+xml": [
       "<svg xmlns=\"http://www.w3.org/2000/svg\" xmlns:xlink=\"http://www.w3.org/1999/xlink\" width=\"400\" height=\"400\" viewBox=\"-200.0 -200.0 400 400\">\n",
       "<defs>\n",
       "</defs>\n",
       "<path d=\"M142.35047480638616,-531.2592044589876 L155.29142706151217,-579.5554957734411 A600,600,0,0,1,299.9999999999996,-519.6152422706634 L274.99999999999966,-476.3139720814415 A550,550,0,0,0,142.35047480638616,-531.2592044589876 Z\" stroke=\"white\" stroke-width=\"0.5\"/>\n",
       "</svg>"
      ],
      "text/plain": [
       "<IPython.core.display.SVG object>"
      ]
     },
     "metadata": {},
     "output_type": "display_data"
    },
    {
     "name": "stdout",
     "output_type": "stream",
     "text": [
      "Displaying: tile_ring10_division2.svg\n"
     ]
    },
    {
     "data": {
      "image/svg+xml": [
       "<svg xmlns=\"http://www.w3.org/2000/svg\" xmlns:xlink=\"http://www.w3.org/1999/xlink\" width=\"400\" height=\"400\" viewBox=\"-200.0 -200.0 400 400\">\n",
       "<defs>\n",
       "</defs>\n",
       "<path d=\"M476.3139720814413,274.99999999999994 L519.6152422706632,299.99999999999994 A600,600,0,0,1,424.26406871192853,424.2640687119285 L388.90872965260115,388.9087296526011 A550,550,0,0,0,476.3139720814413,274.99999999999994 Z\" stroke=\"white\" stroke-width=\"0.5\"/>\n",
       "</svg>"
      ],
      "text/plain": [
       "<IPython.core.display.SVG object>"
      ]
     },
     "metadata": {},
     "output_type": "display_data"
    },
    {
     "name": "stdout",
     "output_type": "stream",
     "text": [
      "Displaying: tile_ring10_division20.svg\n"
     ]
    },
    {
     "data": {
      "image/svg+xml": [
       "<svg xmlns=\"http://www.w3.org/2000/svg\" xmlns:xlink=\"http://www.w3.org/1999/xlink\" width=\"400\" height=\"400\" viewBox=\"-200.0 -200.0 400 400\">\n",
       "<defs>\n",
       "</defs>\n",
       "<path d=\"M274.99999999999966,-476.3139720814415 L299.9999999999996,-519.6152422706634 A600,600,0,0,1,424.2640687119284,-424.2640687119286 L388.90872965260104,-388.9087296526012 A550,550,0,0,0,274.99999999999966,-476.3139720814415 Z\" stroke=\"white\" stroke-width=\"0.5\"/>\n",
       "</svg>"
      ],
      "text/plain": [
       "<IPython.core.display.SVG object>"
      ]
     },
     "metadata": {},
     "output_type": "display_data"
    },
    {
     "name": "stdout",
     "output_type": "stream",
     "text": [
      "Displaying: tile_ring10_division21.svg\n"
     ]
    },
    {
     "data": {
      "image/svg+xml": [
       "<svg xmlns=\"http://www.w3.org/2000/svg\" xmlns:xlink=\"http://www.w3.org/1999/xlink\" width=\"400\" height=\"400\" viewBox=\"-200.0 -200.0 400 400\">\n",
       "<defs>\n",
       "</defs>\n",
       "<path d=\"M388.90872965260104,-388.9087296526012 L424.2640687119284,-424.2640687119286 A600,600,0,0,1,519.615242270663,-300.0000000000003 L476.3139720814411,-275.0000000000002 A550,550,0,0,0,388.90872965260104,-388.9087296526012 Z\" stroke=\"white\" stroke-width=\"0.5\"/>\n",
       "</svg>"
      ],
      "text/plain": [
       "<IPython.core.display.SVG object>"
      ]
     },
     "metadata": {},
     "output_type": "display_data"
    },
    {
     "name": "stdout",
     "output_type": "stream",
     "text": [
      "Displaying: tile_ring10_division22.svg\n"
     ]
    },
    {
     "data": {
      "image/svg+xml": [
       "<svg xmlns=\"http://www.w3.org/2000/svg\" xmlns:xlink=\"http://www.w3.org/1999/xlink\" width=\"400\" height=\"400\" viewBox=\"-200.0 -200.0 400 400\">\n",
       "<defs>\n",
       "</defs>\n",
       "<path d=\"M476.3139720814411,-275.0000000000002 L519.615242270663,-300.0000000000003 A600,600,0,0,1,579.5554957734408,-155.29142706151293 L531.2592044589875,-142.35047480638687 A550,550,0,0,0,476.3139720814411,-275.0000000000002 Z\" stroke=\"white\" stroke-width=\"0.5\"/>\n",
       "</svg>"
      ],
      "text/plain": [
       "<IPython.core.display.SVG object>"
      ]
     },
     "metadata": {},
     "output_type": "display_data"
    },
    {
     "name": "stdout",
     "output_type": "stream",
     "text": [
      "Displaying: tile_ring10_division23.svg\n"
     ]
    },
    {
     "data": {
      "image/svg+xml": [
       "<svg xmlns=\"http://www.w3.org/2000/svg\" xmlns:xlink=\"http://www.w3.org/1999/xlink\" width=\"400\" height=\"400\" viewBox=\"-200.0 -200.0 400 400\">\n",
       "<defs>\n",
       "</defs>\n",
       "<path d=\"M531.2592044589875,-142.35047480638687 L579.5554957734408,-155.29142706151293 A600,600,0,0,1,600.0,-1.4695761589768238e-13 L550.0,-1.3471114790620886e-13 A550,550,0,0,0,531.2592044589875,-142.35047480638687 Z\" stroke=\"white\" stroke-width=\"0.5\"/>\n",
       "</svg>"
      ],
      "text/plain": [
       "<IPython.core.display.SVG object>"
      ]
     },
     "metadata": {},
     "output_type": "display_data"
    },
    {
     "name": "stdout",
     "output_type": "stream",
     "text": [
      "Displaying: tile_ring10_division3.svg\n"
     ]
    },
    {
     "data": {
      "image/svg+xml": [
       "<svg xmlns=\"http://www.w3.org/2000/svg\" xmlns:xlink=\"http://www.w3.org/1999/xlink\" width=\"400\" height=\"400\" viewBox=\"-200.0 -200.0 400 400\">\n",
       "<defs>\n",
       "</defs>\n",
       "<path d=\"M388.90872965260115,388.9087296526011 L424.26406871192853,424.2640687119285 A600,600,0,0,1,300.00000000000006,519.6152422706632 L275.00000000000006,476.31397208144125 A550,550,0,0,0,388.90872965260115,388.9087296526011 Z\" stroke=\"white\" stroke-width=\"0.5\"/>\n",
       "</svg>"
      ],
      "text/plain": [
       "<IPython.core.display.SVG object>"
      ]
     },
     "metadata": {},
     "output_type": "display_data"
    },
    {
     "name": "stdout",
     "output_type": "stream",
     "text": [
      "Displaying: tile_ring10_division4.svg\n"
     ]
    },
    {
     "data": {
      "image/svg+xml": [
       "<svg xmlns=\"http://www.w3.org/2000/svg\" xmlns:xlink=\"http://www.w3.org/1999/xlink\" width=\"400\" height=\"400\" viewBox=\"-200.0 -200.0 400 400\">\n",
       "<defs>\n",
       "</defs>\n",
       "<path d=\"M275.00000000000006,476.31397208144125 L300.00000000000006,519.6152422706632 A600,600,0,0,1,155.29142706151256,579.555495773441 L142.35047480638653,531.2592044589875 A550,550,0,0,0,275.00000000000006,476.31397208144125 Z\" stroke=\"white\" stroke-width=\"0.5\"/>\n",
       "</svg>"
      ],
      "text/plain": [
       "<IPython.core.display.SVG object>"
      ]
     },
     "metadata": {},
     "output_type": "display_data"
    },
    {
     "name": "stdout",
     "output_type": "stream",
     "text": [
      "Displaying: tile_ring10_division5.svg\n"
     ]
    },
    {
     "data": {
      "image/svg+xml": [
       "<svg xmlns=\"http://www.w3.org/2000/svg\" xmlns:xlink=\"http://www.w3.org/1999/xlink\" width=\"400\" height=\"400\" viewBox=\"-200.0 -200.0 400 400\">\n",
       "<defs>\n",
       "</defs>\n",
       "<path d=\"M142.35047480638653,531.2592044589875 L155.29142706151256,579.555495773441 A600,600,0,0,1,3.6739403974420595e-14,600.0 L3.3677786976552216e-14,550.0 A550,550,0,0,0,142.35047480638653,531.2592044589875 Z\" stroke=\"white\" stroke-width=\"0.5\"/>\n",
       "</svg>"
      ],
      "text/plain": [
       "<IPython.core.display.SVG object>"
      ]
     },
     "metadata": {},
     "output_type": "display_data"
    },
    {
     "name": "stdout",
     "output_type": "stream",
     "text": [
      "Displaying: tile_ring10_division6.svg\n"
     ]
    },
    {
     "data": {
      "image/svg+xml": [
       "<svg xmlns=\"http://www.w3.org/2000/svg\" xmlns:xlink=\"http://www.w3.org/1999/xlink\" width=\"400\" height=\"400\" viewBox=\"-200.0 -200.0 400 400\">\n",
       "<defs>\n",
       "</defs>\n",
       "<path d=\"M3.3677786976552216e-14,550.0 L3.6739403974420595e-14,600.0 A600,600,0,0,1,-155.29142706151237,579.555495773441 L-142.35047480638636,531.2592044589876 A550,550,0,0,0,3.3677786976552216e-14,550.0 Z\" stroke=\"white\" stroke-width=\"0.5\"/>\n",
       "</svg>"
      ],
      "text/plain": [
       "<IPython.core.display.SVG object>"
      ]
     },
     "metadata": {},
     "output_type": "display_data"
    },
    {
     "name": "stdout",
     "output_type": "stream",
     "text": [
      "Displaying: tile_ring10_division7.svg\n"
     ]
    },
    {
     "data": {
      "image/svg+xml": [
       "<svg xmlns=\"http://www.w3.org/2000/svg\" xmlns:xlink=\"http://www.w3.org/1999/xlink\" width=\"400\" height=\"400\" viewBox=\"-200.0 -200.0 400 400\">\n",
       "<defs>\n",
       "</defs>\n",
       "<path d=\"M-142.35047480638636,531.2592044589876 L-155.29142706151237,579.555495773441 A600,600,0,0,1,-299.9999999999999,519.6152422706632 L-274.9999999999999,476.3139720814413 A550,550,0,0,0,-142.35047480638636,531.2592044589876 Z\" stroke=\"white\" stroke-width=\"0.5\"/>\n",
       "</svg>"
      ],
      "text/plain": [
       "<IPython.core.display.SVG object>"
      ]
     },
     "metadata": {},
     "output_type": "display_data"
    },
    {
     "name": "stdout",
     "output_type": "stream",
     "text": [
      "Displaying: tile_ring10_division8.svg\n"
     ]
    },
    {
     "data": {
      "image/svg+xml": [
       "<svg xmlns=\"http://www.w3.org/2000/svg\" xmlns:xlink=\"http://www.w3.org/1999/xlink\" width=\"400\" height=\"400\" viewBox=\"-200.0 -200.0 400 400\">\n",
       "<defs>\n",
       "</defs>\n",
       "<path d=\"M-274.9999999999999,476.3139720814413 L-299.9999999999999,519.6152422706632 A600,600,0,0,1,-424.2640687119285,424.26406871192853 L-388.9087296526011,388.90872965260115 A550,550,0,0,0,-274.9999999999999,476.3139720814413 Z\" stroke=\"white\" stroke-width=\"0.5\"/>\n",
       "</svg>"
      ],
      "text/plain": [
       "<IPython.core.display.SVG object>"
      ]
     },
     "metadata": {},
     "output_type": "display_data"
    },
    {
     "name": "stdout",
     "output_type": "stream",
     "text": [
      "Displaying: tile_ring10_division9.svg\n"
     ]
    },
    {
     "data": {
      "image/svg+xml": [
       "<svg xmlns=\"http://www.w3.org/2000/svg\" xmlns:xlink=\"http://www.w3.org/1999/xlink\" width=\"400\" height=\"400\" viewBox=\"-200.0 -200.0 400 400\">\n",
       "<defs>\n",
       "</defs>\n",
       "<path d=\"M-388.9087296526011,388.90872965260115 L-424.2640687119285,424.26406871192853 A600,600,0,0,1,-519.6152422706631,300.0000000000002 L-476.3139720814412,275.00000000000017 A550,550,0,0,0,-388.9087296526011,388.90872965260115 Z\" stroke=\"white\" stroke-width=\"0.5\"/>\n",
       "</svg>"
      ],
      "text/plain": [
       "<IPython.core.display.SVG object>"
      ]
     },
     "metadata": {},
     "output_type": "display_data"
    },
    {
     "name": "stdout",
     "output_type": "stream",
     "text": [
      "Displaying: tile_ring11_division0.svg\n"
     ]
    },
    {
     "data": {
      "image/svg+xml": [
       "<svg xmlns=\"http://www.w3.org/2000/svg\" xmlns:xlink=\"http://www.w3.org/1999/xlink\" width=\"400\" height=\"400\" viewBox=\"-200.0 -200.0 400 400\">\n",
       "<defs>\n",
       "</defs>\n",
       "<path d=\"M600.0,0.0 L650.0,0.0 A650,650,0,0,1,627.8517870878944,168.2323793166385 L579.555495773441,155.29142706151245 A600,600,0,0,0,600.0,0.0 Z\" stroke=\"white\" stroke-width=\"0.5\"/>\n",
       "</svg>"
      ],
      "text/plain": [
       "<IPython.core.display.SVG object>"
      ]
     },
     "metadata": {},
     "output_type": "display_data"
    },
    {
     "name": "stdout",
     "output_type": "stream",
     "text": [
      "Displaying: tile_ring11_division1.svg\n"
     ]
    },
    {
     "data": {
      "image/svg+xml": [
       "<svg xmlns=\"http://www.w3.org/2000/svg\" xmlns:xlink=\"http://www.w3.org/1999/xlink\" width=\"400\" height=\"400\" viewBox=\"-200.0 -200.0 400 400\">\n",
       "<defs>\n",
       "</defs>\n",
       "<path d=\"M579.555495773441,155.29142706151245 L627.8517870878944,168.2323793166385 A650,650,0,0,1,562.9165124598852,324.99999999999994 L519.6152422706632,299.99999999999994 A600,600,0,0,0,579.555495773441,155.29142706151245 Z\" stroke=\"white\" stroke-width=\"0.5\"/>\n",
       "</svg>"
      ],
      "text/plain": [
       "<IPython.core.display.SVG object>"
      ]
     },
     "metadata": {},
     "output_type": "display_data"
    },
    {
     "name": "stdout",
     "output_type": "stream",
     "text": [
      "Displaying: tile_ring11_division10.svg\n"
     ]
    },
    {
     "data": {
      "image/svg+xml": [
       "<svg xmlns=\"http://www.w3.org/2000/svg\" xmlns:xlink=\"http://www.w3.org/1999/xlink\" width=\"400\" height=\"400\" viewBox=\"-200.0 -200.0 400 400\">\n",
       "<defs>\n",
       "</defs>\n",
       "<path d=\"M-519.6152422706631,300.0000000000002 L-562.916512459885,325.0000000000002 A650,650,0,0,1,-627.8517870878943,168.23237931663866 L-579.555495773441,155.29142706151262 A600,600,0,0,0,-519.6152422706631,300.0000000000002 Z\" stroke=\"white\" stroke-width=\"0.5\"/>\n",
       "</svg>"
      ],
      "text/plain": [
       "<IPython.core.display.SVG object>"
      ]
     },
     "metadata": {},
     "output_type": "display_data"
    },
    {
     "name": "stdout",
     "output_type": "stream",
     "text": [
      "Displaying: tile_ring11_division11.svg\n"
     ]
    },
    {
     "data": {
      "image/svg+xml": [
       "<svg xmlns=\"http://www.w3.org/2000/svg\" xmlns:xlink=\"http://www.w3.org/1999/xlink\" width=\"400\" height=\"400\" viewBox=\"-200.0 -200.0 400 400\">\n",
       "<defs>\n",
       "</defs>\n",
       "<path d=\"M-579.555495773441,155.29142706151262 L-627.8517870878943,168.23237931663866 A650,650,0,0,1,-650.0,7.960204194457796e-14 L-600.0,7.347880794884119e-14 A600,600,0,0,0,-579.555495773441,155.29142706151262 Z\" stroke=\"white\" stroke-width=\"0.5\"/>\n",
       "</svg>"
      ],
      "text/plain": [
       "<IPython.core.display.SVG object>"
      ]
     },
     "metadata": {},
     "output_type": "display_data"
    },
    {
     "name": "stdout",
     "output_type": "stream",
     "text": [
      "Displaying: tile_ring11_division12.svg\n"
     ]
    },
    {
     "data": {
      "image/svg+xml": [
       "<svg xmlns=\"http://www.w3.org/2000/svg\" xmlns:xlink=\"http://www.w3.org/1999/xlink\" width=\"400\" height=\"400\" viewBox=\"-200.0 -200.0 400 400\">\n",
       "<defs>\n",
       "</defs>\n",
       "<path d=\"M-600.0,7.347880794884119e-14 L-650.0,7.960204194457796e-14 A650,650,0,0,1,-627.8517870878944,-168.23237931663823 L-579.5554957734411,-155.29142706151222 A600,600,0,0,0,-600.0,7.347880794884119e-14 Z\" stroke=\"white\" stroke-width=\"0.5\"/>\n",
       "</svg>"
      ],
      "text/plain": [
       "<IPython.core.display.SVG object>"
      ]
     },
     "metadata": {},
     "output_type": "display_data"
    },
    {
     "name": "stdout",
     "output_type": "stream",
     "text": [
      "Displaying: tile_ring11_division13.svg\n"
     ]
    },
    {
     "data": {
      "image/svg+xml": [
       "<svg xmlns=\"http://www.w3.org/2000/svg\" xmlns:xlink=\"http://www.w3.org/1999/xlink\" width=\"400\" height=\"400\" viewBox=\"-200.0 -200.0 400 400\">\n",
       "<defs>\n",
       "</defs>\n",
       "<path d=\"M-579.5554957734411,-155.29142706151222 L-627.8517870878944,-168.23237931663823 A650,650,0,0,1,-562.9165124598852,-324.99999999999983 L-519.6152422706633,-299.9999999999999 A600,600,0,0,0,-579.5554957734411,-155.29142706151222 Z\" stroke=\"white\" stroke-width=\"0.5\"/>\n",
       "</svg>"
      ],
      "text/plain": [
       "<IPython.core.display.SVG object>"
      ]
     },
     "metadata": {},
     "output_type": "display_data"
    },
    {
     "name": "stdout",
     "output_type": "stream",
     "text": [
      "Displaying: tile_ring11_division14.svg\n"
     ]
    },
    {
     "data": {
      "image/svg+xml": [
       "<svg xmlns=\"http://www.w3.org/2000/svg\" xmlns:xlink=\"http://www.w3.org/1999/xlink\" width=\"400\" height=\"400\" viewBox=\"-200.0 -200.0 400 400\">\n",
       "<defs>\n",
       "</defs>\n",
       "<path d=\"M-519.6152422706633,-299.9999999999999 L-562.9165124598852,-324.99999999999983 A650,650,0,0,1,-459.61940777125614,-459.6194077712556 L-424.26406871192876,-424.2640687119283 A600,600,0,0,0,-519.6152422706633,-299.9999999999999 Z\" stroke=\"white\" stroke-width=\"0.5\"/>\n",
       "</svg>"
      ],
      "text/plain": [
       "<IPython.core.display.SVG object>"
      ]
     },
     "metadata": {},
     "output_type": "display_data"
    },
    {
     "name": "stdout",
     "output_type": "stream",
     "text": [
      "Displaying: tile_ring11_division15.svg\n"
     ]
    },
    {
     "data": {
      "image/svg+xml": [
       "<svg xmlns=\"http://www.w3.org/2000/svg\" xmlns:xlink=\"http://www.w3.org/1999/xlink\" width=\"400\" height=\"400\" viewBox=\"-200.0 -200.0 400 400\">\n",
       "<defs>\n",
       "</defs>\n",
       "<path d=\"M-424.26406871192876,-424.2640687119283 L-459.61940777125614,-459.6194077712556 A650,650,0,0,1,-325.0000000000003,-562.916512459885 L-300.0000000000003,-519.615242270663 A600,600,0,0,0,-424.26406871192876,-424.2640687119283 Z\" stroke=\"white\" stroke-width=\"0.5\"/>\n",
       "</svg>"
      ],
      "text/plain": [
       "<IPython.core.display.SVG object>"
      ]
     },
     "metadata": {},
     "output_type": "display_data"
    },
    {
     "name": "stdout",
     "output_type": "stream",
     "text": [
      "Displaying: tile_ring11_division16.svg\n"
     ]
    },
    {
     "data": {
      "image/svg+xml": [
       "<svg xmlns=\"http://www.w3.org/2000/svg\" xmlns:xlink=\"http://www.w3.org/1999/xlink\" width=\"400\" height=\"400\" viewBox=\"-200.0 -200.0 400 400\">\n",
       "<defs>\n",
       "</defs>\n",
       "<path d=\"M-300.0000000000003,-519.615242270663 L-325.0000000000003,-562.916512459885 A650,650,0,0,1,-168.232379316639,-627.8517870878943 L-155.2914270615129,-579.5554957734408 A600,600,0,0,0,-300.0000000000003,-519.615242270663 Z\" stroke=\"white\" stroke-width=\"0.5\"/>\n",
       "</svg>"
      ],
      "text/plain": [
       "<IPython.core.display.SVG object>"
      ]
     },
     "metadata": {},
     "output_type": "display_data"
    },
    {
     "name": "stdout",
     "output_type": "stream",
     "text": [
      "Displaying: tile_ring11_division17.svg\n"
     ]
    },
    {
     "data": {
      "image/svg+xml": [
       "<svg xmlns=\"http://www.w3.org/2000/svg\" xmlns:xlink=\"http://www.w3.org/1999/xlink\" width=\"400\" height=\"400\" viewBox=\"-200.0 -200.0 400 400\">\n",
       "<defs>\n",
       "</defs>\n",
       "<path d=\"M-155.2914270615129,-579.5554957734408 L-168.232379316639,-627.8517870878943 A650,650,0,0,1,-1.1940306291686692e-13,-650.0 L-1.1021821192326178e-13,-600.0 A600,600,0,0,0,-155.2914270615129,-579.5554957734408 Z\" stroke=\"white\" stroke-width=\"0.5\"/>\n",
       "</svg>"
      ],
      "text/plain": [
       "<IPython.core.display.SVG object>"
      ]
     },
     "metadata": {},
     "output_type": "display_data"
    },
    {
     "name": "stdout",
     "output_type": "stream",
     "text": [
      "Displaying: tile_ring11_division18.svg\n"
     ]
    },
    {
     "data": {
      "image/svg+xml": [
       "<svg xmlns=\"http://www.w3.org/2000/svg\" xmlns:xlink=\"http://www.w3.org/1999/xlink\" width=\"400\" height=\"400\" viewBox=\"-200.0 -200.0 400 400\">\n",
       "<defs>\n",
       "</defs>\n",
       "<path d=\"M-1.1021821192326178e-13,-600.0 L-1.1940306291686692e-13,-650.0 A650,650,0,0,1,168.2323793166382,-627.8517870878944 L155.29142706151217,-579.5554957734411 A600,600,0,0,0,-1.1021821192326178e-13,-600.0 Z\" stroke=\"white\" stroke-width=\"0.5\"/>\n",
       "</svg>"
      ],
      "text/plain": [
       "<IPython.core.display.SVG object>"
      ]
     },
     "metadata": {},
     "output_type": "display_data"
    },
    {
     "name": "stdout",
     "output_type": "stream",
     "text": [
      "Displaying: tile_ring11_division19.svg\n"
     ]
    },
    {
     "data": {
      "image/svg+xml": [
       "<svg xmlns=\"http://www.w3.org/2000/svg\" xmlns:xlink=\"http://www.w3.org/1999/xlink\" width=\"400\" height=\"400\" viewBox=\"-200.0 -200.0 400 400\">\n",
       "<defs>\n",
       "</defs>\n",
       "<path d=\"M155.29142706151217,-579.5554957734411 L168.2323793166382,-627.8517870878944 A650,650,0,0,1,324.99999999999955,-562.9165124598853 L299.9999999999996,-519.6152422706634 A600,600,0,0,0,155.29142706151217,-579.5554957734411 Z\" stroke=\"white\" stroke-width=\"0.5\"/>\n",
       "</svg>"
      ],
      "text/plain": [
       "<IPython.core.display.SVG object>"
      ]
     },
     "metadata": {},
     "output_type": "display_data"
    },
    {
     "name": "stdout",
     "output_type": "stream",
     "text": [
      "Displaying: tile_ring11_division2.svg\n"
     ]
    },
    {
     "data": {
      "image/svg+xml": [
       "<svg xmlns=\"http://www.w3.org/2000/svg\" xmlns:xlink=\"http://www.w3.org/1999/xlink\" width=\"400\" height=\"400\" viewBox=\"-200.0 -200.0 400 400\">\n",
       "<defs>\n",
       "</defs>\n",
       "<path d=\"M519.6152422706632,299.99999999999994 L562.9165124598852,324.99999999999994 A650,650,0,0,1,459.6194077712559,459.61940777125585 L424.26406871192853,424.2640687119285 A600,600,0,0,0,519.6152422706632,299.99999999999994 Z\" stroke=\"white\" stroke-width=\"0.5\"/>\n",
       "</svg>"
      ],
      "text/plain": [
       "<IPython.core.display.SVG object>"
      ]
     },
     "metadata": {},
     "output_type": "display_data"
    },
    {
     "name": "stdout",
     "output_type": "stream",
     "text": [
      "Displaying: tile_ring11_division20.svg\n"
     ]
    },
    {
     "data": {
      "image/svg+xml": [
       "<svg xmlns=\"http://www.w3.org/2000/svg\" xmlns:xlink=\"http://www.w3.org/1999/xlink\" width=\"400\" height=\"400\" viewBox=\"-200.0 -200.0 400 400\">\n",
       "<defs>\n",
       "</defs>\n",
       "<path d=\"M299.9999999999996,-519.6152422706634 L324.99999999999955,-562.9165124598853 A650,650,0,0,1,459.6194077712558,-459.619407771256 L424.2640687119284,-424.2640687119286 A600,600,0,0,0,299.9999999999996,-519.6152422706634 Z\" stroke=\"white\" stroke-width=\"0.5\"/>\n",
       "</svg>"
      ],
      "text/plain": [
       "<IPython.core.display.SVG object>"
      ]
     },
     "metadata": {},
     "output_type": "display_data"
    },
    {
     "name": "stdout",
     "output_type": "stream",
     "text": [
      "Displaying: tile_ring11_division21.svg\n"
     ]
    },
    {
     "data": {
      "image/svg+xml": [
       "<svg xmlns=\"http://www.w3.org/2000/svg\" xmlns:xlink=\"http://www.w3.org/1999/xlink\" width=\"400\" height=\"400\" viewBox=\"-200.0 -200.0 400 400\">\n",
       "<defs>\n",
       "</defs>\n",
       "<path d=\"M424.2640687119284,-424.2640687119286 L459.6194077712558,-459.619407771256 A650,650,0,0,1,562.916512459885,-325.0000000000003 L519.615242270663,-300.0000000000003 A600,600,0,0,0,424.2640687119284,-424.2640687119286 Z\" stroke=\"white\" stroke-width=\"0.5\"/>\n",
       "</svg>"
      ],
      "text/plain": [
       "<IPython.core.display.SVG object>"
      ]
     },
     "metadata": {},
     "output_type": "display_data"
    },
    {
     "name": "stdout",
     "output_type": "stream",
     "text": [
      "Displaying: tile_ring11_division22.svg\n"
     ]
    },
    {
     "data": {
      "image/svg+xml": [
       "<svg xmlns=\"http://www.w3.org/2000/svg\" xmlns:xlink=\"http://www.w3.org/1999/xlink\" width=\"400\" height=\"400\" viewBox=\"-200.0 -200.0 400 400\">\n",
       "<defs>\n",
       "</defs>\n",
       "<path d=\"M519.615242270663,-300.0000000000003 L562.916512459885,-325.0000000000003 A650,650,0,0,1,627.8517870878943,-168.23237931663903 L579.5554957734408,-155.29142706151293 A600,600,0,0,0,519.615242270663,-300.0000000000003 Z\" stroke=\"white\" stroke-width=\"0.5\"/>\n",
       "</svg>"
      ],
      "text/plain": [
       "<IPython.core.display.SVG object>"
      ]
     },
     "metadata": {},
     "output_type": "display_data"
    },
    {
     "name": "stdout",
     "output_type": "stream",
     "text": [
      "Displaying: tile_ring11_division23.svg\n"
     ]
    },
    {
     "data": {
      "image/svg+xml": [
       "<svg xmlns=\"http://www.w3.org/2000/svg\" xmlns:xlink=\"http://www.w3.org/1999/xlink\" width=\"400\" height=\"400\" viewBox=\"-200.0 -200.0 400 400\">\n",
       "<defs>\n",
       "</defs>\n",
       "<path d=\"M579.5554957734408,-155.29142706151293 L627.8517870878943,-168.23237931663903 A650,650,0,0,1,650.0,-1.5920408388915592e-13 L600.0,-1.4695761589768238e-13 A600,600,0,0,0,579.5554957734408,-155.29142706151293 Z\" stroke=\"white\" stroke-width=\"0.5\"/>\n",
       "</svg>"
      ],
      "text/plain": [
       "<IPython.core.display.SVG object>"
      ]
     },
     "metadata": {},
     "output_type": "display_data"
    },
    {
     "name": "stdout",
     "output_type": "stream",
     "text": [
      "Displaying: tile_ring11_division3.svg\n"
     ]
    },
    {
     "data": {
      "image/svg+xml": [
       "<svg xmlns=\"http://www.w3.org/2000/svg\" xmlns:xlink=\"http://www.w3.org/1999/xlink\" width=\"400\" height=\"400\" viewBox=\"-200.0 -200.0 400 400\">\n",
       "<defs>\n",
       "</defs>\n",
       "<path d=\"M424.26406871192853,424.2640687119285 L459.6194077712559,459.61940777125585 A650,650,0,0,1,325.00000000000006,562.9165124598851 L300.00000000000006,519.6152422706632 A600,600,0,0,0,424.26406871192853,424.2640687119285 Z\" stroke=\"white\" stroke-width=\"0.5\"/>\n",
       "</svg>"
      ],
      "text/plain": [
       "<IPython.core.display.SVG object>"
      ]
     },
     "metadata": {},
     "output_type": "display_data"
    },
    {
     "name": "stdout",
     "output_type": "stream",
     "text": [
      "Displaying: tile_ring11_division4.svg\n"
     ]
    },
    {
     "data": {
      "image/svg+xml": [
       "<svg xmlns=\"http://www.w3.org/2000/svg\" xmlns:xlink=\"http://www.w3.org/1999/xlink\" width=\"400\" height=\"400\" viewBox=\"-200.0 -200.0 400 400\">\n",
       "<defs>\n",
       "</defs>\n",
       "<path d=\"M300.00000000000006,519.6152422706632 L325.00000000000006,562.9165124598851 A650,650,0,0,1,168.23237931663863,627.8517870878943 L155.29142706151256,579.555495773441 A600,600,0,0,0,300.00000000000006,519.6152422706632 Z\" stroke=\"white\" stroke-width=\"0.5\"/>\n",
       "</svg>"
      ],
      "text/plain": [
       "<IPython.core.display.SVG object>"
      ]
     },
     "metadata": {},
     "output_type": "display_data"
    },
    {
     "name": "stdout",
     "output_type": "stream",
     "text": [
      "Displaying: tile_ring11_division5.svg\n"
     ]
    },
    {
     "data": {
      "image/svg+xml": [
       "<svg xmlns=\"http://www.w3.org/2000/svg\" xmlns:xlink=\"http://www.w3.org/1999/xlink\" width=\"400\" height=\"400\" viewBox=\"-200.0 -200.0 400 400\">\n",
       "<defs>\n",
       "</defs>\n",
       "<path d=\"M155.29142706151256,579.555495773441 L168.23237931663863,627.8517870878943 A650,650,0,0,1,3.980102097228898e-14,650.0 L3.6739403974420595e-14,600.0 A600,600,0,0,0,155.29142706151256,579.555495773441 Z\" stroke=\"white\" stroke-width=\"0.5\"/>\n",
       "</svg>"
      ],
      "text/plain": [
       "<IPython.core.display.SVG object>"
      ]
     },
     "metadata": {},
     "output_type": "display_data"
    },
    {
     "name": "stdout",
     "output_type": "stream",
     "text": [
      "Displaying: tile_ring11_division6.svg\n"
     ]
    },
    {
     "data": {
      "image/svg+xml": [
       "<svg xmlns=\"http://www.w3.org/2000/svg\" xmlns:xlink=\"http://www.w3.org/1999/xlink\" width=\"400\" height=\"400\" viewBox=\"-200.0 -200.0 400 400\">\n",
       "<defs>\n",
       "</defs>\n",
       "<path d=\"M3.6739403974420595e-14,600.0 L3.980102097228898e-14,650.0 A650,650,0,0,1,-168.2323793166384,627.8517870878944 L-155.29142706151237,579.555495773441 A600,600,0,0,0,3.6739403974420595e-14,600.0 Z\" stroke=\"white\" stroke-width=\"0.5\"/>\n",
       "</svg>"
      ],
      "text/plain": [
       "<IPython.core.display.SVG object>"
      ]
     },
     "metadata": {},
     "output_type": "display_data"
    },
    {
     "name": "stdout",
     "output_type": "stream",
     "text": [
      "Displaying: tile_ring11_division7.svg\n"
     ]
    },
    {
     "data": {
      "image/svg+xml": [
       "<svg xmlns=\"http://www.w3.org/2000/svg\" xmlns:xlink=\"http://www.w3.org/1999/xlink\" width=\"400\" height=\"400\" viewBox=\"-200.0 -200.0 400 400\">\n",
       "<defs>\n",
       "</defs>\n",
       "<path d=\"M-155.29142706151237,579.555495773441 L-168.2323793166384,627.8517870878944 A650,650,0,0,1,-324.9999999999999,562.9165124598852 L-299.9999999999999,519.6152422706632 A600,600,0,0,0,-155.29142706151237,579.555495773441 Z\" stroke=\"white\" stroke-width=\"0.5\"/>\n",
       "</svg>"
      ],
      "text/plain": [
       "<IPython.core.display.SVG object>"
      ]
     },
     "metadata": {},
     "output_type": "display_data"
    },
    {
     "name": "stdout",
     "output_type": "stream",
     "text": [
      "Displaying: tile_ring11_division8.svg\n"
     ]
    },
    {
     "data": {
      "image/svg+xml": [
       "<svg xmlns=\"http://www.w3.org/2000/svg\" xmlns:xlink=\"http://www.w3.org/1999/xlink\" width=\"400\" height=\"400\" viewBox=\"-200.0 -200.0 400 400\">\n",
       "<defs>\n",
       "</defs>\n",
       "<path d=\"M-299.9999999999999,519.6152422706632 L-324.9999999999999,562.9165124598852 A650,650,0,0,1,-459.61940777125585,459.6194077712559 L-424.2640687119285,424.26406871192853 A600,600,0,0,0,-299.9999999999999,519.6152422706632 Z\" stroke=\"white\" stroke-width=\"0.5\"/>\n",
       "</svg>"
      ],
      "text/plain": [
       "<IPython.core.display.SVG object>"
      ]
     },
     "metadata": {},
     "output_type": "display_data"
    },
    {
     "name": "stdout",
     "output_type": "stream",
     "text": [
      "Displaying: tile_ring11_division9.svg\n"
     ]
    },
    {
     "data": {
      "image/svg+xml": [
       "<svg xmlns=\"http://www.w3.org/2000/svg\" xmlns:xlink=\"http://www.w3.org/1999/xlink\" width=\"400\" height=\"400\" viewBox=\"-200.0 -200.0 400 400\">\n",
       "<defs>\n",
       "</defs>\n",
       "<path d=\"M-424.2640687119285,424.26406871192853 L-459.61940777125585,459.6194077712559 A650,650,0,0,1,-562.916512459885,325.0000000000002 L-519.6152422706631,300.0000000000002 A600,600,0,0,0,-424.2640687119285,424.26406871192853 Z\" stroke=\"white\" stroke-width=\"0.5\"/>\n",
       "</svg>"
      ],
      "text/plain": [
       "<IPython.core.display.SVG object>"
      ]
     },
     "metadata": {},
     "output_type": "display_data"
    },
    {
     "name": "stdout",
     "output_type": "stream",
     "text": [
      "Displaying: tile_ring12_division0.svg\n"
     ]
    },
    {
     "data": {
      "image/svg+xml": [
       "<svg xmlns=\"http://www.w3.org/2000/svg\" xmlns:xlink=\"http://www.w3.org/1999/xlink\" width=\"400\" height=\"400\" viewBox=\"-200.0 -200.0 400 400\">\n",
       "<defs>\n",
       "</defs>\n",
       "<path d=\"M650.0,0.0 L700.0,0.0 A700,700,0,0,1,676.1480784023478,181.17333157176452 L627.8517870878944,168.2323793166385 A650,650,0,0,0,650.0,0.0 Z\" stroke=\"white\" stroke-width=\"0.5\"/>\n",
       "</svg>"
      ],
      "text/plain": [
       "<IPython.core.display.SVG object>"
      ]
     },
     "metadata": {},
     "output_type": "display_data"
    },
    {
     "name": "stdout",
     "output_type": "stream",
     "text": [
      "Displaying: tile_ring12_division1.svg\n"
     ]
    },
    {
     "data": {
      "image/svg+xml": [
       "<svg xmlns=\"http://www.w3.org/2000/svg\" xmlns:xlink=\"http://www.w3.org/1999/xlink\" width=\"400\" height=\"400\" viewBox=\"-200.0 -200.0 400 400\">\n",
       "<defs>\n",
       "</defs>\n",
       "<path d=\"M627.8517870878944,168.2323793166385 L676.1480784023478,181.17333157176452 A700,700,0,0,1,606.2177826491071,349.99999999999994 L562.9165124598852,324.99999999999994 A650,650,0,0,0,627.8517870878944,168.2323793166385 Z\" stroke=\"white\" stroke-width=\"0.5\"/>\n",
       "</svg>"
      ],
      "text/plain": [
       "<IPython.core.display.SVG object>"
      ]
     },
     "metadata": {},
     "output_type": "display_data"
    },
    {
     "name": "stdout",
     "output_type": "stream",
     "text": [
      "Displaying: tile_ring12_division10.svg\n"
     ]
    },
    {
     "data": {
      "image/svg+xml": [
       "<svg xmlns=\"http://www.w3.org/2000/svg\" xmlns:xlink=\"http://www.w3.org/1999/xlink\" width=\"400\" height=\"400\" viewBox=\"-200.0 -200.0 400 400\">\n",
       "<defs>\n",
       "</defs>\n",
       "<path d=\"M-562.916512459885,325.0000000000002 L-606.217782649107,350.0000000000002 A700,700,0,0,1,-676.1480784023478,181.17333157176472 L-627.8517870878943,168.23237931663866 A650,650,0,0,0,-562.916512459885,325.0000000000002 Z\" stroke=\"white\" stroke-width=\"0.5\"/>\n",
       "</svg>"
      ],
      "text/plain": [
       "<IPython.core.display.SVG object>"
      ]
     },
     "metadata": {},
     "output_type": "display_data"
    },
    {
     "name": "stdout",
     "output_type": "stream",
     "text": [
      "Displaying: tile_ring12_division11.svg\n"
     ]
    },
    {
     "data": {
      "image/svg+xml": [
       "<svg xmlns=\"http://www.w3.org/2000/svg\" xmlns:xlink=\"http://www.w3.org/1999/xlink\" width=\"400\" height=\"400\" viewBox=\"-200.0 -200.0 400 400\">\n",
       "<defs>\n",
       "</defs>\n",
       "<path d=\"M-627.8517870878943,168.23237931663866 L-676.1480784023478,181.17333157176472 A700,700,0,0,1,-700.0,8.572527594031473e-14 L-650.0,7.960204194457796e-14 A650,650,0,0,0,-627.8517870878943,168.23237931663866 Z\" stroke=\"white\" stroke-width=\"0.5\"/>\n",
       "</svg>"
      ],
      "text/plain": [
       "<IPython.core.display.SVG object>"
      ]
     },
     "metadata": {},
     "output_type": "display_data"
    },
    {
     "name": "stdout",
     "output_type": "stream",
     "text": [
      "Displaying: tile_ring12_division12.svg\n"
     ]
    },
    {
     "data": {
      "image/svg+xml": [
       "<svg xmlns=\"http://www.w3.org/2000/svg\" xmlns:xlink=\"http://www.w3.org/1999/xlink\" width=\"400\" height=\"400\" viewBox=\"-200.0 -200.0 400 400\">\n",
       "<defs>\n",
       "</defs>\n",
       "<path d=\"M-650.0,7.960204194457796e-14 L-700.0,8.572527594031473e-14 A700,700,0,0,1,-676.1480784023479,-181.17333157176424 L-627.8517870878944,-168.23237931663823 A650,650,0,0,0,-650.0,7.960204194457796e-14 Z\" stroke=\"white\" stroke-width=\"0.5\"/>\n",
       "</svg>"
      ],
      "text/plain": [
       "<IPython.core.display.SVG object>"
      ]
     },
     "metadata": {},
     "output_type": "display_data"
    },
    {
     "name": "stdout",
     "output_type": "stream",
     "text": [
      "Displaying: tile_ring12_division13.svg\n"
     ]
    },
    {
     "data": {
      "image/svg+xml": [
       "<svg xmlns=\"http://www.w3.org/2000/svg\" xmlns:xlink=\"http://www.w3.org/1999/xlink\" width=\"400\" height=\"400\" viewBox=\"-200.0 -200.0 400 400\">\n",
       "<defs>\n",
       "</defs>\n",
       "<path d=\"M-627.8517870878944,-168.23237931663823 L-676.1480784023479,-181.17333157176424 A700,700,0,0,1,-606.2177826491072,-349.99999999999983 L-562.9165124598852,-324.99999999999983 A650,650,0,0,0,-627.8517870878944,-168.23237931663823 Z\" stroke=\"white\" stroke-width=\"0.5\"/>\n",
       "</svg>"
      ],
      "text/plain": [
       "<IPython.core.display.SVG object>"
      ]
     },
     "metadata": {},
     "output_type": "display_data"
    },
    {
     "name": "stdout",
     "output_type": "stream",
     "text": [
      "Displaying: tile_ring12_division14.svg\n"
     ]
    },
    {
     "data": {
      "image/svg+xml": [
       "<svg xmlns=\"http://www.w3.org/2000/svg\" xmlns:xlink=\"http://www.w3.org/1999/xlink\" width=\"400\" height=\"400\" viewBox=\"-200.0 -200.0 400 400\">\n",
       "<defs>\n",
       "</defs>\n",
       "<path d=\"M-562.9165124598852,-324.99999999999983 L-606.2177826491072,-349.99999999999983 A700,700,0,0,1,-494.9747468305835,-494.974746830583 L-459.61940777125614,-459.6194077712556 A650,650,0,0,0,-562.9165124598852,-324.99999999999983 Z\" stroke=\"white\" stroke-width=\"0.5\"/>\n",
       "</svg>"
      ],
      "text/plain": [
       "<IPython.core.display.SVG object>"
      ]
     },
     "metadata": {},
     "output_type": "display_data"
    },
    {
     "name": "stdout",
     "output_type": "stream",
     "text": [
      "Displaying: tile_ring12_division15.svg\n"
     ]
    },
    {
     "data": {
      "image/svg+xml": [
       "<svg xmlns=\"http://www.w3.org/2000/svg\" xmlns:xlink=\"http://www.w3.org/1999/xlink\" width=\"400\" height=\"400\" viewBox=\"-200.0 -200.0 400 400\">\n",
       "<defs>\n",
       "</defs>\n",
       "<path d=\"M-459.61940777125614,-459.6194077712556 L-494.9747468305835,-494.974746830583 A700,700,0,0,1,-350.0000000000003,-606.2177826491069 L-325.0000000000003,-562.916512459885 A650,650,0,0,0,-459.61940777125614,-459.6194077712556 Z\" stroke=\"white\" stroke-width=\"0.5\"/>\n",
       "</svg>"
      ],
      "text/plain": [
       "<IPython.core.display.SVG object>"
      ]
     },
     "metadata": {},
     "output_type": "display_data"
    },
    {
     "name": "stdout",
     "output_type": "stream",
     "text": [
      "Displaying: tile_ring12_division16.svg\n"
     ]
    },
    {
     "data": {
      "image/svg+xml": [
       "<svg xmlns=\"http://www.w3.org/2000/svg\" xmlns:xlink=\"http://www.w3.org/1999/xlink\" width=\"400\" height=\"400\" viewBox=\"-200.0 -200.0 400 400\">\n",
       "<defs>\n",
       "</defs>\n",
       "<path d=\"M-325.0000000000003,-562.916512459885 L-350.0000000000003,-606.2177826491069 A700,700,0,0,1,-181.17333157176506,-676.1480784023477 L-168.232379316639,-627.8517870878943 A650,650,0,0,0,-325.0000000000003,-562.916512459885 Z\" stroke=\"white\" stroke-width=\"0.5\"/>\n",
       "</svg>"
      ],
      "text/plain": [
       "<IPython.core.display.SVG object>"
      ]
     },
     "metadata": {},
     "output_type": "display_data"
    },
    {
     "name": "stdout",
     "output_type": "stream",
     "text": [
      "Displaying: tile_ring12_division17.svg\n"
     ]
    },
    {
     "data": {
      "image/svg+xml": [
       "<svg xmlns=\"http://www.w3.org/2000/svg\" xmlns:xlink=\"http://www.w3.org/1999/xlink\" width=\"400\" height=\"400\" viewBox=\"-200.0 -200.0 400 400\">\n",
       "<defs>\n",
       "</defs>\n",
       "<path d=\"M-168.232379316639,-627.8517870878943 L-181.17333157176506,-676.1480784023477 A700,700,0,0,1,-1.2858791391047208e-13,-700.0 L-1.1940306291686692e-13,-650.0 A650,650,0,0,0,-168.232379316639,-627.8517870878943 Z\" stroke=\"white\" stroke-width=\"0.5\"/>\n",
       "</svg>"
      ],
      "text/plain": [
       "<IPython.core.display.SVG object>"
      ]
     },
     "metadata": {},
     "output_type": "display_data"
    },
    {
     "name": "stdout",
     "output_type": "stream",
     "text": [
      "Displaying: tile_ring12_division18.svg\n"
     ]
    },
    {
     "data": {
      "image/svg+xml": [
       "<svg xmlns=\"http://www.w3.org/2000/svg\" xmlns:xlink=\"http://www.w3.org/1999/xlink\" width=\"400\" height=\"400\" viewBox=\"-200.0 -200.0 400 400\">\n",
       "<defs>\n",
       "</defs>\n",
       "<path d=\"M-1.1940306291686692e-13,-650.0 L-1.2858791391047208e-13,-700.0 A700,700,0,0,1,181.1733315717642,-676.1480784023479 L168.2323793166382,-627.8517870878944 A650,650,0,0,0,-1.1940306291686692e-13,-650.0 Z\" stroke=\"white\" stroke-width=\"0.5\"/>\n",
       "</svg>"
      ],
      "text/plain": [
       "<IPython.core.display.SVG object>"
      ]
     },
     "metadata": {},
     "output_type": "display_data"
    },
    {
     "name": "stdout",
     "output_type": "stream",
     "text": [
      "Displaying: tile_ring12_division19.svg\n"
     ]
    },
    {
     "data": {
      "image/svg+xml": [
       "<svg xmlns=\"http://www.w3.org/2000/svg\" xmlns:xlink=\"http://www.w3.org/1999/xlink\" width=\"400\" height=\"400\" viewBox=\"-200.0 -200.0 400 400\">\n",
       "<defs>\n",
       "</defs>\n",
       "<path d=\"M168.2323793166382,-627.8517870878944 L181.1733315717642,-676.1480784023479 A700,700,0,0,1,349.99999999999955,-606.2177826491073 L324.99999999999955,-562.9165124598853 A650,650,0,0,0,168.2323793166382,-627.8517870878944 Z\" stroke=\"white\" stroke-width=\"0.5\"/>\n",
       "</svg>"
      ],
      "text/plain": [
       "<IPython.core.display.SVG object>"
      ]
     },
     "metadata": {},
     "output_type": "display_data"
    },
    {
     "name": "stdout",
     "output_type": "stream",
     "text": [
      "Displaying: tile_ring12_division2.svg\n"
     ]
    },
    {
     "data": {
      "image/svg+xml": [
       "<svg xmlns=\"http://www.w3.org/2000/svg\" xmlns:xlink=\"http://www.w3.org/1999/xlink\" width=\"400\" height=\"400\" viewBox=\"-200.0 -200.0 400 400\">\n",
       "<defs>\n",
       "</defs>\n",
       "<path d=\"M562.9165124598852,324.99999999999994 L606.2177826491071,349.99999999999994 A700,700,0,0,1,494.9747468305833,494.97474683058323 L459.6194077712559,459.61940777125585 A650,650,0,0,0,562.9165124598852,324.99999999999994 Z\" stroke=\"white\" stroke-width=\"0.5\"/>\n",
       "</svg>"
      ],
      "text/plain": [
       "<IPython.core.display.SVG object>"
      ]
     },
     "metadata": {},
     "output_type": "display_data"
    },
    {
     "name": "stdout",
     "output_type": "stream",
     "text": [
      "Displaying: tile_ring12_division20.svg\n"
     ]
    },
    {
     "data": {
      "image/svg+xml": [
       "<svg xmlns=\"http://www.w3.org/2000/svg\" xmlns:xlink=\"http://www.w3.org/1999/xlink\" width=\"400\" height=\"400\" viewBox=\"-200.0 -200.0 400 400\">\n",
       "<defs>\n",
       "</defs>\n",
       "<path d=\"M324.99999999999955,-562.9165124598853 L349.99999999999955,-606.2177826491073 A700,700,0,0,1,494.9747468305832,-494.9747468305834 L459.6194077712558,-459.619407771256 A650,650,0,0,0,324.99999999999955,-562.9165124598853 Z\" stroke=\"white\" stroke-width=\"0.5\"/>\n",
       "</svg>"
      ],
      "text/plain": [
       "<IPython.core.display.SVG object>"
      ]
     },
     "metadata": {},
     "output_type": "display_data"
    },
    {
     "name": "stdout",
     "output_type": "stream",
     "text": [
      "Displaying: tile_ring12_division21.svg\n"
     ]
    },
    {
     "data": {
      "image/svg+xml": [
       "<svg xmlns=\"http://www.w3.org/2000/svg\" xmlns:xlink=\"http://www.w3.org/1999/xlink\" width=\"400\" height=\"400\" viewBox=\"-200.0 -200.0 400 400\">\n",
       "<defs>\n",
       "</defs>\n",
       "<path d=\"M459.6194077712558,-459.619407771256 L494.9747468305832,-494.9747468305834 A700,700,0,0,1,606.2177826491069,-350.0000000000003 L562.916512459885,-325.0000000000003 A650,650,0,0,0,459.6194077712558,-459.619407771256 Z\" stroke=\"white\" stroke-width=\"0.5\"/>\n",
       "</svg>"
      ],
      "text/plain": [
       "<IPython.core.display.SVG object>"
      ]
     },
     "metadata": {},
     "output_type": "display_data"
    },
    {
     "name": "stdout",
     "output_type": "stream",
     "text": [
      "Displaying: tile_ring12_division22.svg\n"
     ]
    },
    {
     "data": {
      "image/svg+xml": [
       "<svg xmlns=\"http://www.w3.org/2000/svg\" xmlns:xlink=\"http://www.w3.org/1999/xlink\" width=\"400\" height=\"400\" viewBox=\"-200.0 -200.0 400 400\">\n",
       "<defs>\n",
       "</defs>\n",
       "<path d=\"M562.916512459885,-325.0000000000003 L606.2177826491069,-350.0000000000003 A700,700,0,0,1,676.1480784023477,-181.1733315717651 L627.8517870878943,-168.23237931663903 A650,650,0,0,0,562.916512459885,-325.0000000000003 Z\" stroke=\"white\" stroke-width=\"0.5\"/>\n",
       "</svg>"
      ],
      "text/plain": [
       "<IPython.core.display.SVG object>"
      ]
     },
     "metadata": {},
     "output_type": "display_data"
    },
    {
     "name": "stdout",
     "output_type": "stream",
     "text": [
      "Displaying: tile_ring12_division23.svg\n"
     ]
    },
    {
     "data": {
      "image/svg+xml": [
       "<svg xmlns=\"http://www.w3.org/2000/svg\" xmlns:xlink=\"http://www.w3.org/1999/xlink\" width=\"400\" height=\"400\" viewBox=\"-200.0 -200.0 400 400\">\n",
       "<defs>\n",
       "</defs>\n",
       "<path d=\"M627.8517870878943,-168.23237931663903 L676.1480784023477,-181.1733315717651 A700,700,0,0,1,700.0,-1.7145055188062946e-13 L650.0,-1.5920408388915592e-13 A650,650,0,0,0,627.8517870878943,-168.23237931663903 Z\" stroke=\"white\" stroke-width=\"0.5\"/>\n",
       "</svg>"
      ],
      "text/plain": [
       "<IPython.core.display.SVG object>"
      ]
     },
     "metadata": {},
     "output_type": "display_data"
    },
    {
     "name": "stdout",
     "output_type": "stream",
     "text": [
      "Displaying: tile_ring12_division3.svg\n"
     ]
    },
    {
     "data": {
      "image/svg+xml": [
       "<svg xmlns=\"http://www.w3.org/2000/svg\" xmlns:xlink=\"http://www.w3.org/1999/xlink\" width=\"400\" height=\"400\" viewBox=\"-200.0 -200.0 400 400\">\n",
       "<defs>\n",
       "</defs>\n",
       "<path d=\"M459.6194077712559,459.61940777125585 L494.9747468305833,494.97474683058323 A700,700,0,0,1,350.00000000000006,606.217782649107 L325.00000000000006,562.9165124598851 A650,650,0,0,0,459.6194077712559,459.61940777125585 Z\" stroke=\"white\" stroke-width=\"0.5\"/>\n",
       "</svg>"
      ],
      "text/plain": [
       "<IPython.core.display.SVG object>"
      ]
     },
     "metadata": {},
     "output_type": "display_data"
    },
    {
     "name": "stdout",
     "output_type": "stream",
     "text": [
      "Displaying: tile_ring12_division4.svg\n"
     ]
    },
    {
     "data": {
      "image/svg+xml": [
       "<svg xmlns=\"http://www.w3.org/2000/svg\" xmlns:xlink=\"http://www.w3.org/1999/xlink\" width=\"400\" height=\"400\" viewBox=\"-200.0 -200.0 400 400\">\n",
       "<defs>\n",
       "</defs>\n",
       "<path d=\"M325.00000000000006,562.9165124598851 L350.00000000000006,606.217782649107 A700,700,0,0,1,181.17333157176466,676.1480784023478 L168.23237931663863,627.8517870878943 A650,650,0,0,0,325.00000000000006,562.9165124598851 Z\" stroke=\"white\" stroke-width=\"0.5\"/>\n",
       "</svg>"
      ],
      "text/plain": [
       "<IPython.core.display.SVG object>"
      ]
     },
     "metadata": {},
     "output_type": "display_data"
    },
    {
     "name": "stdout",
     "output_type": "stream",
     "text": [
      "Displaying: tile_ring12_division5.svg\n"
     ]
    },
    {
     "data": {
      "image/svg+xml": [
       "<svg xmlns=\"http://www.w3.org/2000/svg\" xmlns:xlink=\"http://www.w3.org/1999/xlink\" width=\"400\" height=\"400\" viewBox=\"-200.0 -200.0 400 400\">\n",
       "<defs>\n",
       "</defs>\n",
       "<path d=\"M168.23237931663863,627.8517870878943 L181.17333157176466,676.1480784023478 A700,700,0,0,1,4.2862637970157365e-14,700.0 L3.980102097228898e-14,650.0 A650,650,0,0,0,168.23237931663863,627.8517870878943 Z\" stroke=\"white\" stroke-width=\"0.5\"/>\n",
       "</svg>"
      ],
      "text/plain": [
       "<IPython.core.display.SVG object>"
      ]
     },
     "metadata": {},
     "output_type": "display_data"
    },
    {
     "name": "stdout",
     "output_type": "stream",
     "text": [
      "Displaying: tile_ring12_division6.svg\n"
     ]
    },
    {
     "data": {
      "image/svg+xml": [
       "<svg xmlns=\"http://www.w3.org/2000/svg\" xmlns:xlink=\"http://www.w3.org/1999/xlink\" width=\"400\" height=\"400\" viewBox=\"-200.0 -200.0 400 400\">\n",
       "<defs>\n",
       "</defs>\n",
       "<path d=\"M3.980102097228898e-14,650.0 L4.2862637970157365e-14,700.0 A700,700,0,0,1,-181.17333157176444,676.1480784023478 L-168.2323793166384,627.8517870878944 A650,650,0,0,0,3.980102097228898e-14,650.0 Z\" stroke=\"white\" stroke-width=\"0.5\"/>\n",
       "</svg>"
      ],
      "text/plain": [
       "<IPython.core.display.SVG object>"
      ]
     },
     "metadata": {},
     "output_type": "display_data"
    },
    {
     "name": "stdout",
     "output_type": "stream",
     "text": [
      "Displaying: tile_ring12_division7.svg\n"
     ]
    },
    {
     "data": {
      "image/svg+xml": [
       "<svg xmlns=\"http://www.w3.org/2000/svg\" xmlns:xlink=\"http://www.w3.org/1999/xlink\" width=\"400\" height=\"400\" viewBox=\"-200.0 -200.0 400 400\">\n",
       "<defs>\n",
       "</defs>\n",
       "<path d=\"M-168.2323793166384,627.8517870878944 L-181.17333157176444,676.1480784023478 A700,700,0,0,1,-349.9999999999999,606.2177826491071 L-324.9999999999999,562.9165124598852 A650,650,0,0,0,-168.2323793166384,627.8517870878944 Z\" stroke=\"white\" stroke-width=\"0.5\"/>\n",
       "</svg>"
      ],
      "text/plain": [
       "<IPython.core.display.SVG object>"
      ]
     },
     "metadata": {},
     "output_type": "display_data"
    },
    {
     "name": "stdout",
     "output_type": "stream",
     "text": [
      "Displaying: tile_ring12_division8.svg\n"
     ]
    },
    {
     "data": {
      "image/svg+xml": [
       "<svg xmlns=\"http://www.w3.org/2000/svg\" xmlns:xlink=\"http://www.w3.org/1999/xlink\" width=\"400\" height=\"400\" viewBox=\"-200.0 -200.0 400 400\">\n",
       "<defs>\n",
       "</defs>\n",
       "<path d=\"M-324.9999999999999,562.9165124598852 L-349.9999999999999,606.2177826491071 A700,700,0,0,1,-494.97474683058323,494.9747468305833 L-459.61940777125585,459.6194077712559 A650,650,0,0,0,-324.9999999999999,562.9165124598852 Z\" stroke=\"white\" stroke-width=\"0.5\"/>\n",
       "</svg>"
      ],
      "text/plain": [
       "<IPython.core.display.SVG object>"
      ]
     },
     "metadata": {},
     "output_type": "display_data"
    },
    {
     "name": "stdout",
     "output_type": "stream",
     "text": [
      "Displaying: tile_ring12_division9.svg\n"
     ]
    },
    {
     "data": {
      "image/svg+xml": [
       "<svg xmlns=\"http://www.w3.org/2000/svg\" xmlns:xlink=\"http://www.w3.org/1999/xlink\" width=\"400\" height=\"400\" viewBox=\"-200.0 -200.0 400 400\">\n",
       "<defs>\n",
       "</defs>\n",
       "<path d=\"M-459.61940777125585,459.6194077712559 L-494.97474683058323,494.9747468305833 A700,700,0,0,1,-606.217782649107,350.0000000000002 L-562.916512459885,325.0000000000002 A650,650,0,0,0,-459.61940777125585,459.6194077712559 Z\" stroke=\"white\" stroke-width=\"0.5\"/>\n",
       "</svg>"
      ],
      "text/plain": [
       "<IPython.core.display.SVG object>"
      ]
     },
     "metadata": {},
     "output_type": "display_data"
    },
    {
     "name": "stdout",
     "output_type": "stream",
     "text": [
      "Displaying: tile_ring13_division0.svg\n"
     ]
    },
    {
     "data": {
      "image/svg+xml": [
       "<svg xmlns=\"http://www.w3.org/2000/svg\" xmlns:xlink=\"http://www.w3.org/1999/xlink\" width=\"400\" height=\"400\" viewBox=\"-200.0 -200.0 400 400\">\n",
       "<defs>\n",
       "</defs>\n",
       "<path d=\"M700.0,0.0 L750.0,0.0 A750,750,0,0,1,724.4443697168012,194.11428382689056 L676.1480784023478,181.17333157176452 A700,700,0,0,0,700.0,0.0 Z\" stroke=\"white\" stroke-width=\"0.5\"/>\n",
       "</svg>"
      ],
      "text/plain": [
       "<IPython.core.display.SVG object>"
      ]
     },
     "metadata": {},
     "output_type": "display_data"
    },
    {
     "name": "stdout",
     "output_type": "stream",
     "text": [
      "Displaying: tile_ring13_division1.svg\n"
     ]
    },
    {
     "data": {
      "image/svg+xml": [
       "<svg xmlns=\"http://www.w3.org/2000/svg\" xmlns:xlink=\"http://www.w3.org/1999/xlink\" width=\"400\" height=\"400\" viewBox=\"-200.0 -200.0 400 400\">\n",
       "<defs>\n",
       "</defs>\n",
       "<path d=\"M676.1480784023478,181.17333157176452 L724.4443697168012,194.11428382689056 A750,750,0,0,1,649.519052838329,374.99999999999994 L606.2177826491071,349.99999999999994 A700,700,0,0,0,676.1480784023478,181.17333157176452 Z\" stroke=\"white\" stroke-width=\"0.5\"/>\n",
       "</svg>"
      ],
      "text/plain": [
       "<IPython.core.display.SVG object>"
      ]
     },
     "metadata": {},
     "output_type": "display_data"
    },
    {
     "name": "stdout",
     "output_type": "stream",
     "text": [
      "Displaying: tile_ring13_division10.svg\n"
     ]
    },
    {
     "data": {
      "image/svg+xml": [
       "<svg xmlns=\"http://www.w3.org/2000/svg\" xmlns:xlink=\"http://www.w3.org/1999/xlink\" width=\"400\" height=\"400\" viewBox=\"-200.0 -200.0 400 400\">\n",
       "<defs>\n",
       "</defs>\n",
       "<path d=\"M-606.217782649107,350.0000000000002 L-649.5190528383289,375.0000000000002 A750,750,0,0,1,-724.4443697168011,194.11428382689076 L-676.1480784023478,181.17333157176472 A700,700,0,0,0,-606.217782649107,350.0000000000002 Z\" stroke=\"white\" stroke-width=\"0.5\"/>\n",
       "</svg>"
      ],
      "text/plain": [
       "<IPython.core.display.SVG object>"
      ]
     },
     "metadata": {},
     "output_type": "display_data"
    },
    {
     "name": "stdout",
     "output_type": "stream",
     "text": [
      "Displaying: tile_ring13_division11.svg\n"
     ]
    },
    {
     "data": {
      "image/svg+xml": [
       "<svg xmlns=\"http://www.w3.org/2000/svg\" xmlns:xlink=\"http://www.w3.org/1999/xlink\" width=\"400\" height=\"400\" viewBox=\"-200.0 -200.0 400 400\">\n",
       "<defs>\n",
       "</defs>\n",
       "<path d=\"M-676.1480784023478,181.17333157176472 L-724.4443697168011,194.11428382689076 A750,750,0,0,1,-750.0,9.184850993605149e-14 L-700.0,8.572527594031473e-14 A700,700,0,0,0,-676.1480784023478,181.17333157176472 Z\" stroke=\"white\" stroke-width=\"0.5\"/>\n",
       "</svg>"
      ],
      "text/plain": [
       "<IPython.core.display.SVG object>"
      ]
     },
     "metadata": {},
     "output_type": "display_data"
    },
    {
     "name": "stdout",
     "output_type": "stream",
     "text": [
      "Displaying: tile_ring13_division12.svg\n"
     ]
    },
    {
     "data": {
      "image/svg+xml": [
       "<svg xmlns=\"http://www.w3.org/2000/svg\" xmlns:xlink=\"http://www.w3.org/1999/xlink\" width=\"400\" height=\"400\" viewBox=\"-200.0 -200.0 400 400\">\n",
       "<defs>\n",
       "</defs>\n",
       "<path d=\"M-700.0,8.572527594031473e-14 L-750.0,9.184850993605149e-14 A750,750,0,0,1,-724.4443697168014,-194.11428382689027 L-676.1480784023479,-181.17333157176424 A700,700,0,0,0,-700.0,8.572527594031473e-14 Z\" stroke=\"white\" stroke-width=\"0.5\"/>\n",
       "</svg>"
      ],
      "text/plain": [
       "<IPython.core.display.SVG object>"
      ]
     },
     "metadata": {},
     "output_type": "display_data"
    },
    {
     "name": "stdout",
     "output_type": "stream",
     "text": [
      "Displaying: tile_ring13_division13.svg\n"
     ]
    },
    {
     "data": {
      "image/svg+xml": [
       "<svg xmlns=\"http://www.w3.org/2000/svg\" xmlns:xlink=\"http://www.w3.org/1999/xlink\" width=\"400\" height=\"400\" viewBox=\"-200.0 -200.0 400 400\">\n",
       "<defs>\n",
       "</defs>\n",
       "<path d=\"M-676.1480784023479,-181.17333157176424 L-724.4443697168014,-194.11428382689027 A750,750,0,0,1,-649.5190528383291,-374.99999999999983 L-606.2177826491072,-349.99999999999983 A700,700,0,0,0,-676.1480784023479,-181.17333157176424 Z\" stroke=\"white\" stroke-width=\"0.5\"/>\n",
       "</svg>"
      ],
      "text/plain": [
       "<IPython.core.display.SVG object>"
      ]
     },
     "metadata": {},
     "output_type": "display_data"
    },
    {
     "name": "stdout",
     "output_type": "stream",
     "text": [
      "Displaying: tile_ring13_division14.svg\n"
     ]
    },
    {
     "data": {
      "image/svg+xml": [
       "<svg xmlns=\"http://www.w3.org/2000/svg\" xmlns:xlink=\"http://www.w3.org/1999/xlink\" width=\"400\" height=\"400\" viewBox=\"-200.0 -200.0 400 400\">\n",
       "<defs>\n",
       "</defs>\n",
       "<path d=\"M-606.2177826491072,-349.99999999999983 L-649.5190528383291,-374.99999999999983 A750,750,0,0,1,-530.330085889911,-530.3300858899104 L-494.9747468305835,-494.974746830583 A700,700,0,0,0,-606.2177826491072,-349.99999999999983 Z\" stroke=\"white\" stroke-width=\"0.5\"/>\n",
       "</svg>"
      ],
      "text/plain": [
       "<IPython.core.display.SVG object>"
      ]
     },
     "metadata": {},
     "output_type": "display_data"
    },
    {
     "name": "stdout",
     "output_type": "stream",
     "text": [
      "Displaying: tile_ring13_division15.svg\n"
     ]
    },
    {
     "data": {
      "image/svg+xml": [
       "<svg xmlns=\"http://www.w3.org/2000/svg\" xmlns:xlink=\"http://www.w3.org/1999/xlink\" width=\"400\" height=\"400\" viewBox=\"-200.0 -200.0 400 400\">\n",
       "<defs>\n",
       "</defs>\n",
       "<path d=\"M-494.9747468305835,-494.974746830583 L-530.330085889911,-530.3300858899104 A750,750,0,0,1,-375.00000000000034,-649.5190528383288 L-350.0000000000003,-606.2177826491069 A700,700,0,0,0,-494.9747468305835,-494.974746830583 Z\" stroke=\"white\" stroke-width=\"0.5\"/>\n",
       "</svg>"
      ],
      "text/plain": [
       "<IPython.core.display.SVG object>"
      ]
     },
     "metadata": {},
     "output_type": "display_data"
    },
    {
     "name": "stdout",
     "output_type": "stream",
     "text": [
      "Displaying: tile_ring13_division16.svg\n"
     ]
    },
    {
     "data": {
      "image/svg+xml": [
       "<svg xmlns=\"http://www.w3.org/2000/svg\" xmlns:xlink=\"http://www.w3.org/1999/xlink\" width=\"400\" height=\"400\" viewBox=\"-200.0 -200.0 400 400\">\n",
       "<defs>\n",
       "</defs>\n",
       "<path d=\"M-350.0000000000003,-606.2177826491069 L-375.00000000000034,-649.5190528383288 A750,750,0,0,1,-194.11428382689112,-724.444369716801 L-181.17333157176506,-676.1480784023477 A700,700,0,0,0,-350.0000000000003,-606.2177826491069 Z\" stroke=\"white\" stroke-width=\"0.5\"/>\n",
       "</svg>"
      ],
      "text/plain": [
       "<IPython.core.display.SVG object>"
      ]
     },
     "metadata": {},
     "output_type": "display_data"
    },
    {
     "name": "stdout",
     "output_type": "stream",
     "text": [
      "Displaying: tile_ring13_division17.svg\n"
     ]
    },
    {
     "data": {
      "image/svg+xml": [
       "<svg xmlns=\"http://www.w3.org/2000/svg\" xmlns:xlink=\"http://www.w3.org/1999/xlink\" width=\"400\" height=\"400\" viewBox=\"-200.0 -200.0 400 400\">\n",
       "<defs>\n",
       "</defs>\n",
       "<path d=\"M-181.17333157176506,-676.1480784023477 L-194.11428382689112,-724.444369716801 A750,750,0,0,1,-1.3777276490407722e-13,-750.0 L-1.2858791391047208e-13,-700.0 A700,700,0,0,0,-181.17333157176506,-676.1480784023477 Z\" stroke=\"white\" stroke-width=\"0.5\"/>\n",
       "</svg>"
      ],
      "text/plain": [
       "<IPython.core.display.SVG object>"
      ]
     },
     "metadata": {},
     "output_type": "display_data"
    },
    {
     "name": "stdout",
     "output_type": "stream",
     "text": [
      "Displaying: tile_ring13_division18.svg\n"
     ]
    },
    {
     "data": {
      "image/svg+xml": [
       "<svg xmlns=\"http://www.w3.org/2000/svg\" xmlns:xlink=\"http://www.w3.org/1999/xlink\" width=\"400\" height=\"400\" viewBox=\"-200.0 -200.0 400 400\">\n",
       "<defs>\n",
       "</defs>\n",
       "<path d=\"M-1.2858791391047208e-13,-700.0 L-1.3777276490407722e-13,-750.0 A750,750,0,0,1,194.11428382689022,-724.4443697168014 L181.1733315717642,-676.1480784023479 A700,700,0,0,0,-1.2858791391047208e-13,-700.0 Z\" stroke=\"white\" stroke-width=\"0.5\"/>\n",
       "</svg>"
      ],
      "text/plain": [
       "<IPython.core.display.SVG object>"
      ]
     },
     "metadata": {},
     "output_type": "display_data"
    },
    {
     "name": "stdout",
     "output_type": "stream",
     "text": [
      "Displaying: tile_ring13_division19.svg\n"
     ]
    },
    {
     "data": {
      "image/svg+xml": [
       "<svg xmlns=\"http://www.w3.org/2000/svg\" xmlns:xlink=\"http://www.w3.org/1999/xlink\" width=\"400\" height=\"400\" viewBox=\"-200.0 -200.0 400 400\">\n",
       "<defs>\n",
       "</defs>\n",
       "<path d=\"M181.1733315717642,-676.1480784023479 L194.11428382689022,-724.4443697168014 A750,750,0,0,1,374.9999999999995,-649.5190528383292 L349.99999999999955,-606.2177826491073 A700,700,0,0,0,181.1733315717642,-676.1480784023479 Z\" stroke=\"white\" stroke-width=\"0.5\"/>\n",
       "</svg>"
      ],
      "text/plain": [
       "<IPython.core.display.SVG object>"
      ]
     },
     "metadata": {},
     "output_type": "display_data"
    },
    {
     "name": "stdout",
     "output_type": "stream",
     "text": [
      "Displaying: tile_ring13_division2.svg\n"
     ]
    },
    {
     "data": {
      "image/svg+xml": [
       "<svg xmlns=\"http://www.w3.org/2000/svg\" xmlns:xlink=\"http://www.w3.org/1999/xlink\" width=\"400\" height=\"400\" viewBox=\"-200.0 -200.0 400 400\">\n",
       "<defs>\n",
       "</defs>\n",
       "<path d=\"M606.2177826491071,349.99999999999994 L649.519052838329,374.99999999999994 A750,750,0,0,1,530.3300858899107,530.3300858899106 L494.9747468305833,494.97474683058323 A700,700,0,0,0,606.2177826491071,349.99999999999994 Z\" stroke=\"white\" stroke-width=\"0.5\"/>\n",
       "</svg>"
      ],
      "text/plain": [
       "<IPython.core.display.SVG object>"
      ]
     },
     "metadata": {},
     "output_type": "display_data"
    },
    {
     "name": "stdout",
     "output_type": "stream",
     "text": [
      "Displaying: tile_ring13_division20.svg\n"
     ]
    },
    {
     "data": {
      "image/svg+xml": [
       "<svg xmlns=\"http://www.w3.org/2000/svg\" xmlns:xlink=\"http://www.w3.org/1999/xlink\" width=\"400\" height=\"400\" viewBox=\"-200.0 -200.0 400 400\">\n",
       "<defs>\n",
       "</defs>\n",
       "<path d=\"M349.99999999999955,-606.2177826491073 L374.9999999999995,-649.5190528383292 A750,750,0,0,1,530.3300858899105,-530.3300858899107 L494.9747468305832,-494.9747468305834 A700,700,0,0,0,349.99999999999955,-606.2177826491073 Z\" stroke=\"white\" stroke-width=\"0.5\"/>\n",
       "</svg>"
      ],
      "text/plain": [
       "<IPython.core.display.SVG object>"
      ]
     },
     "metadata": {},
     "output_type": "display_data"
    },
    {
     "name": "stdout",
     "output_type": "stream",
     "text": [
      "Displaying: tile_ring13_division21.svg\n"
     ]
    },
    {
     "data": {
      "image/svg+xml": [
       "<svg xmlns=\"http://www.w3.org/2000/svg\" xmlns:xlink=\"http://www.w3.org/1999/xlink\" width=\"400\" height=\"400\" viewBox=\"-200.0 -200.0 400 400\">\n",
       "<defs>\n",
       "</defs>\n",
       "<path d=\"M494.9747468305832,-494.9747468305834 L530.3300858899105,-530.3300858899107 A750,750,0,0,1,649.5190528383288,-375.00000000000034 L606.2177826491069,-350.0000000000003 A700,700,0,0,0,494.9747468305832,-494.9747468305834 Z\" stroke=\"white\" stroke-width=\"0.5\"/>\n",
       "</svg>"
      ],
      "text/plain": [
       "<IPython.core.display.SVG object>"
      ]
     },
     "metadata": {},
     "output_type": "display_data"
    },
    {
     "name": "stdout",
     "output_type": "stream",
     "text": [
      "Displaying: tile_ring13_division22.svg\n"
     ]
    },
    {
     "data": {
      "image/svg+xml": [
       "<svg xmlns=\"http://www.w3.org/2000/svg\" xmlns:xlink=\"http://www.w3.org/1999/xlink\" width=\"400\" height=\"400\" viewBox=\"-200.0 -200.0 400 400\">\n",
       "<defs>\n",
       "</defs>\n",
       "<path d=\"M606.2177826491069,-350.0000000000003 L649.5190528383288,-375.00000000000034 A750,750,0,0,1,724.444369716801,-194.11428382689118 L676.1480784023477,-181.1733315717651 A700,700,0,0,0,606.2177826491069,-350.0000000000003 Z\" stroke=\"white\" stroke-width=\"0.5\"/>\n",
       "</svg>"
      ],
      "text/plain": [
       "<IPython.core.display.SVG object>"
      ]
     },
     "metadata": {},
     "output_type": "display_data"
    },
    {
     "name": "stdout",
     "output_type": "stream",
     "text": [
      "Displaying: tile_ring13_division23.svg\n"
     ]
    },
    {
     "data": {
      "image/svg+xml": [
       "<svg xmlns=\"http://www.w3.org/2000/svg\" xmlns:xlink=\"http://www.w3.org/1999/xlink\" width=\"400\" height=\"400\" viewBox=\"-200.0 -200.0 400 400\">\n",
       "<defs>\n",
       "</defs>\n",
       "<path d=\"M676.1480784023477,-181.1733315717651 L724.444369716801,-194.11428382689118 A750,750,0,0,1,750.0,-1.8369701987210297e-13 L700.0,-1.7145055188062946e-13 A700,700,0,0,0,676.1480784023477,-181.1733315717651 Z\" stroke=\"white\" stroke-width=\"0.5\"/>\n",
       "</svg>"
      ],
      "text/plain": [
       "<IPython.core.display.SVG object>"
      ]
     },
     "metadata": {},
     "output_type": "display_data"
    },
    {
     "name": "stdout",
     "output_type": "stream",
     "text": [
      "Displaying: tile_ring13_division3.svg\n"
     ]
    },
    {
     "data": {
      "image/svg+xml": [
       "<svg xmlns=\"http://www.w3.org/2000/svg\" xmlns:xlink=\"http://www.w3.org/1999/xlink\" width=\"400\" height=\"400\" viewBox=\"-200.0 -200.0 400 400\">\n",
       "<defs>\n",
       "</defs>\n",
       "<path d=\"M494.9747468305833,494.97474683058323 L530.3300858899107,530.3300858899106 A750,750,0,0,1,375.00000000000006,649.519052838329 L350.00000000000006,606.217782649107 A700,700,0,0,0,494.9747468305833,494.97474683058323 Z\" stroke=\"white\" stroke-width=\"0.5\"/>\n",
       "</svg>"
      ],
      "text/plain": [
       "<IPython.core.display.SVG object>"
      ]
     },
     "metadata": {},
     "output_type": "display_data"
    },
    {
     "name": "stdout",
     "output_type": "stream",
     "text": [
      "Displaying: tile_ring13_division4.svg\n"
     ]
    },
    {
     "data": {
      "image/svg+xml": [
       "<svg xmlns=\"http://www.w3.org/2000/svg\" xmlns:xlink=\"http://www.w3.org/1999/xlink\" width=\"400\" height=\"400\" viewBox=\"-200.0 -200.0 400 400\">\n",
       "<defs>\n",
       "</defs>\n",
       "<path d=\"M350.00000000000006,606.217782649107 L375.00000000000006,649.519052838329 A750,750,0,0,1,194.11428382689073,724.4443697168011 L181.17333157176466,676.1480784023478 A700,700,0,0,0,350.00000000000006,606.217782649107 Z\" stroke=\"white\" stroke-width=\"0.5\"/>\n",
       "</svg>"
      ],
      "text/plain": [
       "<IPython.core.display.SVG object>"
      ]
     },
     "metadata": {},
     "output_type": "display_data"
    },
    {
     "name": "stdout",
     "output_type": "stream",
     "text": [
      "Displaying: tile_ring13_division5.svg\n"
     ]
    },
    {
     "data": {
      "image/svg+xml": [
       "<svg xmlns=\"http://www.w3.org/2000/svg\" xmlns:xlink=\"http://www.w3.org/1999/xlink\" width=\"400\" height=\"400\" viewBox=\"-200.0 -200.0 400 400\">\n",
       "<defs>\n",
       "</defs>\n",
       "<path d=\"M181.17333157176466,676.1480784023478 L194.11428382689073,724.4443697168011 A750,750,0,0,1,4.5924254968025744e-14,750.0 L4.2862637970157365e-14,700.0 A700,700,0,0,0,181.17333157176466,676.1480784023478 Z\" stroke=\"white\" stroke-width=\"0.5\"/>\n",
       "</svg>"
      ],
      "text/plain": [
       "<IPython.core.display.SVG object>"
      ]
     },
     "metadata": {},
     "output_type": "display_data"
    },
    {
     "name": "stdout",
     "output_type": "stream",
     "text": [
      "Displaying: tile_ring13_division6.svg\n"
     ]
    },
    {
     "data": {
      "image/svg+xml": [
       "<svg xmlns=\"http://www.w3.org/2000/svg\" xmlns:xlink=\"http://www.w3.org/1999/xlink\" width=\"400\" height=\"400\" viewBox=\"-200.0 -200.0 400 400\">\n",
       "<defs>\n",
       "</defs>\n",
       "<path d=\"M4.2862637970157365e-14,700.0 L4.5924254968025744e-14,750.0 A750,750,0,0,1,-194.11428382689047,724.4443697168012 L-181.17333157176444,676.1480784023478 A700,700,0,0,0,4.2862637970157365e-14,700.0 Z\" stroke=\"white\" stroke-width=\"0.5\"/>\n",
       "</svg>"
      ],
      "text/plain": [
       "<IPython.core.display.SVG object>"
      ]
     },
     "metadata": {},
     "output_type": "display_data"
    },
    {
     "name": "stdout",
     "output_type": "stream",
     "text": [
      "Displaying: tile_ring13_division7.svg\n"
     ]
    },
    {
     "data": {
      "image/svg+xml": [
       "<svg xmlns=\"http://www.w3.org/2000/svg\" xmlns:xlink=\"http://www.w3.org/1999/xlink\" width=\"400\" height=\"400\" viewBox=\"-200.0 -200.0 400 400\">\n",
       "<defs>\n",
       "</defs>\n",
       "<path d=\"M-181.17333157176444,676.1480784023478 L-194.11428382689047,724.4443697168012 A750,750,0,0,1,-374.9999999999999,649.519052838329 L-349.9999999999999,606.2177826491071 A700,700,0,0,0,-181.17333157176444,676.1480784023478 Z\" stroke=\"white\" stroke-width=\"0.5\"/>\n",
       "</svg>"
      ],
      "text/plain": [
       "<IPython.core.display.SVG object>"
      ]
     },
     "metadata": {},
     "output_type": "display_data"
    },
    {
     "name": "stdout",
     "output_type": "stream",
     "text": [
      "Displaying: tile_ring13_division8.svg\n"
     ]
    },
    {
     "data": {
      "image/svg+xml": [
       "<svg xmlns=\"http://www.w3.org/2000/svg\" xmlns:xlink=\"http://www.w3.org/1999/xlink\" width=\"400\" height=\"400\" viewBox=\"-200.0 -200.0 400 400\">\n",
       "<defs>\n",
       "</defs>\n",
       "<path d=\"M-349.9999999999999,606.2177826491071 L-374.9999999999999,649.519052838329 A750,750,0,0,1,-530.3300858899106,530.3300858899107 L-494.97474683058323,494.9747468305833 A700,700,0,0,0,-349.9999999999999,606.2177826491071 Z\" stroke=\"white\" stroke-width=\"0.5\"/>\n",
       "</svg>"
      ],
      "text/plain": [
       "<IPython.core.display.SVG object>"
      ]
     },
     "metadata": {},
     "output_type": "display_data"
    },
    {
     "name": "stdout",
     "output_type": "stream",
     "text": [
      "Displaying: tile_ring13_division9.svg\n"
     ]
    },
    {
     "data": {
      "image/svg+xml": [
       "<svg xmlns=\"http://www.w3.org/2000/svg\" xmlns:xlink=\"http://www.w3.org/1999/xlink\" width=\"400\" height=\"400\" viewBox=\"-200.0 -200.0 400 400\">\n",
       "<defs>\n",
       "</defs>\n",
       "<path d=\"M-494.97474683058323,494.9747468305833 L-530.3300858899106,530.3300858899107 A750,750,0,0,1,-649.5190528383289,375.0000000000002 L-606.217782649107,350.0000000000002 A700,700,0,0,0,-494.97474683058323,494.9747468305833 Z\" stroke=\"white\" stroke-width=\"0.5\"/>\n",
       "</svg>"
      ],
      "text/plain": [
       "<IPython.core.display.SVG object>"
      ]
     },
     "metadata": {},
     "output_type": "display_data"
    },
    {
     "name": "stdout",
     "output_type": "stream",
     "text": [
      "Displaying: tile_ring14_division0.svg\n"
     ]
    },
    {
     "data": {
      "image/svg+xml": [
       "<svg xmlns=\"http://www.w3.org/2000/svg\" xmlns:xlink=\"http://www.w3.org/1999/xlink\" width=\"400\" height=\"400\" viewBox=\"-200.0 -200.0 400 400\">\n",
       "<defs>\n",
       "</defs>\n",
       "<path d=\"M750.0,0.0 L800.0,0.0 A800,800,0,0,1,772.7406610312546,207.0552360820166 L724.4443697168012,194.11428382689056 A750,750,0,0,0,750.0,0.0 Z\" stroke=\"white\" stroke-width=\"0.5\"/>\n",
       "</svg>"
      ],
      "text/plain": [
       "<IPython.core.display.SVG object>"
      ]
     },
     "metadata": {},
     "output_type": "display_data"
    },
    {
     "name": "stdout",
     "output_type": "stream",
     "text": [
      "Displaying: tile_ring14_division1.svg\n"
     ]
    },
    {
     "data": {
      "image/svg+xml": [
       "<svg xmlns=\"http://www.w3.org/2000/svg\" xmlns:xlink=\"http://www.w3.org/1999/xlink\" width=\"400\" height=\"400\" viewBox=\"-200.0 -200.0 400 400\">\n",
       "<defs>\n",
       "</defs>\n",
       "<path d=\"M724.4443697168012,194.11428382689056 L772.7406610312546,207.0552360820166 A800,800,0,0,1,692.820323027551,399.99999999999994 L649.519052838329,374.99999999999994 A750,750,0,0,0,724.4443697168012,194.11428382689056 Z\" stroke=\"white\" stroke-width=\"0.5\"/>\n",
       "</svg>"
      ],
      "text/plain": [
       "<IPython.core.display.SVG object>"
      ]
     },
     "metadata": {},
     "output_type": "display_data"
    },
    {
     "name": "stdout",
     "output_type": "stream",
     "text": [
      "Displaying: tile_ring14_division10.svg\n"
     ]
    },
    {
     "data": {
      "image/svg+xml": [
       "<svg xmlns=\"http://www.w3.org/2000/svg\" xmlns:xlink=\"http://www.w3.org/1999/xlink\" width=\"400\" height=\"400\" viewBox=\"-200.0 -200.0 400 400\">\n",
       "<defs>\n",
       "</defs>\n",
       "<path d=\"M-649.5190528383289,375.0000000000002 L-692.8203230275508,400.0000000000003 A800,800,0,0,1,-772.7406610312546,207.05523608201682 L-724.4443697168011,194.11428382689076 A750,750,0,0,0,-649.5190528383289,375.0000000000002 Z\" stroke=\"white\" stroke-width=\"0.5\"/>\n",
       "</svg>"
      ],
      "text/plain": [
       "<IPython.core.display.SVG object>"
      ]
     },
     "metadata": {},
     "output_type": "display_data"
    },
    {
     "name": "stdout",
     "output_type": "stream",
     "text": [
      "Displaying: tile_ring14_division11.svg\n"
     ]
    },
    {
     "data": {
      "image/svg+xml": [
       "<svg xmlns=\"http://www.w3.org/2000/svg\" xmlns:xlink=\"http://www.w3.org/1999/xlink\" width=\"400\" height=\"400\" viewBox=\"-200.0 -200.0 400 400\">\n",
       "<defs>\n",
       "</defs>\n",
       "<path d=\"M-724.4443697168011,194.11428382689076 L-772.7406610312546,207.05523608201682 A800,800,0,0,1,-800.0,9.797174393178826e-14 L-750.0,9.184850993605149e-14 A750,750,0,0,0,-724.4443697168011,194.11428382689076 Z\" stroke=\"white\" stroke-width=\"0.5\"/>\n",
       "</svg>"
      ],
      "text/plain": [
       "<IPython.core.display.SVG object>"
      ]
     },
     "metadata": {},
     "output_type": "display_data"
    },
    {
     "name": "stdout",
     "output_type": "stream",
     "text": [
      "Displaying: tile_ring14_division12.svg\n"
     ]
    },
    {
     "data": {
      "image/svg+xml": [
       "<svg xmlns=\"http://www.w3.org/2000/svg\" xmlns:xlink=\"http://www.w3.org/1999/xlink\" width=\"400\" height=\"400\" viewBox=\"-200.0 -200.0 400 400\">\n",
       "<defs>\n",
       "</defs>\n",
       "<path d=\"M-750.0,9.184850993605149e-14 L-800.0,9.797174393178826e-14 A800,800,0,0,1,-772.7406610312547,-207.05523608201628 L-724.4443697168014,-194.11428382689027 A750,750,0,0,0,-750.0,9.184850993605149e-14 Z\" stroke=\"white\" stroke-width=\"0.5\"/>\n",
       "</svg>"
      ],
      "text/plain": [
       "<IPython.core.display.SVG object>"
      ]
     },
     "metadata": {},
     "output_type": "display_data"
    },
    {
     "name": "stdout",
     "output_type": "stream",
     "text": [
      "Displaying: tile_ring14_division13.svg\n"
     ]
    },
    {
     "data": {
      "image/svg+xml": [
       "<svg xmlns=\"http://www.w3.org/2000/svg\" xmlns:xlink=\"http://www.w3.org/1999/xlink\" width=\"400\" height=\"400\" viewBox=\"-200.0 -200.0 400 400\">\n",
       "<defs>\n",
       "</defs>\n",
       "<path d=\"M-724.4443697168014,-194.11428382689027 L-772.7406610312547,-207.05523608201628 A800,800,0,0,1,-692.820323027551,-399.99999999999983 L-649.5190528383291,-374.99999999999983 A750,750,0,0,0,-724.4443697168014,-194.11428382689027 Z\" stroke=\"white\" stroke-width=\"0.5\"/>\n",
       "</svg>"
      ],
      "text/plain": [
       "<IPython.core.display.SVG object>"
      ]
     },
     "metadata": {},
     "output_type": "display_data"
    },
    {
     "name": "stdout",
     "output_type": "stream",
     "text": [
      "Displaying: tile_ring14_division14.svg\n"
     ]
    },
    {
     "data": {
      "image/svg+xml": [
       "<svg xmlns=\"http://www.w3.org/2000/svg\" xmlns:xlink=\"http://www.w3.org/1999/xlink\" width=\"400\" height=\"400\" viewBox=\"-200.0 -200.0 400 400\">\n",
       "<defs>\n",
       "</defs>\n",
       "<path d=\"M-649.5190528383291,-374.99999999999983 L-692.820323027551,-399.99999999999983 A800,800,0,0,1,-565.6854249492383,-565.6854249492377 L-530.330085889911,-530.3300858899104 A750,750,0,0,0,-649.5190528383291,-374.99999999999983 Z\" stroke=\"white\" stroke-width=\"0.5\"/>\n",
       "</svg>"
      ],
      "text/plain": [
       "<IPython.core.display.SVG object>"
      ]
     },
     "metadata": {},
     "output_type": "display_data"
    },
    {
     "name": "stdout",
     "output_type": "stream",
     "text": [
      "Displaying: tile_ring14_division15.svg\n"
     ]
    },
    {
     "data": {
      "image/svg+xml": [
       "<svg xmlns=\"http://www.w3.org/2000/svg\" xmlns:xlink=\"http://www.w3.org/1999/xlink\" width=\"400\" height=\"400\" viewBox=\"-200.0 -200.0 400 400\">\n",
       "<defs>\n",
       "</defs>\n",
       "<path d=\"M-530.330085889911,-530.3300858899104 L-565.6854249492383,-565.6854249492377 A800,800,0,0,1,-400.00000000000034,-692.8203230275507 L-375.00000000000034,-649.5190528383288 A750,750,0,0,0,-530.330085889911,-530.3300858899104 Z\" stroke=\"white\" stroke-width=\"0.5\"/>\n",
       "</svg>"
      ],
      "text/plain": [
       "<IPython.core.display.SVG object>"
      ]
     },
     "metadata": {},
     "output_type": "display_data"
    },
    {
     "name": "stdout",
     "output_type": "stream",
     "text": [
      "Displaying: tile_ring14_division16.svg\n"
     ]
    },
    {
     "data": {
      "image/svg+xml": [
       "<svg xmlns=\"http://www.w3.org/2000/svg\" xmlns:xlink=\"http://www.w3.org/1999/xlink\" width=\"400\" height=\"400\" viewBox=\"-200.0 -200.0 400 400\">\n",
       "<defs>\n",
       "</defs>\n",
       "<path d=\"M-375.00000000000034,-649.5190528383288 L-400.00000000000034,-692.8203230275507 A800,800,0,0,1,-207.05523608201722,-772.7406610312545 L-194.11428382689112,-724.444369716801 A750,750,0,0,0,-375.00000000000034,-649.5190528383288 Z\" stroke=\"white\" stroke-width=\"0.5\"/>\n",
       "</svg>"
      ],
      "text/plain": [
       "<IPython.core.display.SVG object>"
      ]
     },
     "metadata": {},
     "output_type": "display_data"
    },
    {
     "name": "stdout",
     "output_type": "stream",
     "text": [
      "Displaying: tile_ring14_division17.svg\n"
     ]
    },
    {
     "data": {
      "image/svg+xml": [
       "<svg xmlns=\"http://www.w3.org/2000/svg\" xmlns:xlink=\"http://www.w3.org/1999/xlink\" width=\"400\" height=\"400\" viewBox=\"-200.0 -200.0 400 400\">\n",
       "<defs>\n",
       "</defs>\n",
       "<path d=\"M-194.11428382689112,-724.444369716801 L-207.05523608201722,-772.7406610312545 A800,800,0,0,1,-1.4695761589768238e-13,-800.0 L-1.3777276490407722e-13,-750.0 A750,750,0,0,0,-194.11428382689112,-724.444369716801 Z\" stroke=\"white\" stroke-width=\"0.5\"/>\n",
       "</svg>"
      ],
      "text/plain": [
       "<IPython.core.display.SVG object>"
      ]
     },
     "metadata": {},
     "output_type": "display_data"
    },
    {
     "name": "stdout",
     "output_type": "stream",
     "text": [
      "Displaying: tile_ring14_division18.svg\n"
     ]
    },
    {
     "data": {
      "image/svg+xml": [
       "<svg xmlns=\"http://www.w3.org/2000/svg\" xmlns:xlink=\"http://www.w3.org/1999/xlink\" width=\"400\" height=\"400\" viewBox=\"-200.0 -200.0 400 400\">\n",
       "<defs>\n",
       "</defs>\n",
       "<path d=\"M-1.3777276490407722e-13,-750.0 L-1.4695761589768238e-13,-800.0 A800,800,0,0,1,207.05523608201622,-772.7406610312547 L194.11428382689022,-724.4443697168014 A750,750,0,0,0,-1.3777276490407722e-13,-750.0 Z\" stroke=\"white\" stroke-width=\"0.5\"/>\n",
       "</svg>"
      ],
      "text/plain": [
       "<IPython.core.display.SVG object>"
      ]
     },
     "metadata": {},
     "output_type": "display_data"
    },
    {
     "name": "stdout",
     "output_type": "stream",
     "text": [
      "Displaying: tile_ring14_division19.svg\n"
     ]
    },
    {
     "data": {
      "image/svg+xml": [
       "<svg xmlns=\"http://www.w3.org/2000/svg\" xmlns:xlink=\"http://www.w3.org/1999/xlink\" width=\"400\" height=\"400\" viewBox=\"-200.0 -200.0 400 400\">\n",
       "<defs>\n",
       "</defs>\n",
       "<path d=\"M194.11428382689022,-724.4443697168014 L207.05523608201622,-772.7406610312547 A800,800,0,0,1,399.9999999999995,-692.8203230275512 L374.9999999999995,-649.5190528383292 A750,750,0,0,0,194.11428382689022,-724.4443697168014 Z\" stroke=\"white\" stroke-width=\"0.5\"/>\n",
       "</svg>"
      ],
      "text/plain": [
       "<IPython.core.display.SVG object>"
      ]
     },
     "metadata": {},
     "output_type": "display_data"
    },
    {
     "name": "stdout",
     "output_type": "stream",
     "text": [
      "Displaying: tile_ring14_division2.svg\n"
     ]
    },
    {
     "data": {
      "image/svg+xml": [
       "<svg xmlns=\"http://www.w3.org/2000/svg\" xmlns:xlink=\"http://www.w3.org/1999/xlink\" width=\"400\" height=\"400\" viewBox=\"-200.0 -200.0 400 400\">\n",
       "<defs>\n",
       "</defs>\n",
       "<path d=\"M649.519052838329,374.99999999999994 L692.820323027551,399.99999999999994 A800,800,0,0,1,565.685424949238,565.6854249492379 L530.3300858899107,530.3300858899106 A750,750,0,0,0,649.519052838329,374.99999999999994 Z\" stroke=\"white\" stroke-width=\"0.5\"/>\n",
       "</svg>"
      ],
      "text/plain": [
       "<IPython.core.display.SVG object>"
      ]
     },
     "metadata": {},
     "output_type": "display_data"
    },
    {
     "name": "stdout",
     "output_type": "stream",
     "text": [
      "Displaying: tile_ring14_division20.svg\n"
     ]
    },
    {
     "data": {
      "image/svg+xml": [
       "<svg xmlns=\"http://www.w3.org/2000/svg\" xmlns:xlink=\"http://www.w3.org/1999/xlink\" width=\"400\" height=\"400\" viewBox=\"-200.0 -200.0 400 400\">\n",
       "<defs>\n",
       "</defs>\n",
       "<path d=\"M374.9999999999995,-649.5190528383292 L399.9999999999995,-692.8203230275512 A800,800,0,0,1,565.6854249492379,-565.6854249492382 L530.3300858899105,-530.3300858899107 A750,750,0,0,0,374.9999999999995,-649.5190528383292 Z\" stroke=\"white\" stroke-width=\"0.5\"/>\n",
       "</svg>"
      ],
      "text/plain": [
       "<IPython.core.display.SVG object>"
      ]
     },
     "metadata": {},
     "output_type": "display_data"
    },
    {
     "name": "stdout",
     "output_type": "stream",
     "text": [
      "Displaying: tile_ring14_division21.svg\n"
     ]
    },
    {
     "data": {
      "image/svg+xml": [
       "<svg xmlns=\"http://www.w3.org/2000/svg\" xmlns:xlink=\"http://www.w3.org/1999/xlink\" width=\"400\" height=\"400\" viewBox=\"-200.0 -200.0 400 400\">\n",
       "<defs>\n",
       "</defs>\n",
       "<path d=\"M530.3300858899105,-530.3300858899107 L565.6854249492379,-565.6854249492382 A800,800,0,0,1,692.8203230275507,-400.00000000000034 L649.5190528383288,-375.00000000000034 A750,750,0,0,0,530.3300858899105,-530.3300858899107 Z\" stroke=\"white\" stroke-width=\"0.5\"/>\n",
       "</svg>"
      ],
      "text/plain": [
       "<IPython.core.display.SVG object>"
      ]
     },
     "metadata": {},
     "output_type": "display_data"
    },
    {
     "name": "stdout",
     "output_type": "stream",
     "text": [
      "Displaying: tile_ring14_division22.svg\n"
     ]
    },
    {
     "data": {
      "image/svg+xml": [
       "<svg xmlns=\"http://www.w3.org/2000/svg\" xmlns:xlink=\"http://www.w3.org/1999/xlink\" width=\"400\" height=\"400\" viewBox=\"-200.0 -200.0 400 400\">\n",
       "<defs>\n",
       "</defs>\n",
       "<path d=\"M649.5190528383288,-375.00000000000034 L692.8203230275507,-400.00000000000034 A800,800,0,0,1,772.7406610312545,-207.05523608201725 L724.444369716801,-194.11428382689118 A750,750,0,0,0,649.5190528383288,-375.00000000000034 Z\" stroke=\"white\" stroke-width=\"0.5\"/>\n",
       "</svg>"
      ],
      "text/plain": [
       "<IPython.core.display.SVG object>"
      ]
     },
     "metadata": {},
     "output_type": "display_data"
    },
    {
     "name": "stdout",
     "output_type": "stream",
     "text": [
      "Displaying: tile_ring14_division23.svg\n"
     ]
    },
    {
     "data": {
      "image/svg+xml": [
       "<svg xmlns=\"http://www.w3.org/2000/svg\" xmlns:xlink=\"http://www.w3.org/1999/xlink\" width=\"400\" height=\"400\" viewBox=\"-200.0 -200.0 400 400\">\n",
       "<defs>\n",
       "</defs>\n",
       "<path d=\"M724.444369716801,-194.11428382689118 L772.7406610312545,-207.05523608201725 A800,800,0,0,1,800.0,-1.9594348786357651e-13 L750.0,-1.8369701987210297e-13 A750,750,0,0,0,724.444369716801,-194.11428382689118 Z\" stroke=\"white\" stroke-width=\"0.5\"/>\n",
       "</svg>"
      ],
      "text/plain": [
       "<IPython.core.display.SVG object>"
      ]
     },
     "metadata": {},
     "output_type": "display_data"
    },
    {
     "name": "stdout",
     "output_type": "stream",
     "text": [
      "Displaying: tile_ring14_division3.svg\n"
     ]
    },
    {
     "data": {
      "image/svg+xml": [
       "<svg xmlns=\"http://www.w3.org/2000/svg\" xmlns:xlink=\"http://www.w3.org/1999/xlink\" width=\"400\" height=\"400\" viewBox=\"-200.0 -200.0 400 400\">\n",
       "<defs>\n",
       "</defs>\n",
       "<path d=\"M530.3300858899107,530.3300858899106 L565.685424949238,565.6854249492379 A800,800,0,0,1,400.0000000000001,692.8203230275509 L375.00000000000006,649.519052838329 A750,750,0,0,0,530.3300858899107,530.3300858899106 Z\" stroke=\"white\" stroke-width=\"0.5\"/>\n",
       "</svg>"
      ],
      "text/plain": [
       "<IPython.core.display.SVG object>"
      ]
     },
     "metadata": {},
     "output_type": "display_data"
    },
    {
     "name": "stdout",
     "output_type": "stream",
     "text": [
      "Displaying: tile_ring14_division4.svg\n"
     ]
    },
    {
     "data": {
      "image/svg+xml": [
       "<svg xmlns=\"http://www.w3.org/2000/svg\" xmlns:xlink=\"http://www.w3.org/1999/xlink\" width=\"400\" height=\"400\" viewBox=\"-200.0 -200.0 400 400\">\n",
       "<defs>\n",
       "</defs>\n",
       "<path d=\"M375.00000000000006,649.519052838329 L400.0000000000001,692.8203230275509 A800,800,0,0,1,207.05523608201676,772.7406610312546 L194.11428382689073,724.4443697168011 A750,750,0,0,0,375.00000000000006,649.519052838329 Z\" stroke=\"white\" stroke-width=\"0.5\"/>\n",
       "</svg>"
      ],
      "text/plain": [
       "<IPython.core.display.SVG object>"
      ]
     },
     "metadata": {},
     "output_type": "display_data"
    },
    {
     "name": "stdout",
     "output_type": "stream",
     "text": [
      "Displaying: tile_ring14_division5.svg\n"
     ]
    },
    {
     "data": {
      "image/svg+xml": [
       "<svg xmlns=\"http://www.w3.org/2000/svg\" xmlns:xlink=\"http://www.w3.org/1999/xlink\" width=\"400\" height=\"400\" viewBox=\"-200.0 -200.0 400 400\">\n",
       "<defs>\n",
       "</defs>\n",
       "<path d=\"M194.11428382689073,724.4443697168011 L207.05523608201676,772.7406610312546 A800,800,0,0,1,4.898587196589413e-14,800.0 L4.5924254968025744e-14,750.0 A750,750,0,0,0,194.11428382689073,724.4443697168011 Z\" stroke=\"white\" stroke-width=\"0.5\"/>\n",
       "</svg>"
      ],
      "text/plain": [
       "<IPython.core.display.SVG object>"
      ]
     },
     "metadata": {},
     "output_type": "display_data"
    },
    {
     "name": "stdout",
     "output_type": "stream",
     "text": [
      "Displaying: tile_ring14_division6.svg\n"
     ]
    },
    {
     "data": {
      "image/svg+xml": [
       "<svg xmlns=\"http://www.w3.org/2000/svg\" xmlns:xlink=\"http://www.w3.org/1999/xlink\" width=\"400\" height=\"400\" viewBox=\"-200.0 -200.0 400 400\">\n",
       "<defs>\n",
       "</defs>\n",
       "<path d=\"M4.5924254968025744e-14,750.0 L4.898587196589413e-14,800.0 A800,800,0,0,1,-207.0552360820165,772.7406610312546 L-194.11428382689047,724.4443697168012 A750,750,0,0,0,4.5924254968025744e-14,750.0 Z\" stroke=\"white\" stroke-width=\"0.5\"/>\n",
       "</svg>"
      ],
      "text/plain": [
       "<IPython.core.display.SVG object>"
      ]
     },
     "metadata": {},
     "output_type": "display_data"
    },
    {
     "name": "stdout",
     "output_type": "stream",
     "text": [
      "Displaying: tile_ring14_division7.svg\n"
     ]
    },
    {
     "data": {
      "image/svg+xml": [
       "<svg xmlns=\"http://www.w3.org/2000/svg\" xmlns:xlink=\"http://www.w3.org/1999/xlink\" width=\"400\" height=\"400\" viewBox=\"-200.0 -200.0 400 400\">\n",
       "<defs>\n",
       "</defs>\n",
       "<path d=\"M-194.11428382689047,724.4443697168012 L-207.0552360820165,772.7406610312546 A800,800,0,0,1,-399.9999999999999,692.820323027551 L-374.9999999999999,649.519052838329 A750,750,0,0,0,-194.11428382689047,724.4443697168012 Z\" stroke=\"white\" stroke-width=\"0.5\"/>\n",
       "</svg>"
      ],
      "text/plain": [
       "<IPython.core.display.SVG object>"
      ]
     },
     "metadata": {},
     "output_type": "display_data"
    },
    {
     "name": "stdout",
     "output_type": "stream",
     "text": [
      "Displaying: tile_ring14_division8.svg\n"
     ]
    },
    {
     "data": {
      "image/svg+xml": [
       "<svg xmlns=\"http://www.w3.org/2000/svg\" xmlns:xlink=\"http://www.w3.org/1999/xlink\" width=\"400\" height=\"400\" viewBox=\"-200.0 -200.0 400 400\">\n",
       "<defs>\n",
       "</defs>\n",
       "<path d=\"M-374.9999999999999,649.519052838329 L-399.9999999999999,692.820323027551 A800,800,0,0,1,-565.6854249492379,565.685424949238 L-530.3300858899106,530.3300858899107 A750,750,0,0,0,-374.9999999999999,649.519052838329 Z\" stroke=\"white\" stroke-width=\"0.5\"/>\n",
       "</svg>"
      ],
      "text/plain": [
       "<IPython.core.display.SVG object>"
      ]
     },
     "metadata": {},
     "output_type": "display_data"
    },
    {
     "name": "stdout",
     "output_type": "stream",
     "text": [
      "Displaying: tile_ring14_division9.svg\n"
     ]
    },
    {
     "data": {
      "image/svg+xml": [
       "<svg xmlns=\"http://www.w3.org/2000/svg\" xmlns:xlink=\"http://www.w3.org/1999/xlink\" width=\"400\" height=\"400\" viewBox=\"-200.0 -200.0 400 400\">\n",
       "<defs>\n",
       "</defs>\n",
       "<path d=\"M-530.3300858899106,530.3300858899107 L-565.6854249492379,565.685424949238 A800,800,0,0,1,-692.8203230275508,400.0000000000003 L-649.5190528383289,375.0000000000002 A750,750,0,0,0,-530.3300858899106,530.3300858899107 Z\" stroke=\"white\" stroke-width=\"0.5\"/>\n",
       "</svg>"
      ],
      "text/plain": [
       "<IPython.core.display.SVG object>"
      ]
     },
     "metadata": {},
     "output_type": "display_data"
    },
    {
     "name": "stdout",
     "output_type": "stream",
     "text": [
      "Displaying: tile_ring15_division0.svg\n"
     ]
    },
    {
     "data": {
      "image/svg+xml": [
       "<svg xmlns=\"http://www.w3.org/2000/svg\" xmlns:xlink=\"http://www.w3.org/1999/xlink\" width=\"400\" height=\"400\" viewBox=\"-200.0 -200.0 400 400\">\n",
       "<defs>\n",
       "</defs>\n",
       "<path d=\"M800.0,0.0 L850.0,0.0 A850,850,0,0,1,821.0369523457081,219.99618833714263 L772.7406610312546,207.0552360820166 A800,800,0,0,0,800.0,0.0 Z\" stroke=\"white\" stroke-width=\"0.5\"/>\n",
       "</svg>"
      ],
      "text/plain": [
       "<IPython.core.display.SVG object>"
      ]
     },
     "metadata": {},
     "output_type": "display_data"
    },
    {
     "name": "stdout",
     "output_type": "stream",
     "text": [
      "Displaying: tile_ring15_division1.svg\n"
     ]
    },
    {
     "data": {
      "image/svg+xml": [
       "<svg xmlns=\"http://www.w3.org/2000/svg\" xmlns:xlink=\"http://www.w3.org/1999/xlink\" width=\"400\" height=\"400\" viewBox=\"-200.0 -200.0 400 400\">\n",
       "<defs>\n",
       "</defs>\n",
       "<path d=\"M772.7406610312546,207.0552360820166 L821.0369523457081,219.99618833714263 A850,850,0,0,1,736.1215932167729,424.99999999999994 L692.820323027551,399.99999999999994 A800,800,0,0,0,772.7406610312546,207.0552360820166 Z\" stroke=\"white\" stroke-width=\"0.5\"/>\n",
       "</svg>"
      ],
      "text/plain": [
       "<IPython.core.display.SVG object>"
      ]
     },
     "metadata": {},
     "output_type": "display_data"
    },
    {
     "name": "stdout",
     "output_type": "stream",
     "text": [
      "Displaying: tile_ring15_division10.svg\n"
     ]
    },
    {
     "data": {
      "image/svg+xml": [
       "<svg xmlns=\"http://www.w3.org/2000/svg\" xmlns:xlink=\"http://www.w3.org/1999/xlink\" width=\"400\" height=\"400\" viewBox=\"-200.0 -200.0 400 400\">\n",
       "<defs>\n",
       "</defs>\n",
       "<path d=\"M-692.8203230275508,400.0000000000003 L-736.1215932167727,425.0000000000003 A850,850,0,0,1,-821.036952345708,219.99618833714285 L-772.7406610312546,207.05523608201682 A800,800,0,0,0,-692.8203230275508,400.0000000000003 Z\" stroke=\"white\" stroke-width=\"0.5\"/>\n",
       "</svg>"
      ],
      "text/plain": [
       "<IPython.core.display.SVG object>"
      ]
     },
     "metadata": {},
     "output_type": "display_data"
    },
    {
     "name": "stdout",
     "output_type": "stream",
     "text": [
      "Displaying: tile_ring15_division11.svg\n"
     ]
    },
    {
     "data": {
      "image/svg+xml": [
       "<svg xmlns=\"http://www.w3.org/2000/svg\" xmlns:xlink=\"http://www.w3.org/1999/xlink\" width=\"400\" height=\"400\" viewBox=\"-200.0 -200.0 400 400\">\n",
       "<defs>\n",
       "</defs>\n",
       "<path d=\"M-772.7406610312546,207.05523608201682 L-821.036952345708,219.99618833714285 A850,850,0,0,1,-850.0,1.0409497792752503e-13 L-800.0,9.797174393178826e-14 A800,800,0,0,0,-772.7406610312546,207.05523608201682 Z\" stroke=\"white\" stroke-width=\"0.5\"/>\n",
       "</svg>"
      ],
      "text/plain": [
       "<IPython.core.display.SVG object>"
      ]
     },
     "metadata": {},
     "output_type": "display_data"
    },
    {
     "name": "stdout",
     "output_type": "stream",
     "text": [
      "Displaying: tile_ring15_division12.svg\n"
     ]
    },
    {
     "data": {
      "image/svg+xml": [
       "<svg xmlns=\"http://www.w3.org/2000/svg\" xmlns:xlink=\"http://www.w3.org/1999/xlink\" width=\"400\" height=\"400\" viewBox=\"-200.0 -200.0 400 400\">\n",
       "<defs>\n",
       "</defs>\n",
       "<path d=\"M-800.0,9.797174393178826e-14 L-850.0,1.0409497792752503e-13 A850,850,0,0,1,-821.0369523457082,-219.99618833714229 L-772.7406610312547,-207.05523608201628 A800,800,0,0,0,-800.0,9.797174393178826e-14 Z\" stroke=\"white\" stroke-width=\"0.5\"/>\n",
       "</svg>"
      ],
      "text/plain": [
       "<IPython.core.display.SVG object>"
      ]
     },
     "metadata": {},
     "output_type": "display_data"
    },
    {
     "name": "stdout",
     "output_type": "stream",
     "text": [
      "Displaying: tile_ring15_division13.svg\n"
     ]
    },
    {
     "data": {
      "image/svg+xml": [
       "<svg xmlns=\"http://www.w3.org/2000/svg\" xmlns:xlink=\"http://www.w3.org/1999/xlink\" width=\"400\" height=\"400\" viewBox=\"-200.0 -200.0 400 400\">\n",
       "<defs>\n",
       "</defs>\n",
       "<path d=\"M-772.7406610312547,-207.05523608201628 L-821.0369523457082,-219.99618833714229 A850,850,0,0,1,-736.121593216773,-424.99999999999983 L-692.820323027551,-399.99999999999983 A800,800,0,0,0,-772.7406610312547,-207.05523608201628 Z\" stroke=\"white\" stroke-width=\"0.5\"/>\n",
       "</svg>"
      ],
      "text/plain": [
       "<IPython.core.display.SVG object>"
      ]
     },
     "metadata": {},
     "output_type": "display_data"
    },
    {
     "name": "stdout",
     "output_type": "stream",
     "text": [
      "Displaying: tile_ring15_division14.svg\n"
     ]
    },
    {
     "data": {
      "image/svg+xml": [
       "<svg xmlns=\"http://www.w3.org/2000/svg\" xmlns:xlink=\"http://www.w3.org/1999/xlink\" width=\"400\" height=\"400\" viewBox=\"-200.0 -200.0 400 400\">\n",
       "<defs>\n",
       "</defs>\n",
       "<path d=\"M-692.820323027551,-399.99999999999983 L-736.121593216773,-424.99999999999983 A850,850,0,0,1,-601.0407640085657,-601.040764008565 L-565.6854249492383,-565.6854249492377 A800,800,0,0,0,-692.820323027551,-399.99999999999983 Z\" stroke=\"white\" stroke-width=\"0.5\"/>\n",
       "</svg>"
      ],
      "text/plain": [
       "<IPython.core.display.SVG object>"
      ]
     },
     "metadata": {},
     "output_type": "display_data"
    },
    {
     "name": "stdout",
     "output_type": "stream",
     "text": [
      "Displaying: tile_ring15_division15.svg\n"
     ]
    },
    {
     "data": {
      "image/svg+xml": [
       "<svg xmlns=\"http://www.w3.org/2000/svg\" xmlns:xlink=\"http://www.w3.org/1999/xlink\" width=\"400\" height=\"400\" viewBox=\"-200.0 -200.0 400 400\">\n",
       "<defs>\n",
       "</defs>\n",
       "<path d=\"M-565.6854249492383,-565.6854249492377 L-601.0407640085657,-601.040764008565 A850,850,0,0,1,-425.0000000000004,-736.1215932167726 L-400.00000000000034,-692.8203230275507 A800,800,0,0,0,-565.6854249492383,-565.6854249492377 Z\" stroke=\"white\" stroke-width=\"0.5\"/>\n",
       "</svg>"
      ],
      "text/plain": [
       "<IPython.core.display.SVG object>"
      ]
     },
     "metadata": {},
     "output_type": "display_data"
    },
    {
     "name": "stdout",
     "output_type": "stream",
     "text": [
      "Displaying: tile_ring15_division16.svg\n"
     ]
    },
    {
     "data": {
      "image/svg+xml": [
       "<svg xmlns=\"http://www.w3.org/2000/svg\" xmlns:xlink=\"http://www.w3.org/1999/xlink\" width=\"400\" height=\"400\" viewBox=\"-200.0 -200.0 400 400\">\n",
       "<defs>\n",
       "</defs>\n",
       "<path d=\"M-400.00000000000034,-692.8203230275507 L-425.0000000000004,-736.1215932167726 A850,850,0,0,1,-219.99618833714328,-821.0369523457078 L-207.05523608201722,-772.7406610312545 A800,800,0,0,0,-400.00000000000034,-692.8203230275507 Z\" stroke=\"white\" stroke-width=\"0.5\"/>\n",
       "</svg>"
      ],
      "text/plain": [
       "<IPython.core.display.SVG object>"
      ]
     },
     "metadata": {},
     "output_type": "display_data"
    },
    {
     "name": "stdout",
     "output_type": "stream",
     "text": [
      "Displaying: tile_ring15_division17.svg\n"
     ]
    },
    {
     "data": {
      "image/svg+xml": [
       "<svg xmlns=\"http://www.w3.org/2000/svg\" xmlns:xlink=\"http://www.w3.org/1999/xlink\" width=\"400\" height=\"400\" viewBox=\"-200.0 -200.0 400 400\">\n",
       "<defs>\n",
       "</defs>\n",
       "<path d=\"M-207.05523608201722,-772.7406610312545 L-219.99618833714328,-821.0369523457078 A850,850,0,0,1,-1.5614246689128752e-13,-850.0 L-1.4695761589768238e-13,-800.0 A800,800,0,0,0,-207.05523608201722,-772.7406610312545 Z\" stroke=\"white\" stroke-width=\"0.5\"/>\n",
       "</svg>"
      ],
      "text/plain": [
       "<IPython.core.display.SVG object>"
      ]
     },
     "metadata": {},
     "output_type": "display_data"
    },
    {
     "name": "stdout",
     "output_type": "stream",
     "text": [
      "Displaying: tile_ring15_division18.svg\n"
     ]
    },
    {
     "data": {
      "image/svg+xml": [
       "<svg xmlns=\"http://www.w3.org/2000/svg\" xmlns:xlink=\"http://www.w3.org/1999/xlink\" width=\"400\" height=\"400\" viewBox=\"-200.0 -200.0 400 400\">\n",
       "<defs>\n",
       "</defs>\n",
       "<path d=\"M-1.4695761589768238e-13,-800.0 L-1.5614246689128752e-13,-850.0 A850,850,0,0,1,219.99618833714226,-821.0369523457082 L207.05523608201622,-772.7406610312547 A800,800,0,0,0,-1.4695761589768238e-13,-800.0 Z\" stroke=\"white\" stroke-width=\"0.5\"/>\n",
       "</svg>"
      ],
      "text/plain": [
       "<IPython.core.display.SVG object>"
      ]
     },
     "metadata": {},
     "output_type": "display_data"
    },
    {
     "name": "stdout",
     "output_type": "stream",
     "text": [
      "Displaying: tile_ring15_division19.svg\n"
     ]
    },
    {
     "data": {
      "image/svg+xml": [
       "<svg xmlns=\"http://www.w3.org/2000/svg\" xmlns:xlink=\"http://www.w3.org/1999/xlink\" width=\"400\" height=\"400\" viewBox=\"-200.0 -200.0 400 400\">\n",
       "<defs>\n",
       "</defs>\n",
       "<path d=\"M207.05523608201622,-772.7406610312547 L219.99618833714226,-821.0369523457082 A850,850,0,0,1,424.99999999999943,-736.1215932167731 L399.9999999999995,-692.8203230275512 A800,800,0,0,0,207.05523608201622,-772.7406610312547 Z\" stroke=\"white\" stroke-width=\"0.5\"/>\n",
       "</svg>"
      ],
      "text/plain": [
       "<IPython.core.display.SVG object>"
      ]
     },
     "metadata": {},
     "output_type": "display_data"
    },
    {
     "name": "stdout",
     "output_type": "stream",
     "text": [
      "Displaying: tile_ring15_division2.svg\n"
     ]
    },
    {
     "data": {
      "image/svg+xml": [
       "<svg xmlns=\"http://www.w3.org/2000/svg\" xmlns:xlink=\"http://www.w3.org/1999/xlink\" width=\"400\" height=\"400\" viewBox=\"-200.0 -200.0 400 400\">\n",
       "<defs>\n",
       "</defs>\n",
       "<path d=\"M692.820323027551,399.99999999999994 L736.1215932167729,424.99999999999994 A850,850,0,0,1,601.0407640085655,601.0407640085654 L565.685424949238,565.6854249492379 A800,800,0,0,0,692.820323027551,399.99999999999994 Z\" stroke=\"white\" stroke-width=\"0.5\"/>\n",
       "</svg>"
      ],
      "text/plain": [
       "<IPython.core.display.SVG object>"
      ]
     },
     "metadata": {},
     "output_type": "display_data"
    },
    {
     "name": "stdout",
     "output_type": "stream",
     "text": [
      "Displaying: tile_ring15_division20.svg\n"
     ]
    },
    {
     "data": {
      "image/svg+xml": [
       "<svg xmlns=\"http://www.w3.org/2000/svg\" xmlns:xlink=\"http://www.w3.org/1999/xlink\" width=\"400\" height=\"400\" viewBox=\"-200.0 -200.0 400 400\">\n",
       "<defs>\n",
       "</defs>\n",
       "<path d=\"M399.9999999999995,-692.8203230275512 L424.99999999999943,-736.1215932167731 A850,850,0,0,1,601.0407640085652,-601.0407640085655 L565.6854249492379,-565.6854249492382 A800,800,0,0,0,399.9999999999995,-692.8203230275512 Z\" stroke=\"white\" stroke-width=\"0.5\"/>\n",
       "</svg>"
      ],
      "text/plain": [
       "<IPython.core.display.SVG object>"
      ]
     },
     "metadata": {},
     "output_type": "display_data"
    },
    {
     "name": "stdout",
     "output_type": "stream",
     "text": [
      "Displaying: tile_ring15_division21.svg\n"
     ]
    },
    {
     "data": {
      "image/svg+xml": [
       "<svg xmlns=\"http://www.w3.org/2000/svg\" xmlns:xlink=\"http://www.w3.org/1999/xlink\" width=\"400\" height=\"400\" viewBox=\"-200.0 -200.0 400 400\">\n",
       "<defs>\n",
       "</defs>\n",
       "<path d=\"M565.6854249492379,-565.6854249492382 L601.0407640085652,-601.0407640085655 A850,850,0,0,1,736.1215932167726,-425.0000000000004 L692.8203230275507,-400.00000000000034 A800,800,0,0,0,565.6854249492379,-565.6854249492382 Z\" stroke=\"white\" stroke-width=\"0.5\"/>\n",
       "</svg>"
      ],
      "text/plain": [
       "<IPython.core.display.SVG object>"
      ]
     },
     "metadata": {},
     "output_type": "display_data"
    },
    {
     "name": "stdout",
     "output_type": "stream",
     "text": [
      "Displaying: tile_ring15_division22.svg\n"
     ]
    },
    {
     "data": {
      "image/svg+xml": [
       "<svg xmlns=\"http://www.w3.org/2000/svg\" xmlns:xlink=\"http://www.w3.org/1999/xlink\" width=\"400\" height=\"400\" viewBox=\"-200.0 -200.0 400 400\">\n",
       "<defs>\n",
       "</defs>\n",
       "<path d=\"M692.8203230275507,-400.00000000000034 L736.1215932167726,-425.0000000000004 A850,850,0,0,1,821.0369523457078,-219.99618833714334 L772.7406610312545,-207.05523608201725 A800,800,0,0,0,692.8203230275507,-400.00000000000034 Z\" stroke=\"white\" stroke-width=\"0.5\"/>\n",
       "</svg>"
      ],
      "text/plain": [
       "<IPython.core.display.SVG object>"
      ]
     },
     "metadata": {},
     "output_type": "display_data"
    },
    {
     "name": "stdout",
     "output_type": "stream",
     "text": [
      "Displaying: tile_ring15_division23.svg\n"
     ]
    },
    {
     "data": {
      "image/svg+xml": [
       "<svg xmlns=\"http://www.w3.org/2000/svg\" xmlns:xlink=\"http://www.w3.org/1999/xlink\" width=\"400\" height=\"400\" viewBox=\"-200.0 -200.0 400 400\">\n",
       "<defs>\n",
       "</defs>\n",
       "<path d=\"M772.7406610312545,-207.05523608201725 L821.0369523457078,-219.99618833714334 A850,850,0,0,1,850.0,-2.0818995585505005e-13 L800.0,-1.9594348786357651e-13 A800,800,0,0,0,772.7406610312545,-207.05523608201725 Z\" stroke=\"white\" stroke-width=\"0.5\"/>\n",
       "</svg>"
      ],
      "text/plain": [
       "<IPython.core.display.SVG object>"
      ]
     },
     "metadata": {},
     "output_type": "display_data"
    },
    {
     "name": "stdout",
     "output_type": "stream",
     "text": [
      "Displaying: tile_ring15_division3.svg\n"
     ]
    },
    {
     "data": {
      "image/svg+xml": [
       "<svg xmlns=\"http://www.w3.org/2000/svg\" xmlns:xlink=\"http://www.w3.org/1999/xlink\" width=\"400\" height=\"400\" viewBox=\"-200.0 -200.0 400 400\">\n",
       "<defs>\n",
       "</defs>\n",
       "<path d=\"M565.685424949238,565.6854249492379 L601.0407640085655,601.0407640085654 A850,850,0,0,1,425.0000000000001,736.1215932167728 L400.0000000000001,692.8203230275509 A800,800,0,0,0,565.685424949238,565.6854249492379 Z\" stroke=\"white\" stroke-width=\"0.5\"/>\n",
       "</svg>"
      ],
      "text/plain": [
       "<IPython.core.display.SVG object>"
      ]
     },
     "metadata": {},
     "output_type": "display_data"
    },
    {
     "name": "stdout",
     "output_type": "stream",
     "text": [
      "Displaying: tile_ring15_division4.svg\n"
     ]
    },
    {
     "data": {
      "image/svg+xml": [
       "<svg xmlns=\"http://www.w3.org/2000/svg\" xmlns:xlink=\"http://www.w3.org/1999/xlink\" width=\"400\" height=\"400\" viewBox=\"-200.0 -200.0 400 400\">\n",
       "<defs>\n",
       "</defs>\n",
       "<path d=\"M400.0000000000001,692.8203230275509 L425.0000000000001,736.1215932167728 A850,850,0,0,1,219.99618833714283,821.036952345708 L207.05523608201676,772.7406610312546 A800,800,0,0,0,400.0000000000001,692.8203230275509 Z\" stroke=\"white\" stroke-width=\"0.5\"/>\n",
       "</svg>"
      ],
      "text/plain": [
       "<IPython.core.display.SVG object>"
      ]
     },
     "metadata": {},
     "output_type": "display_data"
    },
    {
     "name": "stdout",
     "output_type": "stream",
     "text": [
      "Displaying: tile_ring15_division5.svg\n"
     ]
    },
    {
     "data": {
      "image/svg+xml": [
       "<svg xmlns=\"http://www.w3.org/2000/svg\" xmlns:xlink=\"http://www.w3.org/1999/xlink\" width=\"400\" height=\"400\" viewBox=\"-200.0 -200.0 400 400\">\n",
       "<defs>\n",
       "</defs>\n",
       "<path d=\"M207.05523608201676,772.7406610312546 L219.99618833714283,821.036952345708 A850,850,0,0,1,5.2047488963762514e-14,850.0 L4.898587196589413e-14,800.0 A800,800,0,0,0,207.05523608201676,772.7406610312546 Z\" stroke=\"white\" stroke-width=\"0.5\"/>\n",
       "</svg>"
      ],
      "text/plain": [
       "<IPython.core.display.SVG object>"
      ]
     },
     "metadata": {},
     "output_type": "display_data"
    },
    {
     "name": "stdout",
     "output_type": "stream",
     "text": [
      "Displaying: tile_ring15_division6.svg\n"
     ]
    },
    {
     "data": {
      "image/svg+xml": [
       "<svg xmlns=\"http://www.w3.org/2000/svg\" xmlns:xlink=\"http://www.w3.org/1999/xlink\" width=\"400\" height=\"400\" viewBox=\"-200.0 -200.0 400 400\">\n",
       "<defs>\n",
       "</defs>\n",
       "<path d=\"M4.898587196589413e-14,800.0 L5.2047488963762514e-14,850.0 A850,850,0,0,1,-219.99618833714254,821.0369523457081 L-207.0552360820165,772.7406610312546 A800,800,0,0,0,4.898587196589413e-14,800.0 Z\" stroke=\"white\" stroke-width=\"0.5\"/>\n",
       "</svg>"
      ],
      "text/plain": [
       "<IPython.core.display.SVG object>"
      ]
     },
     "metadata": {},
     "output_type": "display_data"
    },
    {
     "name": "stdout",
     "output_type": "stream",
     "text": [
      "Displaying: tile_ring15_division7.svg\n"
     ]
    },
    {
     "data": {
      "image/svg+xml": [
       "<svg xmlns=\"http://www.w3.org/2000/svg\" xmlns:xlink=\"http://www.w3.org/1999/xlink\" width=\"400\" height=\"400\" viewBox=\"-200.0 -200.0 400 400\">\n",
       "<defs>\n",
       "</defs>\n",
       "<path d=\"M-207.0552360820165,772.7406610312546 L-219.99618833714254,821.0369523457081 A850,850,0,0,1,-424.9999999999999,736.1215932167729 L-399.9999999999999,692.820323027551 A800,800,0,0,0,-207.0552360820165,772.7406610312546 Z\" stroke=\"white\" stroke-width=\"0.5\"/>\n",
       "</svg>"
      ],
      "text/plain": [
       "<IPython.core.display.SVG object>"
      ]
     },
     "metadata": {},
     "output_type": "display_data"
    },
    {
     "name": "stdout",
     "output_type": "stream",
     "text": [
      "Displaying: tile_ring15_division8.svg\n"
     ]
    },
    {
     "data": {
      "image/svg+xml": [
       "<svg xmlns=\"http://www.w3.org/2000/svg\" xmlns:xlink=\"http://www.w3.org/1999/xlink\" width=\"400\" height=\"400\" viewBox=\"-200.0 -200.0 400 400\">\n",
       "<defs>\n",
       "</defs>\n",
       "<path d=\"M-399.9999999999999,692.820323027551 L-424.9999999999999,736.1215932167729 A850,850,0,0,1,-601.0407640085654,601.0407640085655 L-565.6854249492379,565.685424949238 A800,800,0,0,0,-399.9999999999999,692.820323027551 Z\" stroke=\"white\" stroke-width=\"0.5\"/>\n",
       "</svg>"
      ],
      "text/plain": [
       "<IPython.core.display.SVG object>"
      ]
     },
     "metadata": {},
     "output_type": "display_data"
    },
    {
     "name": "stdout",
     "output_type": "stream",
     "text": [
      "Displaying: tile_ring15_division9.svg\n"
     ]
    },
    {
     "data": {
      "image/svg+xml": [
       "<svg xmlns=\"http://www.w3.org/2000/svg\" xmlns:xlink=\"http://www.w3.org/1999/xlink\" width=\"400\" height=\"400\" viewBox=\"-200.0 -200.0 400 400\">\n",
       "<defs>\n",
       "</defs>\n",
       "<path d=\"M-565.6854249492379,565.685424949238 L-601.0407640085654,601.0407640085655 A850,850,0,0,1,-736.1215932167727,425.0000000000003 L-692.8203230275508,400.0000000000003 A800,800,0,0,0,-565.6854249492379,565.685424949238 Z\" stroke=\"white\" stroke-width=\"0.5\"/>\n",
       "</svg>"
      ],
      "text/plain": [
       "<IPython.core.display.SVG object>"
      ]
     },
     "metadata": {},
     "output_type": "display_data"
    },
    {
     "name": "stdout",
     "output_type": "stream",
     "text": [
      "Displaying: tile_ring1_division0.svg\n"
     ]
    },
    {
     "data": {
      "image/svg+xml": [
       "<svg xmlns=\"http://www.w3.org/2000/svg\" xmlns:xlink=\"http://www.w3.org/1999/xlink\" width=\"400\" height=\"400\" viewBox=\"-200.0 -200.0 400 400\">\n",
       "<defs>\n",
       "</defs>\n",
       "<path d=\"M100.0,0.0 L150.0,0.0 A150,150,0,0,1,144.88887394336024,38.82285676537811 L96.59258262890683,25.881904510252074 A100,100,0,0,0,100.0,0.0 Z\" stroke=\"white\" stroke-width=\"0.5\"/>\n",
       "</svg>"
      ],
      "text/plain": [
       "<IPython.core.display.SVG object>"
      ]
     },
     "metadata": {},
     "output_type": "display_data"
    },
    {
     "name": "stdout",
     "output_type": "stream",
     "text": [
      "Displaying: tile_ring1_division1.svg\n"
     ]
    },
    {
     "data": {
      "image/svg+xml": [
       "<svg xmlns=\"http://www.w3.org/2000/svg\" xmlns:xlink=\"http://www.w3.org/1999/xlink\" width=\"400\" height=\"400\" viewBox=\"-200.0 -200.0 400 400\">\n",
       "<defs>\n",
       "</defs>\n",
       "<path d=\"M96.59258262890683,25.881904510252074 L144.88887394336024,38.82285676537811 A150,150,0,0,1,129.9038105676658,74.99999999999999 L86.60254037844388,49.99999999999999 A100,100,0,0,0,96.59258262890683,25.881904510252074 Z\" stroke=\"white\" stroke-width=\"0.5\"/>\n",
       "</svg>"
      ],
      "text/plain": [
       "<IPython.core.display.SVG object>"
      ]
     },
     "metadata": {},
     "output_type": "display_data"
    },
    {
     "name": "stdout",
     "output_type": "stream",
     "text": [
      "Displaying: tile_ring1_division10.svg\n"
     ]
    },
    {
     "data": {
      "image/svg+xml": [
       "<svg xmlns=\"http://www.w3.org/2000/svg\" xmlns:xlink=\"http://www.w3.org/1999/xlink\" width=\"400\" height=\"400\" viewBox=\"-200.0 -200.0 400 400\">\n",
       "<defs>\n",
       "</defs>\n",
       "<path d=\"M-86.60254037844385,50.000000000000036 L-129.90381056766577,75.00000000000006 A150,150,0,0,1,-144.88887394336024,38.822856765378155 L-96.59258262890683,25.881904510252102 A100,100,0,0,0,-86.60254037844385,50.000000000000036 Z\" stroke=\"white\" stroke-width=\"0.5\"/>\n",
       "</svg>"
      ],
      "text/plain": [
       "<IPython.core.display.SVG object>"
      ]
     },
     "metadata": {},
     "output_type": "display_data"
    },
    {
     "name": "stdout",
     "output_type": "stream",
     "text": [
      "Displaying: tile_ring1_division11.svg\n"
     ]
    },
    {
     "data": {
      "image/svg+xml": [
       "<svg xmlns=\"http://www.w3.org/2000/svg\" xmlns:xlink=\"http://www.w3.org/1999/xlink\" width=\"400\" height=\"400\" viewBox=\"-200.0 -200.0 400 400\">\n",
       "<defs>\n",
       "</defs>\n",
       "<path d=\"M-96.59258262890683,25.881904510252102 L-144.88887394336024,38.822856765378155 A150,150,0,0,1,-150.0,1.8369701987210297e-14 L-100.0,1.2246467991473532e-14 A100,100,0,0,0,-96.59258262890683,25.881904510252102 Z\" stroke=\"white\" stroke-width=\"0.5\"/>\n",
       "</svg>"
      ],
      "text/plain": [
       "<IPython.core.display.SVG object>"
      ]
     },
     "metadata": {},
     "output_type": "display_data"
    },
    {
     "name": "stdout",
     "output_type": "stream",
     "text": [
      "Displaying: tile_ring1_division12.svg\n"
     ]
    },
    {
     "data": {
      "image/svg+xml": [
       "<svg xmlns=\"http://www.w3.org/2000/svg\" xmlns:xlink=\"http://www.w3.org/1999/xlink\" width=\"400\" height=\"400\" viewBox=\"-200.0 -200.0 400 400\">\n",
       "<defs>\n",
       "</defs>\n",
       "<path d=\"M-100.0,1.2246467991473532e-14 L-150.0,1.8369701987210297e-14 A150,150,0,0,1,-144.88887394336027,-38.822856765378056 L-96.59258262890684,-25.881904510252035 A100,100,0,0,0,-100.0,1.2246467991473532e-14 Z\" stroke=\"white\" stroke-width=\"0.5\"/>\n",
       "</svg>"
      ],
      "text/plain": [
       "<IPython.core.display.SVG object>"
      ]
     },
     "metadata": {},
     "output_type": "display_data"
    },
    {
     "name": "stdout",
     "output_type": "stream",
     "text": [
      "Displaying: tile_ring1_division13.svg\n"
     ]
    },
    {
     "data": {
      "image/svg+xml": [
       "<svg xmlns=\"http://www.w3.org/2000/svg\" xmlns:xlink=\"http://www.w3.org/1999/xlink\" width=\"400\" height=\"400\" viewBox=\"-200.0 -200.0 400 400\">\n",
       "<defs>\n",
       "</defs>\n",
       "<path d=\"M-96.59258262890684,-25.881904510252035 L-144.88887394336027,-38.822856765378056 A150,150,0,0,1,-129.90381056766583,-74.99999999999997 L-86.60254037844388,-49.99999999999998 A100,100,0,0,0,-96.59258262890684,-25.881904510252035 Z\" stroke=\"white\" stroke-width=\"0.5\"/>\n",
       "</svg>"
      ],
      "text/plain": [
       "<IPython.core.display.SVG object>"
      ]
     },
     "metadata": {},
     "output_type": "display_data"
    },
    {
     "name": "stdout",
     "output_type": "stream",
     "text": [
      "Displaying: tile_ring1_division14.svg\n"
     ]
    },
    {
     "data": {
      "image/svg+xml": [
       "<svg xmlns=\"http://www.w3.org/2000/svg\" xmlns:xlink=\"http://www.w3.org/1999/xlink\" width=\"400\" height=\"400\" viewBox=\"-200.0 -200.0 400 400\">\n",
       "<defs>\n",
       "</defs>\n",
       "<path d=\"M-86.60254037844388,-49.99999999999998 L-129.90381056766583,-74.99999999999997 A150,150,0,0,1,-106.06601717798219,-106.06601717798208 L-70.71067811865478,-70.71067811865471 A100,100,0,0,0,-86.60254037844388,-49.99999999999998 Z\" stroke=\"white\" stroke-width=\"0.5\"/>\n",
       "</svg>"
      ],
      "text/plain": [
       "<IPython.core.display.SVG object>"
      ]
     },
     "metadata": {},
     "output_type": "display_data"
    },
    {
     "name": "stdout",
     "output_type": "stream",
     "text": [
      "Displaying: tile_ring1_division15.svg\n"
     ]
    },
    {
     "data": {
      "image/svg+xml": [
       "<svg xmlns=\"http://www.w3.org/2000/svg\" xmlns:xlink=\"http://www.w3.org/1999/xlink\" width=\"400\" height=\"400\" viewBox=\"-200.0 -200.0 400 400\">\n",
       "<defs>\n",
       "</defs>\n",
       "<path d=\"M-70.71067811865478,-70.71067811865471 L-106.06601717798219,-106.06601717798208 A150,150,0,0,1,-75.00000000000007,-129.90381056766574 L-50.00000000000004,-86.60254037844383 A100,100,0,0,0,-70.71067811865478,-70.71067811865471 Z\" stroke=\"white\" stroke-width=\"0.5\"/>\n",
       "</svg>"
      ],
      "text/plain": [
       "<IPython.core.display.SVG object>"
      ]
     },
     "metadata": {},
     "output_type": "display_data"
    },
    {
     "name": "stdout",
     "output_type": "stream",
     "text": [
      "Displaying: tile_ring1_division16.svg\n"
     ]
    },
    {
     "data": {
      "image/svg+xml": [
       "<svg xmlns=\"http://www.w3.org/2000/svg\" xmlns:xlink=\"http://www.w3.org/1999/xlink\" width=\"400\" height=\"400\" viewBox=\"-200.0 -200.0 400 400\">\n",
       "<defs>\n",
       "</defs>\n",
       "<path d=\"M-50.00000000000004,-86.60254037844383 L-75.00000000000007,-129.90381056766574 A150,150,0,0,1,-38.822856765378226,-144.8888739433602 L-25.881904510252152,-96.59258262890681 A100,100,0,0,0,-50.00000000000004,-86.60254037844383 Z\" stroke=\"white\" stroke-width=\"0.5\"/>\n",
       "</svg>"
      ],
      "text/plain": [
       "<IPython.core.display.SVG object>"
      ]
     },
     "metadata": {},
     "output_type": "display_data"
    },
    {
     "name": "stdout",
     "output_type": "stream",
     "text": [
      "Displaying: tile_ring1_division17.svg\n"
     ]
    },
    {
     "data": {
      "image/svg+xml": [
       "<svg xmlns=\"http://www.w3.org/2000/svg\" xmlns:xlink=\"http://www.w3.org/1999/xlink\" width=\"400\" height=\"400\" viewBox=\"-200.0 -200.0 400 400\">\n",
       "<defs>\n",
       "</defs>\n",
       "<path d=\"M-25.881904510252152,-96.59258262890681 L-38.822856765378226,-144.8888739433602 A150,150,0,0,1,-2.7554552980815446e-14,-150.0 L-1.8369701987210297e-14,-100.0 A100,100,0,0,0,-25.881904510252152,-96.59258262890681 Z\" stroke=\"white\" stroke-width=\"0.5\"/>\n",
       "</svg>"
      ],
      "text/plain": [
       "<IPython.core.display.SVG object>"
      ]
     },
     "metadata": {},
     "output_type": "display_data"
    },
    {
     "name": "stdout",
     "output_type": "stream",
     "text": [
      "Displaying: tile_ring1_division18.svg\n"
     ]
    },
    {
     "data": {
      "image/svg+xml": [
       "<svg xmlns=\"http://www.w3.org/2000/svg\" xmlns:xlink=\"http://www.w3.org/1999/xlink\" width=\"400\" height=\"400\" viewBox=\"-200.0 -200.0 400 400\">\n",
       "<defs>\n",
       "</defs>\n",
       "<path d=\"M-1.8369701987210297e-14,-100.0 L-2.7554552980815446e-14,-150.0 A150,150,0,0,1,38.82285676537804,-144.88887394336027 L25.881904510252028,-96.59258262890684 A100,100,0,0,0,-1.8369701987210297e-14,-100.0 Z\" stroke=\"white\" stroke-width=\"0.5\"/>\n",
       "</svg>"
      ],
      "text/plain": [
       "<IPython.core.display.SVG object>"
      ]
     },
     "metadata": {},
     "output_type": "display_data"
    },
    {
     "name": "stdout",
     "output_type": "stream",
     "text": [
      "Displaying: tile_ring1_division19.svg\n"
     ]
    },
    {
     "data": {
      "image/svg+xml": [
       "<svg xmlns=\"http://www.w3.org/2000/svg\" xmlns:xlink=\"http://www.w3.org/1999/xlink\" width=\"400\" height=\"400\" viewBox=\"-200.0 -200.0 400 400\">\n",
       "<defs>\n",
       "</defs>\n",
       "<path d=\"M25.881904510252028,-96.59258262890684 L38.82285676537804,-144.88887394336027 A150,150,0,0,1,74.9999999999999,-129.90381056766586 L49.999999999999936,-86.6025403784439 A100,100,0,0,0,25.881904510252028,-96.59258262890684 Z\" stroke=\"white\" stroke-width=\"0.5\"/>\n",
       "</svg>"
      ],
      "text/plain": [
       "<IPython.core.display.SVG object>"
      ]
     },
     "metadata": {},
     "output_type": "display_data"
    },
    {
     "name": "stdout",
     "output_type": "stream",
     "text": [
      "Displaying: tile_ring1_division2.svg\n"
     ]
    },
    {
     "data": {
      "image/svg+xml": [
       "<svg xmlns=\"http://www.w3.org/2000/svg\" xmlns:xlink=\"http://www.w3.org/1999/xlink\" width=\"400\" height=\"400\" viewBox=\"-200.0 -200.0 400 400\">\n",
       "<defs>\n",
       "</defs>\n",
       "<path d=\"M86.60254037844388,49.99999999999999 L129.9038105676658,74.99999999999999 A150,150,0,0,1,106.06601717798213,106.06601717798212 L70.71067811865476,70.71067811865474 A100,100,0,0,0,86.60254037844388,49.99999999999999 Z\" stroke=\"white\" stroke-width=\"0.5\"/>\n",
       "</svg>"
      ],
      "text/plain": [
       "<IPython.core.display.SVG object>"
      ]
     },
     "metadata": {},
     "output_type": "display_data"
    },
    {
     "name": "stdout",
     "output_type": "stream",
     "text": [
      "Displaying: tile_ring1_division20.svg\n"
     ]
    },
    {
     "data": {
      "image/svg+xml": [
       "<svg xmlns=\"http://www.w3.org/2000/svg\" xmlns:xlink=\"http://www.w3.org/1999/xlink\" width=\"400\" height=\"400\" viewBox=\"-200.0 -200.0 400 400\">\n",
       "<defs>\n",
       "</defs>\n",
       "<path d=\"M49.999999999999936,-86.6025403784439 L74.9999999999999,-129.90381056766586 A150,150,0,0,1,106.0660171779821,-106.06601717798215 L70.71067811865474,-70.71067811865477 A100,100,0,0,0,49.999999999999936,-86.6025403784439 Z\" stroke=\"white\" stroke-width=\"0.5\"/>\n",
       "</svg>"
      ],
      "text/plain": [
       "<IPython.core.display.SVG object>"
      ]
     },
     "metadata": {},
     "output_type": "display_data"
    },
    {
     "name": "stdout",
     "output_type": "stream",
     "text": [
      "Displaying: tile_ring1_division21.svg\n"
     ]
    },
    {
     "data": {
      "image/svg+xml": [
       "<svg xmlns=\"http://www.w3.org/2000/svg\" xmlns:xlink=\"http://www.w3.org/1999/xlink\" width=\"400\" height=\"400\" viewBox=\"-200.0 -200.0 400 400\">\n",
       "<defs>\n",
       "</defs>\n",
       "<path d=\"M70.71067811865474,-70.71067811865477 L106.0660171779821,-106.06601717798215 A150,150,0,0,1,129.90381056766574,-75.00000000000007 L86.60254037844383,-50.00000000000004 A100,100,0,0,0,70.71067811865474,-70.71067811865477 Z\" stroke=\"white\" stroke-width=\"0.5\"/>\n",
       "</svg>"
      ],
      "text/plain": [
       "<IPython.core.display.SVG object>"
      ]
     },
     "metadata": {},
     "output_type": "display_data"
    },
    {
     "name": "stdout",
     "output_type": "stream",
     "text": [
      "Displaying: tile_ring1_division22.svg\n"
     ]
    },
    {
     "data": {
      "image/svg+xml": [
       "<svg xmlns=\"http://www.w3.org/2000/svg\" xmlns:xlink=\"http://www.w3.org/1999/xlink\" width=\"400\" height=\"400\" viewBox=\"-200.0 -200.0 400 400\">\n",
       "<defs>\n",
       "</defs>\n",
       "<path d=\"M86.60254037844383,-50.00000000000004 L129.90381056766574,-75.00000000000007 A150,150,0,0,1,144.8888739433602,-38.82285676537823 L96.59258262890681,-25.881904510252156 A100,100,0,0,0,86.60254037844383,-50.00000000000004 Z\" stroke=\"white\" stroke-width=\"0.5\"/>\n",
       "</svg>"
      ],
      "text/plain": [
       "<IPython.core.display.SVG object>"
      ]
     },
     "metadata": {},
     "output_type": "display_data"
    },
    {
     "name": "stdout",
     "output_type": "stream",
     "text": [
      "Displaying: tile_ring1_division23.svg\n"
     ]
    },
    {
     "data": {
      "image/svg+xml": [
       "<svg xmlns=\"http://www.w3.org/2000/svg\" xmlns:xlink=\"http://www.w3.org/1999/xlink\" width=\"400\" height=\"400\" viewBox=\"-200.0 -200.0 400 400\">\n",
       "<defs>\n",
       "</defs>\n",
       "<path d=\"M96.59258262890681,-25.881904510252156 L144.8888739433602,-38.82285676537823 A150,150,0,0,1,150.0,-3.6739403974420595e-14 L100.0,-2.4492935982947064e-14 A100,100,0,0,0,96.59258262890681,-25.881904510252156 Z\" stroke=\"white\" stroke-width=\"0.5\"/>\n",
       "</svg>"
      ],
      "text/plain": [
       "<IPython.core.display.SVG object>"
      ]
     },
     "metadata": {},
     "output_type": "display_data"
    },
    {
     "name": "stdout",
     "output_type": "stream",
     "text": [
      "Displaying: tile_ring1_division3.svg\n"
     ]
    },
    {
     "data": {
      "image/svg+xml": [
       "<svg xmlns=\"http://www.w3.org/2000/svg\" xmlns:xlink=\"http://www.w3.org/1999/xlink\" width=\"400\" height=\"400\" viewBox=\"-200.0 -200.0 400 400\">\n",
       "<defs>\n",
       "</defs>\n",
       "<path d=\"M70.71067811865476,70.71067811865474 L106.06601717798213,106.06601717798212 A150,150,0,0,1,75.00000000000001,129.9038105676658 L50.000000000000014,86.60254037844386 A100,100,0,0,0,70.71067811865476,70.71067811865474 Z\" stroke=\"white\" stroke-width=\"0.5\"/>\n",
       "</svg>"
      ],
      "text/plain": [
       "<IPython.core.display.SVG object>"
      ]
     },
     "metadata": {},
     "output_type": "display_data"
    },
    {
     "name": "stdout",
     "output_type": "stream",
     "text": [
      "Displaying: tile_ring1_division4.svg\n"
     ]
    },
    {
     "data": {
      "image/svg+xml": [
       "<svg xmlns=\"http://www.w3.org/2000/svg\" xmlns:xlink=\"http://www.w3.org/1999/xlink\" width=\"400\" height=\"400\" viewBox=\"-200.0 -200.0 400 400\">\n",
       "<defs>\n",
       "</defs>\n",
       "<path d=\"M50.000000000000014,86.60254037844386 L75.00000000000001,129.9038105676658 A150,150,0,0,1,38.82285676537814,144.88887394336024 L25.881904510252095,96.59258262890683 A100,100,0,0,0,50.000000000000014,86.60254037844386 Z\" stroke=\"white\" stroke-width=\"0.5\"/>\n",
       "</svg>"
      ],
      "text/plain": [
       "<IPython.core.display.SVG object>"
      ]
     },
     "metadata": {},
     "output_type": "display_data"
    },
    {
     "name": "stdout",
     "output_type": "stream",
     "text": [
      "Displaying: tile_ring1_division5.svg\n"
     ]
    },
    {
     "data": {
      "image/svg+xml": [
       "<svg xmlns=\"http://www.w3.org/2000/svg\" xmlns:xlink=\"http://www.w3.org/1999/xlink\" width=\"400\" height=\"400\" viewBox=\"-200.0 -200.0 400 400\">\n",
       "<defs>\n",
       "</defs>\n",
       "<path d=\"M25.881904510252095,96.59258262890683 L38.82285676537814,144.88887394336024 A150,150,0,0,1,9.184850993605149e-15,150.0 L6.123233995736766e-15,100.0 A100,100,0,0,0,25.881904510252095,96.59258262890683 Z\" stroke=\"white\" stroke-width=\"0.5\"/>\n",
       "</svg>"
      ],
      "text/plain": [
       "<IPython.core.display.SVG object>"
      ]
     },
     "metadata": {},
     "output_type": "display_data"
    },
    {
     "name": "stdout",
     "output_type": "stream",
     "text": [
      "Displaying: tile_ring1_division6.svg\n"
     ]
    },
    {
     "data": {
      "image/svg+xml": [
       "<svg xmlns=\"http://www.w3.org/2000/svg\" xmlns:xlink=\"http://www.w3.org/1999/xlink\" width=\"400\" height=\"400\" viewBox=\"-200.0 -200.0 400 400\">\n",
       "<defs>\n",
       "</defs>\n",
       "<path d=\"M6.123233995736766e-15,100.0 L9.184850993605149e-15,150.0 A150,150,0,0,1,-38.82285676537809,144.88887394336024 L-25.881904510252063,96.59258262890683 A100,100,0,0,0,6.123233995736766e-15,100.0 Z\" stroke=\"white\" stroke-width=\"0.5\"/>\n",
       "</svg>"
      ],
      "text/plain": [
       "<IPython.core.display.SVG object>"
      ]
     },
     "metadata": {},
     "output_type": "display_data"
    },
    {
     "name": "stdout",
     "output_type": "stream",
     "text": [
      "Displaying: tile_ring1_division7.svg\n"
     ]
    },
    {
     "data": {
      "image/svg+xml": [
       "<svg xmlns=\"http://www.w3.org/2000/svg\" xmlns:xlink=\"http://www.w3.org/1999/xlink\" width=\"400\" height=\"400\" viewBox=\"-200.0 -200.0 400 400\">\n",
       "<defs>\n",
       "</defs>\n",
       "<path d=\"M-25.881904510252063,96.59258262890683 L-38.82285676537809,144.88887394336024 A150,150,0,0,1,-74.99999999999997,129.9038105676658 L-49.999999999999986,86.60254037844388 A100,100,0,0,0,-25.881904510252063,96.59258262890683 Z\" stroke=\"white\" stroke-width=\"0.5\"/>\n",
       "</svg>"
      ],
      "text/plain": [
       "<IPython.core.display.SVG object>"
      ]
     },
     "metadata": {},
     "output_type": "display_data"
    },
    {
     "name": "stdout",
     "output_type": "stream",
     "text": [
      "Displaying: tile_ring1_division8.svg\n"
     ]
    },
    {
     "data": {
      "image/svg+xml": [
       "<svg xmlns=\"http://www.w3.org/2000/svg\" xmlns:xlink=\"http://www.w3.org/1999/xlink\" width=\"400\" height=\"400\" viewBox=\"-200.0 -200.0 400 400\">\n",
       "<defs>\n",
       "</defs>\n",
       "<path d=\"M-49.999999999999986,86.60254037844388 L-74.99999999999997,129.9038105676658 A150,150,0,0,1,-106.06601717798212,106.06601717798213 L-70.71067811865474,70.71067811865476 A100,100,0,0,0,-49.999999999999986,86.60254037844388 Z\" stroke=\"white\" stroke-width=\"0.5\"/>\n",
       "</svg>"
      ],
      "text/plain": [
       "<IPython.core.display.SVG object>"
      ]
     },
     "metadata": {},
     "output_type": "display_data"
    },
    {
     "name": "stdout",
     "output_type": "stream",
     "text": [
      "Displaying: tile_ring1_division9.svg\n"
     ]
    },
    {
     "data": {
      "image/svg+xml": [
       "<svg xmlns=\"http://www.w3.org/2000/svg\" xmlns:xlink=\"http://www.w3.org/1999/xlink\" width=\"400\" height=\"400\" viewBox=\"-200.0 -200.0 400 400\">\n",
       "<defs>\n",
       "</defs>\n",
       "<path d=\"M-70.71067811865474,70.71067811865476 L-106.06601717798212,106.06601717798213 A150,150,0,0,1,-129.90381056766577,75.00000000000006 L-86.60254037844385,50.000000000000036 A100,100,0,0,0,-70.71067811865474,70.71067811865476 Z\" stroke=\"white\" stroke-width=\"0.5\"/>\n",
       "</svg>"
      ],
      "text/plain": [
       "<IPython.core.display.SVG object>"
      ]
     },
     "metadata": {},
     "output_type": "display_data"
    },
    {
     "name": "stdout",
     "output_type": "stream",
     "text": [
      "Displaying: tile_ring2_division0.svg\n"
     ]
    },
    {
     "data": {
      "image/svg+xml": [
       "<svg xmlns=\"http://www.w3.org/2000/svg\" xmlns:xlink=\"http://www.w3.org/1999/xlink\" width=\"400\" height=\"400\" viewBox=\"-200.0 -200.0 400 400\">\n",
       "<defs>\n",
       "</defs>\n",
       "<path d=\"M150.0,0.0 L200.0,0.0 A200,200,0,0,1,193.18516525781365,51.76380902050415 L144.88887394336024,38.82285676537811 A150,150,0,0,0,150.0,0.0 Z\" stroke=\"white\" stroke-width=\"0.5\"/>\n",
       "</svg>"
      ],
      "text/plain": [
       "<IPython.core.display.SVG object>"
      ]
     },
     "metadata": {},
     "output_type": "display_data"
    },
    {
     "name": "stdout",
     "output_type": "stream",
     "text": [
      "Displaying: tile_ring2_division1.svg\n"
     ]
    },
    {
     "data": {
      "image/svg+xml": [
       "<svg xmlns=\"http://www.w3.org/2000/svg\" xmlns:xlink=\"http://www.w3.org/1999/xlink\" width=\"400\" height=\"400\" viewBox=\"-200.0 -200.0 400 400\">\n",
       "<defs>\n",
       "</defs>\n",
       "<path d=\"M144.88887394336024,38.82285676537811 L193.18516525781365,51.76380902050415 A200,200,0,0,1,173.20508075688775,99.99999999999999 L129.9038105676658,74.99999999999999 A150,150,0,0,0,144.88887394336024,38.82285676537811 Z\" stroke=\"white\" stroke-width=\"0.5\"/>\n",
       "</svg>"
      ],
      "text/plain": [
       "<IPython.core.display.SVG object>"
      ]
     },
     "metadata": {},
     "output_type": "display_data"
    },
    {
     "name": "stdout",
     "output_type": "stream",
     "text": [
      "Displaying: tile_ring2_division10.svg\n"
     ]
    },
    {
     "data": {
      "image/svg+xml": [
       "<svg xmlns=\"http://www.w3.org/2000/svg\" xmlns:xlink=\"http://www.w3.org/1999/xlink\" width=\"400\" height=\"400\" viewBox=\"-200.0 -200.0 400 400\">\n",
       "<defs>\n",
       "</defs>\n",
       "<path d=\"M-129.90381056766577,75.00000000000006 L-173.2050807568877,100.00000000000007 A200,200,0,0,1,-193.18516525781365,51.763809020504205 L-144.88887394336024,38.822856765378155 A150,150,0,0,0,-129.90381056766577,75.00000000000006 Z\" stroke=\"white\" stroke-width=\"0.5\"/>\n",
       "</svg>"
      ],
      "text/plain": [
       "<IPython.core.display.SVG object>"
      ]
     },
     "metadata": {},
     "output_type": "display_data"
    },
    {
     "name": "stdout",
     "output_type": "stream",
     "text": [
      "Displaying: tile_ring2_division11.svg\n"
     ]
    },
    {
     "data": {
      "image/svg+xml": [
       "<svg xmlns=\"http://www.w3.org/2000/svg\" xmlns:xlink=\"http://www.w3.org/1999/xlink\" width=\"400\" height=\"400\" viewBox=\"-200.0 -200.0 400 400\">\n",
       "<defs>\n",
       "</defs>\n",
       "<path d=\"M-144.88887394336024,38.822856765378155 L-193.18516525781365,51.763809020504205 A200,200,0,0,1,-200.0,2.4492935982947064e-14 L-150.0,1.8369701987210297e-14 A150,150,0,0,0,-144.88887394336024,38.822856765378155 Z\" stroke=\"white\" stroke-width=\"0.5\"/>\n",
       "</svg>"
      ],
      "text/plain": [
       "<IPython.core.display.SVG object>"
      ]
     },
     "metadata": {},
     "output_type": "display_data"
    },
    {
     "name": "stdout",
     "output_type": "stream",
     "text": [
      "Displaying: tile_ring2_division12.svg\n"
     ]
    },
    {
     "data": {
      "image/svg+xml": [
       "<svg xmlns=\"http://www.w3.org/2000/svg\" xmlns:xlink=\"http://www.w3.org/1999/xlink\" width=\"400\" height=\"400\" viewBox=\"-200.0 -200.0 400 400\">\n",
       "<defs>\n",
       "</defs>\n",
       "<path d=\"M-150.0,1.8369701987210297e-14 L-200.0,2.4492935982947064e-14 A200,200,0,0,1,-193.18516525781368,-51.76380902050407 L-144.88887394336027,-38.822856765378056 A150,150,0,0,0,-150.0,1.8369701987210297e-14 Z\" stroke=\"white\" stroke-width=\"0.5\"/>\n",
       "</svg>"
      ],
      "text/plain": [
       "<IPython.core.display.SVG object>"
      ]
     },
     "metadata": {},
     "output_type": "display_data"
    },
    {
     "name": "stdout",
     "output_type": "stream",
     "text": [
      "Displaying: tile_ring2_division13.svg\n"
     ]
    },
    {
     "data": {
      "image/svg+xml": [
       "<svg xmlns=\"http://www.w3.org/2000/svg\" xmlns:xlink=\"http://www.w3.org/1999/xlink\" width=\"400\" height=\"400\" viewBox=\"-200.0 -200.0 400 400\">\n",
       "<defs>\n",
       "</defs>\n",
       "<path d=\"M-144.88887394336027,-38.822856765378056 L-193.18516525781368,-51.76380902050407 A200,200,0,0,1,-173.20508075688775,-99.99999999999996 L-129.90381056766583,-74.99999999999997 A150,150,0,0,0,-144.88887394336027,-38.822856765378056 Z\" stroke=\"white\" stroke-width=\"0.5\"/>\n",
       "</svg>"
      ],
      "text/plain": [
       "<IPython.core.display.SVG object>"
      ]
     },
     "metadata": {},
     "output_type": "display_data"
    },
    {
     "name": "stdout",
     "output_type": "stream",
     "text": [
      "Displaying: tile_ring2_division14.svg\n"
     ]
    },
    {
     "data": {
      "image/svg+xml": [
       "<svg xmlns=\"http://www.w3.org/2000/svg\" xmlns:xlink=\"http://www.w3.org/1999/xlink\" width=\"400\" height=\"400\" viewBox=\"-200.0 -200.0 400 400\">\n",
       "<defs>\n",
       "</defs>\n",
       "<path d=\"M-129.90381056766583,-74.99999999999997 L-173.20508075688775,-99.99999999999996 A200,200,0,0,1,-141.42135623730957,-141.42135623730942 L-106.06601717798219,-106.06601717798208 A150,150,0,0,0,-129.90381056766583,-74.99999999999997 Z\" stroke=\"white\" stroke-width=\"0.5\"/>\n",
       "</svg>"
      ],
      "text/plain": [
       "<IPython.core.display.SVG object>"
      ]
     },
     "metadata": {},
     "output_type": "display_data"
    },
    {
     "name": "stdout",
     "output_type": "stream",
     "text": [
      "Displaying: tile_ring2_division15.svg\n"
     ]
    },
    {
     "data": {
      "image/svg+xml": [
       "<svg xmlns=\"http://www.w3.org/2000/svg\" xmlns:xlink=\"http://www.w3.org/1999/xlink\" width=\"400\" height=\"400\" viewBox=\"-200.0 -200.0 400 400\">\n",
       "<defs>\n",
       "</defs>\n",
       "<path d=\"M-106.06601717798219,-106.06601717798208 L-141.42135623730957,-141.42135623730942 A200,200,0,0,1,-100.00000000000009,-173.20508075688767 L-75.00000000000007,-129.90381056766574 A150,150,0,0,0,-106.06601717798219,-106.06601717798208 Z\" stroke=\"white\" stroke-width=\"0.5\"/>\n",
       "</svg>"
      ],
      "text/plain": [
       "<IPython.core.display.SVG object>"
      ]
     },
     "metadata": {},
     "output_type": "display_data"
    },
    {
     "name": "stdout",
     "output_type": "stream",
     "text": [
      "Displaying: tile_ring2_division16.svg\n"
     ]
    },
    {
     "data": {
      "image/svg+xml": [
       "<svg xmlns=\"http://www.w3.org/2000/svg\" xmlns:xlink=\"http://www.w3.org/1999/xlink\" width=\"400\" height=\"400\" viewBox=\"-200.0 -200.0 400 400\">\n",
       "<defs>\n",
       "</defs>\n",
       "<path d=\"M-75.00000000000007,-129.90381056766574 L-100.00000000000009,-173.20508075688767 A200,200,0,0,1,-51.763809020504304,-193.18516525781362 L-38.822856765378226,-144.8888739433602 A150,150,0,0,0,-75.00000000000007,-129.90381056766574 Z\" stroke=\"white\" stroke-width=\"0.5\"/>\n",
       "</svg>"
      ],
      "text/plain": [
       "<IPython.core.display.SVG object>"
      ]
     },
     "metadata": {},
     "output_type": "display_data"
    },
    {
     "name": "stdout",
     "output_type": "stream",
     "text": [
      "Displaying: tile_ring2_division17.svg\n"
     ]
    },
    {
     "data": {
      "image/svg+xml": [
       "<svg xmlns=\"http://www.w3.org/2000/svg\" xmlns:xlink=\"http://www.w3.org/1999/xlink\" width=\"400\" height=\"400\" viewBox=\"-200.0 -200.0 400 400\">\n",
       "<defs>\n",
       "</defs>\n",
       "<path d=\"M-38.822856765378226,-144.8888739433602 L-51.763809020504304,-193.18516525781362 A200,200,0,0,1,-3.6739403974420595e-14,-200.0 L-2.7554552980815446e-14,-150.0 A150,150,0,0,0,-38.822856765378226,-144.8888739433602 Z\" stroke=\"white\" stroke-width=\"0.5\"/>\n",
       "</svg>"
      ],
      "text/plain": [
       "<IPython.core.display.SVG object>"
      ]
     },
     "metadata": {},
     "output_type": "display_data"
    },
    {
     "name": "stdout",
     "output_type": "stream",
     "text": [
      "Displaying: tile_ring2_division18.svg\n"
     ]
    },
    {
     "data": {
      "image/svg+xml": [
       "<svg xmlns=\"http://www.w3.org/2000/svg\" xmlns:xlink=\"http://www.w3.org/1999/xlink\" width=\"400\" height=\"400\" viewBox=\"-200.0 -200.0 400 400\">\n",
       "<defs>\n",
       "</defs>\n",
       "<path d=\"M-2.7554552980815446e-14,-150.0 L-3.6739403974420595e-14,-200.0 A200,200,0,0,1,51.763809020504056,-193.18516525781368 L38.82285676537804,-144.88887394336027 A150,150,0,0,0,-2.7554552980815446e-14,-150.0 Z\" stroke=\"white\" stroke-width=\"0.5\"/>\n",
       "</svg>"
      ],
      "text/plain": [
       "<IPython.core.display.SVG object>"
      ]
     },
     "metadata": {},
     "output_type": "display_data"
    },
    {
     "name": "stdout",
     "output_type": "stream",
     "text": [
      "Displaying: tile_ring2_division19.svg\n"
     ]
    },
    {
     "data": {
      "image/svg+xml": [
       "<svg xmlns=\"http://www.w3.org/2000/svg\" xmlns:xlink=\"http://www.w3.org/1999/xlink\" width=\"400\" height=\"400\" viewBox=\"-200.0 -200.0 400 400\">\n",
       "<defs>\n",
       "</defs>\n",
       "<path d=\"M38.82285676537804,-144.88887394336027 L51.763809020504056,-193.18516525781368 A200,200,0,0,1,99.99999999999987,-173.2050807568878 L74.9999999999999,-129.90381056766586 A150,150,0,0,0,38.82285676537804,-144.88887394336027 Z\" stroke=\"white\" stroke-width=\"0.5\"/>\n",
       "</svg>"
      ],
      "text/plain": [
       "<IPython.core.display.SVG object>"
      ]
     },
     "metadata": {},
     "output_type": "display_data"
    },
    {
     "name": "stdout",
     "output_type": "stream",
     "text": [
      "Displaying: tile_ring2_division2.svg\n"
     ]
    },
    {
     "data": {
      "image/svg+xml": [
       "<svg xmlns=\"http://www.w3.org/2000/svg\" xmlns:xlink=\"http://www.w3.org/1999/xlink\" width=\"400\" height=\"400\" viewBox=\"-200.0 -200.0 400 400\">\n",
       "<defs>\n",
       "</defs>\n",
       "<path d=\"M129.9038105676658,74.99999999999999 L173.20508075688775,99.99999999999999 A200,200,0,0,1,141.4213562373095,141.42135623730948 L106.06601717798213,106.06601717798212 A150,150,0,0,0,129.9038105676658,74.99999999999999 Z\" stroke=\"white\" stroke-width=\"0.5\"/>\n",
       "</svg>"
      ],
      "text/plain": [
       "<IPython.core.display.SVG object>"
      ]
     },
     "metadata": {},
     "output_type": "display_data"
    },
    {
     "name": "stdout",
     "output_type": "stream",
     "text": [
      "Displaying: tile_ring2_division20.svg\n"
     ]
    },
    {
     "data": {
      "image/svg+xml": [
       "<svg xmlns=\"http://www.w3.org/2000/svg\" xmlns:xlink=\"http://www.w3.org/1999/xlink\" width=\"400\" height=\"400\" viewBox=\"-200.0 -200.0 400 400\">\n",
       "<defs>\n",
       "</defs>\n",
       "<path d=\"M74.9999999999999,-129.90381056766586 L99.99999999999987,-173.2050807568878 A200,200,0,0,1,141.42135623730948,-141.42135623730954 L106.0660171779821,-106.06601717798215 A150,150,0,0,0,74.9999999999999,-129.90381056766586 Z\" stroke=\"white\" stroke-width=\"0.5\"/>\n",
       "</svg>"
      ],
      "text/plain": [
       "<IPython.core.display.SVG object>"
      ]
     },
     "metadata": {},
     "output_type": "display_data"
    },
    {
     "name": "stdout",
     "output_type": "stream",
     "text": [
      "Displaying: tile_ring2_division21.svg\n"
     ]
    },
    {
     "data": {
      "image/svg+xml": [
       "<svg xmlns=\"http://www.w3.org/2000/svg\" xmlns:xlink=\"http://www.w3.org/1999/xlink\" width=\"400\" height=\"400\" viewBox=\"-200.0 -200.0 400 400\">\n",
       "<defs>\n",
       "</defs>\n",
       "<path d=\"M106.0660171779821,-106.06601717798215 L141.42135623730948,-141.42135623730954 A200,200,0,0,1,173.20508075688767,-100.00000000000009 L129.90381056766574,-75.00000000000007 A150,150,0,0,0,106.0660171779821,-106.06601717798215 Z\" stroke=\"white\" stroke-width=\"0.5\"/>\n",
       "</svg>"
      ],
      "text/plain": [
       "<IPython.core.display.SVG object>"
      ]
     },
     "metadata": {},
     "output_type": "display_data"
    },
    {
     "name": "stdout",
     "output_type": "stream",
     "text": [
      "Displaying: tile_ring2_division22.svg\n"
     ]
    },
    {
     "data": {
      "image/svg+xml": [
       "<svg xmlns=\"http://www.w3.org/2000/svg\" xmlns:xlink=\"http://www.w3.org/1999/xlink\" width=\"400\" height=\"400\" viewBox=\"-200.0 -200.0 400 400\">\n",
       "<defs>\n",
       "</defs>\n",
       "<path d=\"M129.90381056766574,-75.00000000000007 L173.20508075688767,-100.00000000000009 A200,200,0,0,1,193.18516525781362,-51.76380902050431 L144.8888739433602,-38.82285676537823 A150,150,0,0,0,129.90381056766574,-75.00000000000007 Z\" stroke=\"white\" stroke-width=\"0.5\"/>\n",
       "</svg>"
      ],
      "text/plain": [
       "<IPython.core.display.SVG object>"
      ]
     },
     "metadata": {},
     "output_type": "display_data"
    },
    {
     "name": "stdout",
     "output_type": "stream",
     "text": [
      "Displaying: tile_ring2_division23.svg\n"
     ]
    },
    {
     "data": {
      "image/svg+xml": [
       "<svg xmlns=\"http://www.w3.org/2000/svg\" xmlns:xlink=\"http://www.w3.org/1999/xlink\" width=\"400\" height=\"400\" viewBox=\"-200.0 -200.0 400 400\">\n",
       "<defs>\n",
       "</defs>\n",
       "<path d=\"M144.8888739433602,-38.82285676537823 L193.18516525781362,-51.76380902050431 A200,200,0,0,1,200.0,-4.898587196589413e-14 L150.0,-3.6739403974420595e-14 A150,150,0,0,0,144.8888739433602,-38.82285676537823 Z\" stroke=\"white\" stroke-width=\"0.5\"/>\n",
       "</svg>"
      ],
      "text/plain": [
       "<IPython.core.display.SVG object>"
      ]
     },
     "metadata": {},
     "output_type": "display_data"
    },
    {
     "name": "stdout",
     "output_type": "stream",
     "text": [
      "Displaying: tile_ring2_division3.svg\n"
     ]
    },
    {
     "data": {
      "image/svg+xml": [
       "<svg xmlns=\"http://www.w3.org/2000/svg\" xmlns:xlink=\"http://www.w3.org/1999/xlink\" width=\"400\" height=\"400\" viewBox=\"-200.0 -200.0 400 400\">\n",
       "<defs>\n",
       "</defs>\n",
       "<path d=\"M106.06601717798213,106.06601717798212 L141.4213562373095,141.42135623730948 A200,200,0,0,1,100.00000000000003,173.20508075688772 L75.00000000000001,129.9038105676658 A150,150,0,0,0,106.06601717798213,106.06601717798212 Z\" stroke=\"white\" stroke-width=\"0.5\"/>\n",
       "</svg>"
      ],
      "text/plain": [
       "<IPython.core.display.SVG object>"
      ]
     },
     "metadata": {},
     "output_type": "display_data"
    },
    {
     "name": "stdout",
     "output_type": "stream",
     "text": [
      "Displaying: tile_ring2_division4.svg\n"
     ]
    },
    {
     "data": {
      "image/svg+xml": [
       "<svg xmlns=\"http://www.w3.org/2000/svg\" xmlns:xlink=\"http://www.w3.org/1999/xlink\" width=\"400\" height=\"400\" viewBox=\"-200.0 -200.0 400 400\">\n",
       "<defs>\n",
       "</defs>\n",
       "<path d=\"M75.00000000000001,129.9038105676658 L100.00000000000003,173.20508075688772 A200,200,0,0,1,51.76380902050419,193.18516525781365 L38.82285676537814,144.88887394336024 A150,150,0,0,0,75.00000000000001,129.9038105676658 Z\" stroke=\"white\" stroke-width=\"0.5\"/>\n",
       "</svg>"
      ],
      "text/plain": [
       "<IPython.core.display.SVG object>"
      ]
     },
     "metadata": {},
     "output_type": "display_data"
    },
    {
     "name": "stdout",
     "output_type": "stream",
     "text": [
      "Displaying: tile_ring2_division5.svg\n"
     ]
    },
    {
     "data": {
      "image/svg+xml": [
       "<svg xmlns=\"http://www.w3.org/2000/svg\" xmlns:xlink=\"http://www.w3.org/1999/xlink\" width=\"400\" height=\"400\" viewBox=\"-200.0 -200.0 400 400\">\n",
       "<defs>\n",
       "</defs>\n",
       "<path d=\"M38.82285676537814,144.88887394336024 L51.76380902050419,193.18516525781365 A200,200,0,0,1,1.2246467991473532e-14,200.0 L9.184850993605149e-15,150.0 A150,150,0,0,0,38.82285676537814,144.88887394336024 Z\" stroke=\"white\" stroke-width=\"0.5\"/>\n",
       "</svg>"
      ],
      "text/plain": [
       "<IPython.core.display.SVG object>"
      ]
     },
     "metadata": {},
     "output_type": "display_data"
    },
    {
     "name": "stdout",
     "output_type": "stream",
     "text": [
      "Displaying: tile_ring2_division6.svg\n"
     ]
    },
    {
     "data": {
      "image/svg+xml": [
       "<svg xmlns=\"http://www.w3.org/2000/svg\" xmlns:xlink=\"http://www.w3.org/1999/xlink\" width=\"400\" height=\"400\" viewBox=\"-200.0 -200.0 400 400\">\n",
       "<defs>\n",
       "</defs>\n",
       "<path d=\"M9.184850993605149e-15,150.0 L1.2246467991473532e-14,200.0 A200,200,0,0,1,-51.76380902050413,193.18516525781365 L-38.82285676537809,144.88887394336024 A150,150,0,0,0,9.184850993605149e-15,150.0 Z\" stroke=\"white\" stroke-width=\"0.5\"/>\n",
       "</svg>"
      ],
      "text/plain": [
       "<IPython.core.display.SVG object>"
      ]
     },
     "metadata": {},
     "output_type": "display_data"
    },
    {
     "name": "stdout",
     "output_type": "stream",
     "text": [
      "Displaying: tile_ring2_division7.svg\n"
     ]
    },
    {
     "data": {
      "image/svg+xml": [
       "<svg xmlns=\"http://www.w3.org/2000/svg\" xmlns:xlink=\"http://www.w3.org/1999/xlink\" width=\"400\" height=\"400\" viewBox=\"-200.0 -200.0 400 400\">\n",
       "<defs>\n",
       "</defs>\n",
       "<path d=\"M-38.82285676537809,144.88887394336024 L-51.76380902050413,193.18516525781365 A200,200,0,0,1,-99.99999999999997,173.20508075688775 L-74.99999999999997,129.9038105676658 A150,150,0,0,0,-38.82285676537809,144.88887394336024 Z\" stroke=\"white\" stroke-width=\"0.5\"/>\n",
       "</svg>"
      ],
      "text/plain": [
       "<IPython.core.display.SVG object>"
      ]
     },
     "metadata": {},
     "output_type": "display_data"
    },
    {
     "name": "stdout",
     "output_type": "stream",
     "text": [
      "Displaying: tile_ring2_division8.svg\n"
     ]
    },
    {
     "data": {
      "image/svg+xml": [
       "<svg xmlns=\"http://www.w3.org/2000/svg\" xmlns:xlink=\"http://www.w3.org/1999/xlink\" width=\"400\" height=\"400\" viewBox=\"-200.0 -200.0 400 400\">\n",
       "<defs>\n",
       "</defs>\n",
       "<path d=\"M-74.99999999999997,129.9038105676658 L-99.99999999999997,173.20508075688775 A200,200,0,0,1,-141.42135623730948,141.4213562373095 L-106.06601717798212,106.06601717798213 A150,150,0,0,0,-74.99999999999997,129.9038105676658 Z\" stroke=\"white\" stroke-width=\"0.5\"/>\n",
       "</svg>"
      ],
      "text/plain": [
       "<IPython.core.display.SVG object>"
      ]
     },
     "metadata": {},
     "output_type": "display_data"
    },
    {
     "name": "stdout",
     "output_type": "stream",
     "text": [
      "Displaying: tile_ring2_division9.svg\n"
     ]
    },
    {
     "data": {
      "image/svg+xml": [
       "<svg xmlns=\"http://www.w3.org/2000/svg\" xmlns:xlink=\"http://www.w3.org/1999/xlink\" width=\"400\" height=\"400\" viewBox=\"-200.0 -200.0 400 400\">\n",
       "<defs>\n",
       "</defs>\n",
       "<path d=\"M-106.06601717798212,106.06601717798213 L-141.42135623730948,141.4213562373095 A200,200,0,0,1,-173.2050807568877,100.00000000000007 L-129.90381056766577,75.00000000000006 A150,150,0,0,0,-106.06601717798212,106.06601717798213 Z\" stroke=\"white\" stroke-width=\"0.5\"/>\n",
       "</svg>"
      ],
      "text/plain": [
       "<IPython.core.display.SVG object>"
      ]
     },
     "metadata": {},
     "output_type": "display_data"
    },
    {
     "name": "stdout",
     "output_type": "stream",
     "text": [
      "Displaying: tile_ring3_division0.svg\n"
     ]
    },
    {
     "data": {
      "image/svg+xml": [
       "<svg xmlns=\"http://www.w3.org/2000/svg\" xmlns:xlink=\"http://www.w3.org/1999/xlink\" width=\"400\" height=\"400\" viewBox=\"-200.0 -200.0 400 400\">\n",
       "<defs>\n",
       "</defs>\n",
       "<path d=\"M200.0,0.0 L250.0,0.0 A250,250,0,0,1,241.4814565722671,64.70476127563019 L193.18516525781365,51.76380902050415 A200,200,0,0,0,200.0,0.0 Z\" stroke=\"white\" stroke-width=\"0.5\"/>\n",
       "</svg>"
      ],
      "text/plain": [
       "<IPython.core.display.SVG object>"
      ]
     },
     "metadata": {},
     "output_type": "display_data"
    },
    {
     "name": "stdout",
     "output_type": "stream",
     "text": [
      "Displaying: tile_ring3_division1.svg\n"
     ]
    },
    {
     "data": {
      "image/svg+xml": [
       "<svg xmlns=\"http://www.w3.org/2000/svg\" xmlns:xlink=\"http://www.w3.org/1999/xlink\" width=\"400\" height=\"400\" viewBox=\"-200.0 -200.0 400 400\">\n",
       "<defs>\n",
       "</defs>\n",
       "<path d=\"M193.18516525781365,51.76380902050415 L241.4814565722671,64.70476127563019 A250,250,0,0,1,216.50635094610968,124.99999999999999 L173.20508075688775,99.99999999999999 A200,200,0,0,0,193.18516525781365,51.76380902050415 Z\" stroke=\"white\" stroke-width=\"0.5\"/>\n",
       "</svg>"
      ],
      "text/plain": [
       "<IPython.core.display.SVG object>"
      ]
     },
     "metadata": {},
     "output_type": "display_data"
    },
    {
     "name": "stdout",
     "output_type": "stream",
     "text": [
      "Displaying: tile_ring3_division10.svg\n"
     ]
    },
    {
     "data": {
      "image/svg+xml": [
       "<svg xmlns=\"http://www.w3.org/2000/svg\" xmlns:xlink=\"http://www.w3.org/1999/xlink\" width=\"400\" height=\"400\" viewBox=\"-200.0 -200.0 400 400\">\n",
       "<defs>\n",
       "</defs>\n",
       "<path d=\"M-173.2050807568877,100.00000000000007 L-216.50635094610962,125.00000000000009 A250,250,0,0,1,-241.48145657226706,64.70476127563026 L-193.18516525781365,51.763809020504205 A200,200,0,0,0,-173.2050807568877,100.00000000000007 Z\" stroke=\"white\" stroke-width=\"0.5\"/>\n",
       "</svg>"
      ],
      "text/plain": [
       "<IPython.core.display.SVG object>"
      ]
     },
     "metadata": {},
     "output_type": "display_data"
    },
    {
     "name": "stdout",
     "output_type": "stream",
     "text": [
      "Displaying: tile_ring3_division11.svg\n"
     ]
    },
    {
     "data": {
      "image/svg+xml": [
       "<svg xmlns=\"http://www.w3.org/2000/svg\" xmlns:xlink=\"http://www.w3.org/1999/xlink\" width=\"400\" height=\"400\" viewBox=\"-200.0 -200.0 400 400\">\n",
       "<defs>\n",
       "</defs>\n",
       "<path d=\"M-193.18516525781365,51.763809020504205 L-241.48145657226706,64.70476127563026 A250,250,0,0,1,-250.0,3.061616997868383e-14 L-200.0,2.4492935982947064e-14 A200,200,0,0,0,-193.18516525781365,51.763809020504205 Z\" stroke=\"white\" stroke-width=\"0.5\"/>\n",
       "</svg>"
      ],
      "text/plain": [
       "<IPython.core.display.SVG object>"
      ]
     },
     "metadata": {},
     "output_type": "display_data"
    },
    {
     "name": "stdout",
     "output_type": "stream",
     "text": [
      "Displaying: tile_ring3_division12.svg\n"
     ]
    },
    {
     "data": {
      "image/svg+xml": [
       "<svg xmlns=\"http://www.w3.org/2000/svg\" xmlns:xlink=\"http://www.w3.org/1999/xlink\" width=\"400\" height=\"400\" viewBox=\"-200.0 -200.0 400 400\">\n",
       "<defs>\n",
       "</defs>\n",
       "<path d=\"M-200.0,2.4492935982947064e-14 L-250.0,3.061616997868383e-14 A250,250,0,0,1,-241.4814565722671,-64.70476127563009 L-193.18516525781368,-51.76380902050407 A200,200,0,0,0,-200.0,2.4492935982947064e-14 Z\" stroke=\"white\" stroke-width=\"0.5\"/>\n",
       "</svg>"
      ],
      "text/plain": [
       "<IPython.core.display.SVG object>"
      ]
     },
     "metadata": {},
     "output_type": "display_data"
    },
    {
     "name": "stdout",
     "output_type": "stream",
     "text": [
      "Displaying: tile_ring3_division13.svg\n"
     ]
    },
    {
     "data": {
      "image/svg+xml": [
       "<svg xmlns=\"http://www.w3.org/2000/svg\" xmlns:xlink=\"http://www.w3.org/1999/xlink\" width=\"400\" height=\"400\" viewBox=\"-200.0 -200.0 400 400\">\n",
       "<defs>\n",
       "</defs>\n",
       "<path d=\"M-193.18516525781368,-51.76380902050407 L-241.4814565722671,-64.70476127563009 A250,250,0,0,1,-216.5063509461097,-124.99999999999994 L-173.20508075688775,-99.99999999999996 A200,200,0,0,0,-193.18516525781368,-51.76380902050407 Z\" stroke=\"white\" stroke-width=\"0.5\"/>\n",
       "</svg>"
      ],
      "text/plain": [
       "<IPython.core.display.SVG object>"
      ]
     },
     "metadata": {},
     "output_type": "display_data"
    },
    {
     "name": "stdout",
     "output_type": "stream",
     "text": [
      "Displaying: tile_ring3_division14.svg\n"
     ]
    },
    {
     "data": {
      "image/svg+xml": [
       "<svg xmlns=\"http://www.w3.org/2000/svg\" xmlns:xlink=\"http://www.w3.org/1999/xlink\" width=\"400\" height=\"400\" viewBox=\"-200.0 -200.0 400 400\">\n",
       "<defs>\n",
       "</defs>\n",
       "<path d=\"M-173.20508075688775,-99.99999999999996 L-216.5063509461097,-124.99999999999994 A250,250,0,0,1,-176.77669529663697,-176.77669529663677 L-141.42135623730957,-141.42135623730942 A200,200,0,0,0,-173.20508075688775,-99.99999999999996 Z\" stroke=\"white\" stroke-width=\"0.5\"/>\n",
       "</svg>"
      ],
      "text/plain": [
       "<IPython.core.display.SVG object>"
      ]
     },
     "metadata": {},
     "output_type": "display_data"
    },
    {
     "name": "stdout",
     "output_type": "stream",
     "text": [
      "Displaying: tile_ring3_division15.svg\n"
     ]
    },
    {
     "data": {
      "image/svg+xml": [
       "<svg xmlns=\"http://www.w3.org/2000/svg\" xmlns:xlink=\"http://www.w3.org/1999/xlink\" width=\"400\" height=\"400\" viewBox=\"-200.0 -200.0 400 400\">\n",
       "<defs>\n",
       "</defs>\n",
       "<path d=\"M-141.42135623730957,-141.42135623730942 L-176.77669529663697,-176.77669529663677 A250,250,0,0,1,-125.00000000000011,-216.5063509461096 L-100.00000000000009,-173.20508075688767 A200,200,0,0,0,-141.42135623730957,-141.42135623730942 Z\" stroke=\"white\" stroke-width=\"0.5\"/>\n",
       "</svg>"
      ],
      "text/plain": [
       "<IPython.core.display.SVG object>"
      ]
     },
     "metadata": {},
     "output_type": "display_data"
    },
    {
     "name": "stdout",
     "output_type": "stream",
     "text": [
      "Displaying: tile_ring3_division16.svg\n"
     ]
    },
    {
     "data": {
      "image/svg+xml": [
       "<svg xmlns=\"http://www.w3.org/2000/svg\" xmlns:xlink=\"http://www.w3.org/1999/xlink\" width=\"400\" height=\"400\" viewBox=\"-200.0 -200.0 400 400\">\n",
       "<defs>\n",
       "</defs>\n",
       "<path d=\"M-100.00000000000009,-173.20508075688767 L-125.00000000000011,-216.5063509461096 A250,250,0,0,1,-64.70476127563037,-241.48145657226704 L-51.763809020504304,-193.18516525781362 A200,200,0,0,0,-100.00000000000009,-173.20508075688767 Z\" stroke=\"white\" stroke-width=\"0.5\"/>\n",
       "</svg>"
      ],
      "text/plain": [
       "<IPython.core.display.SVG object>"
      ]
     },
     "metadata": {},
     "output_type": "display_data"
    },
    {
     "name": "stdout",
     "output_type": "stream",
     "text": [
      "Displaying: tile_ring3_division17.svg\n"
     ]
    },
    {
     "data": {
      "image/svg+xml": [
       "<svg xmlns=\"http://www.w3.org/2000/svg\" xmlns:xlink=\"http://www.w3.org/1999/xlink\" width=\"400\" height=\"400\" viewBox=\"-200.0 -200.0 400 400\">\n",
       "<defs>\n",
       "</defs>\n",
       "<path d=\"M-51.763809020504304,-193.18516525781362 L-64.70476127563037,-241.48145657226704 A250,250,0,0,1,-4.5924254968025744e-14,-250.0 L-3.6739403974420595e-14,-200.0 A200,200,0,0,0,-51.763809020504304,-193.18516525781362 Z\" stroke=\"white\" stroke-width=\"0.5\"/>\n",
       "</svg>"
      ],
      "text/plain": [
       "<IPython.core.display.SVG object>"
      ]
     },
     "metadata": {},
     "output_type": "display_data"
    },
    {
     "name": "stdout",
     "output_type": "stream",
     "text": [
      "Displaying: tile_ring3_division18.svg\n"
     ]
    },
    {
     "data": {
      "image/svg+xml": [
       "<svg xmlns=\"http://www.w3.org/2000/svg\" xmlns:xlink=\"http://www.w3.org/1999/xlink\" width=\"400\" height=\"400\" viewBox=\"-200.0 -200.0 400 400\">\n",
       "<defs>\n",
       "</defs>\n",
       "<path d=\"M-3.6739403974420595e-14,-200.0 L-4.5924254968025744e-14,-250.0 A250,250,0,0,1,64.70476127563008,-241.4814565722671 L51.763809020504056,-193.18516525781368 A200,200,0,0,0,-3.6739403974420595e-14,-200.0 Z\" stroke=\"white\" stroke-width=\"0.5\"/>\n",
       "</svg>"
      ],
      "text/plain": [
       "<IPython.core.display.SVG object>"
      ]
     },
     "metadata": {},
     "output_type": "display_data"
    },
    {
     "name": "stdout",
     "output_type": "stream",
     "text": [
      "Displaying: tile_ring3_division19.svg\n"
     ]
    },
    {
     "data": {
      "image/svg+xml": [
       "<svg xmlns=\"http://www.w3.org/2000/svg\" xmlns:xlink=\"http://www.w3.org/1999/xlink\" width=\"400\" height=\"400\" viewBox=\"-200.0 -200.0 400 400\">\n",
       "<defs>\n",
       "</defs>\n",
       "<path d=\"M51.763809020504056,-193.18516525781368 L64.70476127563008,-241.4814565722671 A250,250,0,0,1,124.99999999999983,-216.50635094610976 L99.99999999999987,-173.2050807568878 A200,200,0,0,0,51.763809020504056,-193.18516525781368 Z\" stroke=\"white\" stroke-width=\"0.5\"/>\n",
       "</svg>"
      ],
      "text/plain": [
       "<IPython.core.display.SVG object>"
      ]
     },
     "metadata": {},
     "output_type": "display_data"
    },
    {
     "name": "stdout",
     "output_type": "stream",
     "text": [
      "Displaying: tile_ring3_division2.svg\n"
     ]
    },
    {
     "data": {
      "image/svg+xml": [
       "<svg xmlns=\"http://www.w3.org/2000/svg\" xmlns:xlink=\"http://www.w3.org/1999/xlink\" width=\"400\" height=\"400\" viewBox=\"-200.0 -200.0 400 400\">\n",
       "<defs>\n",
       "</defs>\n",
       "<path d=\"M173.20508075688775,99.99999999999999 L216.50635094610968,124.99999999999999 A250,250,0,0,1,176.7766952966369,176.77669529663686 L141.4213562373095,141.42135623730948 A200,200,0,0,0,173.20508075688775,99.99999999999999 Z\" stroke=\"white\" stroke-width=\"0.5\"/>\n",
       "</svg>"
      ],
      "text/plain": [
       "<IPython.core.display.SVG object>"
      ]
     },
     "metadata": {},
     "output_type": "display_data"
    },
    {
     "name": "stdout",
     "output_type": "stream",
     "text": [
      "Displaying: tile_ring3_division20.svg\n"
     ]
    },
    {
     "data": {
      "image/svg+xml": [
       "<svg xmlns=\"http://www.w3.org/2000/svg\" xmlns:xlink=\"http://www.w3.org/1999/xlink\" width=\"400\" height=\"400\" viewBox=\"-200.0 -200.0 400 400\">\n",
       "<defs>\n",
       "</defs>\n",
       "<path d=\"M99.99999999999987,-173.2050807568878 L124.99999999999983,-216.50635094610976 A250,250,0,0,1,176.77669529663683,-176.77669529663692 L141.42135623730948,-141.42135623730954 A200,200,0,0,0,99.99999999999987,-173.2050807568878 Z\" stroke=\"white\" stroke-width=\"0.5\"/>\n",
       "</svg>"
      ],
      "text/plain": [
       "<IPython.core.display.SVG object>"
      ]
     },
     "metadata": {},
     "output_type": "display_data"
    },
    {
     "name": "stdout",
     "output_type": "stream",
     "text": [
      "Displaying: tile_ring3_division21.svg\n"
     ]
    },
    {
     "data": {
      "image/svg+xml": [
       "<svg xmlns=\"http://www.w3.org/2000/svg\" xmlns:xlink=\"http://www.w3.org/1999/xlink\" width=\"400\" height=\"400\" viewBox=\"-200.0 -200.0 400 400\">\n",
       "<defs>\n",
       "</defs>\n",
       "<path d=\"M141.42135623730948,-141.42135623730954 L176.77669529663683,-176.77669529663692 A250,250,0,0,1,216.5063509461096,-125.00000000000011 L173.20508075688767,-100.00000000000009 A200,200,0,0,0,141.42135623730948,-141.42135623730954 Z\" stroke=\"white\" stroke-width=\"0.5\"/>\n",
       "</svg>"
      ],
      "text/plain": [
       "<IPython.core.display.SVG object>"
      ]
     },
     "metadata": {},
     "output_type": "display_data"
    },
    {
     "name": "stdout",
     "output_type": "stream",
     "text": [
      "Displaying: tile_ring3_division22.svg\n"
     ]
    },
    {
     "data": {
      "image/svg+xml": [
       "<svg xmlns=\"http://www.w3.org/2000/svg\" xmlns:xlink=\"http://www.w3.org/1999/xlink\" width=\"400\" height=\"400\" viewBox=\"-200.0 -200.0 400 400\">\n",
       "<defs>\n",
       "</defs>\n",
       "<path d=\"M173.20508075688767,-100.00000000000009 L216.5063509461096,-125.00000000000011 A250,250,0,0,1,241.48145657226704,-64.70476127563039 L193.18516525781362,-51.76380902050431 A200,200,0,0,0,173.20508075688767,-100.00000000000009 Z\" stroke=\"white\" stroke-width=\"0.5\"/>\n",
       "</svg>"
      ],
      "text/plain": [
       "<IPython.core.display.SVG object>"
      ]
     },
     "metadata": {},
     "output_type": "display_data"
    },
    {
     "name": "stdout",
     "output_type": "stream",
     "text": [
      "Displaying: tile_ring3_division23.svg\n"
     ]
    },
    {
     "data": {
      "image/svg+xml": [
       "<svg xmlns=\"http://www.w3.org/2000/svg\" xmlns:xlink=\"http://www.w3.org/1999/xlink\" width=\"400\" height=\"400\" viewBox=\"-200.0 -200.0 400 400\">\n",
       "<defs>\n",
       "</defs>\n",
       "<path d=\"M193.18516525781362,-51.76380902050431 L241.48145657226704,-64.70476127563039 A250,250,0,0,1,250.0,-6.123233995736766e-14 L200.0,-4.898587196589413e-14 A200,200,0,0,0,193.18516525781362,-51.76380902050431 Z\" stroke=\"white\" stroke-width=\"0.5\"/>\n",
       "</svg>"
      ],
      "text/plain": [
       "<IPython.core.display.SVG object>"
      ]
     },
     "metadata": {},
     "output_type": "display_data"
    },
    {
     "name": "stdout",
     "output_type": "stream",
     "text": [
      "Displaying: tile_ring3_division3.svg\n"
     ]
    },
    {
     "data": {
      "image/svg+xml": [
       "<svg xmlns=\"http://www.w3.org/2000/svg\" xmlns:xlink=\"http://www.w3.org/1999/xlink\" width=\"400\" height=\"400\" viewBox=\"-200.0 -200.0 400 400\">\n",
       "<defs>\n",
       "</defs>\n",
       "<path d=\"M141.4213562373095,141.42135623730948 L176.7766952966369,176.77669529663686 A250,250,0,0,1,125.00000000000003,216.50635094610965 L100.00000000000003,173.20508075688772 A200,200,0,0,0,141.4213562373095,141.42135623730948 Z\" stroke=\"white\" stroke-width=\"0.5\"/>\n",
       "</svg>"
      ],
      "text/plain": [
       "<IPython.core.display.SVG object>"
      ]
     },
     "metadata": {},
     "output_type": "display_data"
    },
    {
     "name": "stdout",
     "output_type": "stream",
     "text": [
      "Displaying: tile_ring3_division4.svg\n"
     ]
    },
    {
     "data": {
      "image/svg+xml": [
       "<svg xmlns=\"http://www.w3.org/2000/svg\" xmlns:xlink=\"http://www.w3.org/1999/xlink\" width=\"400\" height=\"400\" viewBox=\"-200.0 -200.0 400 400\">\n",
       "<defs>\n",
       "</defs>\n",
       "<path d=\"M100.00000000000003,173.20508075688772 L125.00000000000003,216.50635094610965 A250,250,0,0,1,64.70476127563025,241.48145657226706 L51.76380902050419,193.18516525781365 A200,200,0,0,0,100.00000000000003,173.20508075688772 Z\" stroke=\"white\" stroke-width=\"0.5\"/>\n",
       "</svg>"
      ],
      "text/plain": [
       "<IPython.core.display.SVG object>"
      ]
     },
     "metadata": {},
     "output_type": "display_data"
    },
    {
     "name": "stdout",
     "output_type": "stream",
     "text": [
      "Displaying: tile_ring3_division5.svg\n"
     ]
    },
    {
     "data": {
      "image/svg+xml": [
       "<svg xmlns=\"http://www.w3.org/2000/svg\" xmlns:xlink=\"http://www.w3.org/1999/xlink\" width=\"400\" height=\"400\" viewBox=\"-200.0 -200.0 400 400\">\n",
       "<defs>\n",
       "</defs>\n",
       "<path d=\"M51.76380902050419,193.18516525781365 L64.70476127563025,241.48145657226706 A250,250,0,0,1,1.5308084989341916e-14,250.0 L1.2246467991473532e-14,200.0 A200,200,0,0,0,51.76380902050419,193.18516525781365 Z\" stroke=\"white\" stroke-width=\"0.5\"/>\n",
       "</svg>"
      ],
      "text/plain": [
       "<IPython.core.display.SVG object>"
      ]
     },
     "metadata": {},
     "output_type": "display_data"
    },
    {
     "name": "stdout",
     "output_type": "stream",
     "text": [
      "Displaying: tile_ring3_division6.svg\n"
     ]
    },
    {
     "data": {
      "image/svg+xml": [
       "<svg xmlns=\"http://www.w3.org/2000/svg\" xmlns:xlink=\"http://www.w3.org/1999/xlink\" width=\"400\" height=\"400\" viewBox=\"-200.0 -200.0 400 400\">\n",
       "<defs>\n",
       "</defs>\n",
       "<path d=\"M1.2246467991473532e-14,200.0 L1.5308084989341916e-14,250.0 A250,250,0,0,1,-64.70476127563016,241.4814565722671 L-51.76380902050413,193.18516525781365 A200,200,0,0,0,1.2246467991473532e-14,200.0 Z\" stroke=\"white\" stroke-width=\"0.5\"/>\n",
       "</svg>"
      ],
      "text/plain": [
       "<IPython.core.display.SVG object>"
      ]
     },
     "metadata": {},
     "output_type": "display_data"
    },
    {
     "name": "stdout",
     "output_type": "stream",
     "text": [
      "Displaying: tile_ring3_division7.svg\n"
     ]
    },
    {
     "data": {
      "image/svg+xml": [
       "<svg xmlns=\"http://www.w3.org/2000/svg\" xmlns:xlink=\"http://www.w3.org/1999/xlink\" width=\"400\" height=\"400\" viewBox=\"-200.0 -200.0 400 400\">\n",
       "<defs>\n",
       "</defs>\n",
       "<path d=\"M-51.76380902050413,193.18516525781365 L-64.70476127563016,241.4814565722671 A250,250,0,0,1,-124.99999999999996,216.50635094610968 L-99.99999999999997,173.20508075688775 A200,200,0,0,0,-51.76380902050413,193.18516525781365 Z\" stroke=\"white\" stroke-width=\"0.5\"/>\n",
       "</svg>"
      ],
      "text/plain": [
       "<IPython.core.display.SVG object>"
      ]
     },
     "metadata": {},
     "output_type": "display_data"
    },
    {
     "name": "stdout",
     "output_type": "stream",
     "text": [
      "Displaying: tile_ring3_division8.svg\n"
     ]
    },
    {
     "data": {
      "image/svg+xml": [
       "<svg xmlns=\"http://www.w3.org/2000/svg\" xmlns:xlink=\"http://www.w3.org/1999/xlink\" width=\"400\" height=\"400\" viewBox=\"-200.0 -200.0 400 400\">\n",
       "<defs>\n",
       "</defs>\n",
       "<path d=\"M-99.99999999999997,173.20508075688775 L-124.99999999999996,216.50635094610968 A250,250,0,0,1,-176.77669529663686,176.7766952966369 L-141.42135623730948,141.4213562373095 A200,200,0,0,0,-99.99999999999997,173.20508075688775 Z\" stroke=\"white\" stroke-width=\"0.5\"/>\n",
       "</svg>"
      ],
      "text/plain": [
       "<IPython.core.display.SVG object>"
      ]
     },
     "metadata": {},
     "output_type": "display_data"
    },
    {
     "name": "stdout",
     "output_type": "stream",
     "text": [
      "Displaying: tile_ring3_division9.svg\n"
     ]
    },
    {
     "data": {
      "image/svg+xml": [
       "<svg xmlns=\"http://www.w3.org/2000/svg\" xmlns:xlink=\"http://www.w3.org/1999/xlink\" width=\"400\" height=\"400\" viewBox=\"-200.0 -200.0 400 400\">\n",
       "<defs>\n",
       "</defs>\n",
       "<path d=\"M-141.42135623730948,141.4213562373095 L-176.77669529663686,176.7766952966369 A250,250,0,0,1,-216.50635094610962,125.00000000000009 L-173.2050807568877,100.00000000000007 A200,200,0,0,0,-141.42135623730948,141.4213562373095 Z\" stroke=\"white\" stroke-width=\"0.5\"/>\n",
       "</svg>"
      ],
      "text/plain": [
       "<IPython.core.display.SVG object>"
      ]
     },
     "metadata": {},
     "output_type": "display_data"
    },
    {
     "name": "stdout",
     "output_type": "stream",
     "text": [
      "Displaying: tile_ring4_division0.svg\n"
     ]
    },
    {
     "data": {
      "image/svg+xml": [
       "<svg xmlns=\"http://www.w3.org/2000/svg\" xmlns:xlink=\"http://www.w3.org/1999/xlink\" width=\"400\" height=\"400\" viewBox=\"-200.0 -200.0 400 400\">\n",
       "<defs>\n",
       "</defs>\n",
       "<path d=\"M250.0,0.0 L300.0,0.0 A300,300,0,0,1,289.7777478867205,77.64571353075623 L241.4814565722671,64.70476127563019 A250,250,0,0,0,250.0,0.0 Z\" stroke=\"white\" stroke-width=\"0.5\"/>\n",
       "</svg>"
      ],
      "text/plain": [
       "<IPython.core.display.SVG object>"
      ]
     },
     "metadata": {},
     "output_type": "display_data"
    },
    {
     "name": "stdout",
     "output_type": "stream",
     "text": [
      "Displaying: tile_ring4_division1.svg\n"
     ]
    },
    {
     "data": {
      "image/svg+xml": [
       "<svg xmlns=\"http://www.w3.org/2000/svg\" xmlns:xlink=\"http://www.w3.org/1999/xlink\" width=\"400\" height=\"400\" viewBox=\"-200.0 -200.0 400 400\">\n",
       "<defs>\n",
       "</defs>\n",
       "<path d=\"M241.4814565722671,64.70476127563019 L289.7777478867205,77.64571353075623 A300,300,0,0,1,259.8076211353316,149.99999999999997 L216.50635094610968,124.99999999999999 A250,250,0,0,0,241.4814565722671,64.70476127563019 Z\" stroke=\"white\" stroke-width=\"0.5\"/>\n",
       "</svg>"
      ],
      "text/plain": [
       "<IPython.core.display.SVG object>"
      ]
     },
     "metadata": {},
     "output_type": "display_data"
    },
    {
     "name": "stdout",
     "output_type": "stream",
     "text": [
      "Displaying: tile_ring4_division10.svg\n"
     ]
    },
    {
     "data": {
      "image/svg+xml": [
       "<svg xmlns=\"http://www.w3.org/2000/svg\" xmlns:xlink=\"http://www.w3.org/1999/xlink\" width=\"400\" height=\"400\" viewBox=\"-200.0 -200.0 400 400\">\n",
       "<defs>\n",
       "</defs>\n",
       "<path d=\"M-216.50635094610962,125.00000000000009 L-259.80762113533154,150.0000000000001 A300,300,0,0,1,-289.7777478867205,77.64571353075631 L-241.48145657226706,64.70476127563026 A250,250,0,0,0,-216.50635094610962,125.00000000000009 Z\" stroke=\"white\" stroke-width=\"0.5\"/>\n",
       "</svg>"
      ],
      "text/plain": [
       "<IPython.core.display.SVG object>"
      ]
     },
     "metadata": {},
     "output_type": "display_data"
    },
    {
     "name": "stdout",
     "output_type": "stream",
     "text": [
      "Displaying: tile_ring4_division11.svg\n"
     ]
    },
    {
     "data": {
      "image/svg+xml": [
       "<svg xmlns=\"http://www.w3.org/2000/svg\" xmlns:xlink=\"http://www.w3.org/1999/xlink\" width=\"400\" height=\"400\" viewBox=\"-200.0 -200.0 400 400\">\n",
       "<defs>\n",
       "</defs>\n",
       "<path d=\"M-241.48145657226706,64.70476127563026 L-289.7777478867205,77.64571353075631 A300,300,0,0,1,-300.0,3.6739403974420595e-14 L-250.0,3.061616997868383e-14 A250,250,0,0,0,-241.48145657226706,64.70476127563026 Z\" stroke=\"white\" stroke-width=\"0.5\"/>\n",
       "</svg>"
      ],
      "text/plain": [
       "<IPython.core.display.SVG object>"
      ]
     },
     "metadata": {},
     "output_type": "display_data"
    },
    {
     "name": "stdout",
     "output_type": "stream",
     "text": [
      "Displaying: tile_ring4_division12.svg\n"
     ]
    },
    {
     "data": {
      "image/svg+xml": [
       "<svg xmlns=\"http://www.w3.org/2000/svg\" xmlns:xlink=\"http://www.w3.org/1999/xlink\" width=\"400\" height=\"400\" viewBox=\"-200.0 -200.0 400 400\">\n",
       "<defs>\n",
       "</defs>\n",
       "<path d=\"M-250.0,3.061616997868383e-14 L-300.0,3.6739403974420595e-14 A300,300,0,0,1,-289.77774788672053,-77.64571353075611 L-241.4814565722671,-64.70476127563009 A250,250,0,0,0,-250.0,3.061616997868383e-14 Z\" stroke=\"white\" stroke-width=\"0.5\"/>\n",
       "</svg>"
      ],
      "text/plain": [
       "<IPython.core.display.SVG object>"
      ]
     },
     "metadata": {},
     "output_type": "display_data"
    },
    {
     "name": "stdout",
     "output_type": "stream",
     "text": [
      "Displaying: tile_ring4_division13.svg\n"
     ]
    },
    {
     "data": {
      "image/svg+xml": [
       "<svg xmlns=\"http://www.w3.org/2000/svg\" xmlns:xlink=\"http://www.w3.org/1999/xlink\" width=\"400\" height=\"400\" viewBox=\"-200.0 -200.0 400 400\">\n",
       "<defs>\n",
       "</defs>\n",
       "<path d=\"M-241.4814565722671,-64.70476127563009 L-289.77774788672053,-77.64571353075611 A300,300,0,0,1,-259.80762113533166,-149.99999999999994 L-216.5063509461097,-124.99999999999994 A250,250,0,0,0,-241.4814565722671,-64.70476127563009 Z\" stroke=\"white\" stroke-width=\"0.5\"/>\n",
       "</svg>"
      ],
      "text/plain": [
       "<IPython.core.display.SVG object>"
      ]
     },
     "metadata": {},
     "output_type": "display_data"
    },
    {
     "name": "stdout",
     "output_type": "stream",
     "text": [
      "Displaying: tile_ring4_division14.svg\n"
     ]
    },
    {
     "data": {
      "image/svg+xml": [
       "<svg xmlns=\"http://www.w3.org/2000/svg\" xmlns:xlink=\"http://www.w3.org/1999/xlink\" width=\"400\" height=\"400\" viewBox=\"-200.0 -200.0 400 400\">\n",
       "<defs>\n",
       "</defs>\n",
       "<path d=\"M-216.5063509461097,-124.99999999999994 L-259.80762113533166,-149.99999999999994 A300,300,0,0,1,-212.13203435596438,-212.13203435596415 L-176.77669529663697,-176.77669529663677 A250,250,0,0,0,-216.5063509461097,-124.99999999999994 Z\" stroke=\"white\" stroke-width=\"0.5\"/>\n",
       "</svg>"
      ],
      "text/plain": [
       "<IPython.core.display.SVG object>"
      ]
     },
     "metadata": {},
     "output_type": "display_data"
    },
    {
     "name": "stdout",
     "output_type": "stream",
     "text": [
      "Displaying: tile_ring4_division15.svg\n"
     ]
    },
    {
     "data": {
      "image/svg+xml": [
       "<svg xmlns=\"http://www.w3.org/2000/svg\" xmlns:xlink=\"http://www.w3.org/1999/xlink\" width=\"400\" height=\"400\" viewBox=\"-200.0 -200.0 400 400\">\n",
       "<defs>\n",
       "</defs>\n",
       "<path d=\"M-176.77669529663697,-176.77669529663677 L-212.13203435596438,-212.13203435596415 A300,300,0,0,1,-150.00000000000014,-259.8076211353315 L-125.00000000000011,-216.5063509461096 A250,250,0,0,0,-176.77669529663697,-176.77669529663677 Z\" stroke=\"white\" stroke-width=\"0.5\"/>\n",
       "</svg>"
      ],
      "text/plain": [
       "<IPython.core.display.SVG object>"
      ]
     },
     "metadata": {},
     "output_type": "display_data"
    },
    {
     "name": "stdout",
     "output_type": "stream",
     "text": [
      "Displaying: tile_ring4_division16.svg\n"
     ]
    },
    {
     "data": {
      "image/svg+xml": [
       "<svg xmlns=\"http://www.w3.org/2000/svg\" xmlns:xlink=\"http://www.w3.org/1999/xlink\" width=\"400\" height=\"400\" viewBox=\"-200.0 -200.0 400 400\">\n",
       "<defs>\n",
       "</defs>\n",
       "<path d=\"M-125.00000000000011,-216.5063509461096 L-150.00000000000014,-259.8076211353315 A300,300,0,0,1,-77.64571353075645,-289.7777478867204 L-64.70476127563037,-241.48145657226704 A250,250,0,0,0,-125.00000000000011,-216.5063509461096 Z\" stroke=\"white\" stroke-width=\"0.5\"/>\n",
       "</svg>"
      ],
      "text/plain": [
       "<IPython.core.display.SVG object>"
      ]
     },
     "metadata": {},
     "output_type": "display_data"
    },
    {
     "name": "stdout",
     "output_type": "stream",
     "text": [
      "Displaying: tile_ring4_division17.svg\n"
     ]
    },
    {
     "data": {
      "image/svg+xml": [
       "<svg xmlns=\"http://www.w3.org/2000/svg\" xmlns:xlink=\"http://www.w3.org/1999/xlink\" width=\"400\" height=\"400\" viewBox=\"-200.0 -200.0 400 400\">\n",
       "<defs>\n",
       "</defs>\n",
       "<path d=\"M-64.70476127563037,-241.48145657226704 L-77.64571353075645,-289.7777478867204 A300,300,0,0,1,-5.510910596163089e-14,-300.0 L-4.5924254968025744e-14,-250.0 A250,250,0,0,0,-64.70476127563037,-241.48145657226704 Z\" stroke=\"white\" stroke-width=\"0.5\"/>\n",
       "</svg>"
      ],
      "text/plain": [
       "<IPython.core.display.SVG object>"
      ]
     },
     "metadata": {},
     "output_type": "display_data"
    },
    {
     "name": "stdout",
     "output_type": "stream",
     "text": [
      "Displaying: tile_ring4_division18.svg\n"
     ]
    },
    {
     "data": {
      "image/svg+xml": [
       "<svg xmlns=\"http://www.w3.org/2000/svg\" xmlns:xlink=\"http://www.w3.org/1999/xlink\" width=\"400\" height=\"400\" viewBox=\"-200.0 -200.0 400 400\">\n",
       "<defs>\n",
       "</defs>\n",
       "<path d=\"M-4.5924254968025744e-14,-250.0 L-5.510910596163089e-14,-300.0 A300,300,0,0,1,77.64571353075608,-289.77774788672053 L64.70476127563008,-241.4814565722671 A250,250,0,0,0,-4.5924254968025744e-14,-250.0 Z\" stroke=\"white\" stroke-width=\"0.5\"/>\n",
       "</svg>"
      ],
      "text/plain": [
       "<IPython.core.display.SVG object>"
      ]
     },
     "metadata": {},
     "output_type": "display_data"
    },
    {
     "name": "stdout",
     "output_type": "stream",
     "text": [
      "Displaying: tile_ring4_division19.svg\n"
     ]
    },
    {
     "data": {
      "image/svg+xml": [
       "<svg xmlns=\"http://www.w3.org/2000/svg\" xmlns:xlink=\"http://www.w3.org/1999/xlink\" width=\"400\" height=\"400\" viewBox=\"-200.0 -200.0 400 400\">\n",
       "<defs>\n",
       "</defs>\n",
       "<path d=\"M64.70476127563008,-241.4814565722671 L77.64571353075608,-289.77774788672053 A300,300,0,0,1,149.9999999999998,-259.8076211353317 L124.99999999999983,-216.50635094610976 A250,250,0,0,0,64.70476127563008,-241.4814565722671 Z\" stroke=\"white\" stroke-width=\"0.5\"/>\n",
       "</svg>"
      ],
      "text/plain": [
       "<IPython.core.display.SVG object>"
      ]
     },
     "metadata": {},
     "output_type": "display_data"
    },
    {
     "name": "stdout",
     "output_type": "stream",
     "text": [
      "Displaying: tile_ring4_division2.svg\n"
     ]
    },
    {
     "data": {
      "image/svg+xml": [
       "<svg xmlns=\"http://www.w3.org/2000/svg\" xmlns:xlink=\"http://www.w3.org/1999/xlink\" width=\"400\" height=\"400\" viewBox=\"-200.0 -200.0 400 400\">\n",
       "<defs>\n",
       "</defs>\n",
       "<path d=\"M216.50635094610968,124.99999999999999 L259.8076211353316,149.99999999999997 A300,300,0,0,1,212.13203435596427,212.13203435596424 L176.7766952966369,176.77669529663686 A250,250,0,0,0,216.50635094610968,124.99999999999999 Z\" stroke=\"white\" stroke-width=\"0.5\"/>\n",
       "</svg>"
      ],
      "text/plain": [
       "<IPython.core.display.SVG object>"
      ]
     },
     "metadata": {},
     "output_type": "display_data"
    },
    {
     "name": "stdout",
     "output_type": "stream",
     "text": [
      "Displaying: tile_ring4_division20.svg\n"
     ]
    },
    {
     "data": {
      "image/svg+xml": [
       "<svg xmlns=\"http://www.w3.org/2000/svg\" xmlns:xlink=\"http://www.w3.org/1999/xlink\" width=\"400\" height=\"400\" viewBox=\"-200.0 -200.0 400 400\">\n",
       "<defs>\n",
       "</defs>\n",
       "<path d=\"M124.99999999999983,-216.50635094610976 L149.9999999999998,-259.8076211353317 A300,300,0,0,1,212.1320343559642,-212.1320343559643 L176.77669529663683,-176.77669529663692 A250,250,0,0,0,124.99999999999983,-216.50635094610976 Z\" stroke=\"white\" stroke-width=\"0.5\"/>\n",
       "</svg>"
      ],
      "text/plain": [
       "<IPython.core.display.SVG object>"
      ]
     },
     "metadata": {},
     "output_type": "display_data"
    },
    {
     "name": "stdout",
     "output_type": "stream",
     "text": [
      "Displaying: tile_ring4_division21.svg\n"
     ]
    },
    {
     "data": {
      "image/svg+xml": [
       "<svg xmlns=\"http://www.w3.org/2000/svg\" xmlns:xlink=\"http://www.w3.org/1999/xlink\" width=\"400\" height=\"400\" viewBox=\"-200.0 -200.0 400 400\">\n",
       "<defs>\n",
       "</defs>\n",
       "<path d=\"M176.77669529663683,-176.77669529663692 L212.1320343559642,-212.1320343559643 A300,300,0,0,1,259.8076211353315,-150.00000000000014 L216.5063509461096,-125.00000000000011 A250,250,0,0,0,176.77669529663683,-176.77669529663692 Z\" stroke=\"white\" stroke-width=\"0.5\"/>\n",
       "</svg>"
      ],
      "text/plain": [
       "<IPython.core.display.SVG object>"
      ]
     },
     "metadata": {},
     "output_type": "display_data"
    },
    {
     "name": "stdout",
     "output_type": "stream",
     "text": [
      "Displaying: tile_ring4_division22.svg\n"
     ]
    },
    {
     "data": {
      "image/svg+xml": [
       "<svg xmlns=\"http://www.w3.org/2000/svg\" xmlns:xlink=\"http://www.w3.org/1999/xlink\" width=\"400\" height=\"400\" viewBox=\"-200.0 -200.0 400 400\">\n",
       "<defs>\n",
       "</defs>\n",
       "<path d=\"M216.5063509461096,-125.00000000000011 L259.8076211353315,-150.00000000000014 A300,300,0,0,1,289.7777478867204,-77.64571353075647 L241.48145657226704,-64.70476127563039 A250,250,0,0,0,216.5063509461096,-125.00000000000011 Z\" stroke=\"white\" stroke-width=\"0.5\"/>\n",
       "</svg>"
      ],
      "text/plain": [
       "<IPython.core.display.SVG object>"
      ]
     },
     "metadata": {},
     "output_type": "display_data"
    },
    {
     "name": "stdout",
     "output_type": "stream",
     "text": [
      "Displaying: tile_ring4_division23.svg\n"
     ]
    },
    {
     "data": {
      "image/svg+xml": [
       "<svg xmlns=\"http://www.w3.org/2000/svg\" xmlns:xlink=\"http://www.w3.org/1999/xlink\" width=\"400\" height=\"400\" viewBox=\"-200.0 -200.0 400 400\">\n",
       "<defs>\n",
       "</defs>\n",
       "<path d=\"M241.48145657226704,-64.70476127563039 L289.7777478867204,-77.64571353075647 A300,300,0,0,1,300.0,-7.347880794884119e-14 L250.0,-6.123233995736766e-14 A250,250,0,0,0,241.48145657226704,-64.70476127563039 Z\" stroke=\"white\" stroke-width=\"0.5\"/>\n",
       "</svg>"
      ],
      "text/plain": [
       "<IPython.core.display.SVG object>"
      ]
     },
     "metadata": {},
     "output_type": "display_data"
    },
    {
     "name": "stdout",
     "output_type": "stream",
     "text": [
      "Displaying: tile_ring4_division3.svg\n"
     ]
    },
    {
     "data": {
      "image/svg+xml": [
       "<svg xmlns=\"http://www.w3.org/2000/svg\" xmlns:xlink=\"http://www.w3.org/1999/xlink\" width=\"400\" height=\"400\" viewBox=\"-200.0 -200.0 400 400\">\n",
       "<defs>\n",
       "</defs>\n",
       "<path d=\"M176.7766952966369,176.77669529663686 L212.13203435596427,212.13203435596424 A300,300,0,0,1,150.00000000000003,259.8076211353316 L125.00000000000003,216.50635094610965 A250,250,0,0,0,176.7766952966369,176.77669529663686 Z\" stroke=\"white\" stroke-width=\"0.5\"/>\n",
       "</svg>"
      ],
      "text/plain": [
       "<IPython.core.display.SVG object>"
      ]
     },
     "metadata": {},
     "output_type": "display_data"
    },
    {
     "name": "stdout",
     "output_type": "stream",
     "text": [
      "Displaying: tile_ring4_division4.svg\n"
     ]
    },
    {
     "data": {
      "image/svg+xml": [
       "<svg xmlns=\"http://www.w3.org/2000/svg\" xmlns:xlink=\"http://www.w3.org/1999/xlink\" width=\"400\" height=\"400\" viewBox=\"-200.0 -200.0 400 400\">\n",
       "<defs>\n",
       "</defs>\n",
       "<path d=\"M125.00000000000003,216.50635094610965 L150.00000000000003,259.8076211353316 A300,300,0,0,1,77.64571353075628,289.7777478867205 L64.70476127563025,241.48145657226706 A250,250,0,0,0,125.00000000000003,216.50635094610965 Z\" stroke=\"white\" stroke-width=\"0.5\"/>\n",
       "</svg>"
      ],
      "text/plain": [
       "<IPython.core.display.SVG object>"
      ]
     },
     "metadata": {},
     "output_type": "display_data"
    },
    {
     "name": "stdout",
     "output_type": "stream",
     "text": [
      "Displaying: tile_ring4_division5.svg\n"
     ]
    },
    {
     "data": {
      "image/svg+xml": [
       "<svg xmlns=\"http://www.w3.org/2000/svg\" xmlns:xlink=\"http://www.w3.org/1999/xlink\" width=\"400\" height=\"400\" viewBox=\"-200.0 -200.0 400 400\">\n",
       "<defs>\n",
       "</defs>\n",
       "<path d=\"M64.70476127563025,241.48145657226706 L77.64571353075628,289.7777478867205 A300,300,0,0,1,1.8369701987210297e-14,300.0 L1.5308084989341916e-14,250.0 A250,250,0,0,0,64.70476127563025,241.48145657226706 Z\" stroke=\"white\" stroke-width=\"0.5\"/>\n",
       "</svg>"
      ],
      "text/plain": [
       "<IPython.core.display.SVG object>"
      ]
     },
     "metadata": {},
     "output_type": "display_data"
    },
    {
     "name": "stdout",
     "output_type": "stream",
     "text": [
      "Displaying: tile_ring4_division6.svg\n"
     ]
    },
    {
     "data": {
      "image/svg+xml": [
       "<svg xmlns=\"http://www.w3.org/2000/svg\" xmlns:xlink=\"http://www.w3.org/1999/xlink\" width=\"400\" height=\"400\" viewBox=\"-200.0 -200.0 400 400\">\n",
       "<defs>\n",
       "</defs>\n",
       "<path d=\"M1.5308084989341916e-14,250.0 L1.8369701987210297e-14,300.0 A300,300,0,0,1,-77.64571353075618,289.7777478867205 L-64.70476127563016,241.4814565722671 A250,250,0,0,0,1.5308084989341916e-14,250.0 Z\" stroke=\"white\" stroke-width=\"0.5\"/>\n",
       "</svg>"
      ],
      "text/plain": [
       "<IPython.core.display.SVG object>"
      ]
     },
     "metadata": {},
     "output_type": "display_data"
    },
    {
     "name": "stdout",
     "output_type": "stream",
     "text": [
      "Displaying: tile_ring4_division7.svg\n"
     ]
    },
    {
     "data": {
      "image/svg+xml": [
       "<svg xmlns=\"http://www.w3.org/2000/svg\" xmlns:xlink=\"http://www.w3.org/1999/xlink\" width=\"400\" height=\"400\" viewBox=\"-200.0 -200.0 400 400\">\n",
       "<defs>\n",
       "</defs>\n",
       "<path d=\"M-64.70476127563016,241.4814565722671 L-77.64571353075618,289.7777478867205 A300,300,0,0,1,-149.99999999999994,259.8076211353316 L-124.99999999999996,216.50635094610968 A250,250,0,0,0,-64.70476127563016,241.4814565722671 Z\" stroke=\"white\" stroke-width=\"0.5\"/>\n",
       "</svg>"
      ],
      "text/plain": [
       "<IPython.core.display.SVG object>"
      ]
     },
     "metadata": {},
     "output_type": "display_data"
    },
    {
     "name": "stdout",
     "output_type": "stream",
     "text": [
      "Displaying: tile_ring4_division8.svg\n"
     ]
    },
    {
     "data": {
      "image/svg+xml": [
       "<svg xmlns=\"http://www.w3.org/2000/svg\" xmlns:xlink=\"http://www.w3.org/1999/xlink\" width=\"400\" height=\"400\" viewBox=\"-200.0 -200.0 400 400\">\n",
       "<defs>\n",
       "</defs>\n",
       "<path d=\"M-124.99999999999996,216.50635094610968 L-149.99999999999994,259.8076211353316 A300,300,0,0,1,-212.13203435596424,212.13203435596427 L-176.77669529663686,176.7766952966369 A250,250,0,0,0,-124.99999999999996,216.50635094610968 Z\" stroke=\"white\" stroke-width=\"0.5\"/>\n",
       "</svg>"
      ],
      "text/plain": [
       "<IPython.core.display.SVG object>"
      ]
     },
     "metadata": {},
     "output_type": "display_data"
    },
    {
     "name": "stdout",
     "output_type": "stream",
     "text": [
      "Displaying: tile_ring4_division9.svg\n"
     ]
    },
    {
     "data": {
      "image/svg+xml": [
       "<svg xmlns=\"http://www.w3.org/2000/svg\" xmlns:xlink=\"http://www.w3.org/1999/xlink\" width=\"400\" height=\"400\" viewBox=\"-200.0 -200.0 400 400\">\n",
       "<defs>\n",
       "</defs>\n",
       "<path d=\"M-176.77669529663686,176.7766952966369 L-212.13203435596424,212.13203435596427 A300,300,0,0,1,-259.80762113533154,150.0000000000001 L-216.50635094610962,125.00000000000009 A250,250,0,0,0,-176.77669529663686,176.7766952966369 Z\" stroke=\"white\" stroke-width=\"0.5\"/>\n",
       "</svg>"
      ],
      "text/plain": [
       "<IPython.core.display.SVG object>"
      ]
     },
     "metadata": {},
     "output_type": "display_data"
    },
    {
     "name": "stdout",
     "output_type": "stream",
     "text": [
      "Displaying: tile_ring5_division0.svg\n"
     ]
    },
    {
     "data": {
      "image/svg+xml": [
       "<svg xmlns=\"http://www.w3.org/2000/svg\" xmlns:xlink=\"http://www.w3.org/1999/xlink\" width=\"400\" height=\"400\" viewBox=\"-200.0 -200.0 400 400\">\n",
       "<defs>\n",
       "</defs>\n",
       "<path d=\"M300.0,0.0 L350.0,0.0 A350,350,0,0,1,338.0740392011739,90.58666578588226 L289.7777478867205,77.64571353075623 A300,300,0,0,0,300.0,0.0 Z\" stroke=\"white\" stroke-width=\"0.5\"/>\n",
       "</svg>"
      ],
      "text/plain": [
       "<IPython.core.display.SVG object>"
      ]
     },
     "metadata": {},
     "output_type": "display_data"
    },
    {
     "name": "stdout",
     "output_type": "stream",
     "text": [
      "Displaying: tile_ring5_division1.svg\n"
     ]
    },
    {
     "data": {
      "image/svg+xml": [
       "<svg xmlns=\"http://www.w3.org/2000/svg\" xmlns:xlink=\"http://www.w3.org/1999/xlink\" width=\"400\" height=\"400\" viewBox=\"-200.0 -200.0 400 400\">\n",
       "<defs>\n",
       "</defs>\n",
       "<path d=\"M289.7777478867205,77.64571353075623 L338.0740392011739,90.58666578588226 A350,350,0,0,1,303.10889132455355,174.99999999999997 L259.8076211353316,149.99999999999997 A300,300,0,0,0,289.7777478867205,77.64571353075623 Z\" stroke=\"white\" stroke-width=\"0.5\"/>\n",
       "</svg>"
      ],
      "text/plain": [
       "<IPython.core.display.SVG object>"
      ]
     },
     "metadata": {},
     "output_type": "display_data"
    },
    {
     "name": "stdout",
     "output_type": "stream",
     "text": [
      "Displaying: tile_ring5_division10.svg\n"
     ]
    },
    {
     "data": {
      "image/svg+xml": [
       "<svg xmlns=\"http://www.w3.org/2000/svg\" xmlns:xlink=\"http://www.w3.org/1999/xlink\" width=\"400\" height=\"400\" viewBox=\"-200.0 -200.0 400 400\">\n",
       "<defs>\n",
       "</defs>\n",
       "<path d=\"M-259.80762113533154,150.0000000000001 L-303.1088913245535,175.0000000000001 A350,350,0,0,1,-338.0740392011739,90.58666578588236 L-289.7777478867205,77.64571353075631 A300,300,0,0,0,-259.80762113533154,150.0000000000001 Z\" stroke=\"white\" stroke-width=\"0.5\"/>\n",
       "</svg>"
      ],
      "text/plain": [
       "<IPython.core.display.SVG object>"
      ]
     },
     "metadata": {},
     "output_type": "display_data"
    },
    {
     "name": "stdout",
     "output_type": "stream",
     "text": [
      "Displaying: tile_ring5_division11.svg\n"
     ]
    },
    {
     "data": {
      "image/svg+xml": [
       "<svg xmlns=\"http://www.w3.org/2000/svg\" xmlns:xlink=\"http://www.w3.org/1999/xlink\" width=\"400\" height=\"400\" viewBox=\"-200.0 -200.0 400 400\">\n",
       "<defs>\n",
       "</defs>\n",
       "<path d=\"M-289.7777478867205,77.64571353075631 L-338.0740392011739,90.58666578588236 A350,350,0,0,1,-350.0,4.2862637970157365e-14 L-300.0,3.6739403974420595e-14 A300,300,0,0,0,-289.7777478867205,77.64571353075631 Z\" stroke=\"white\" stroke-width=\"0.5\"/>\n",
       "</svg>"
      ],
      "text/plain": [
       "<IPython.core.display.SVG object>"
      ]
     },
     "metadata": {},
     "output_type": "display_data"
    },
    {
     "name": "stdout",
     "output_type": "stream",
     "text": [
      "Displaying: tile_ring5_division12.svg\n"
     ]
    },
    {
     "data": {
      "image/svg+xml": [
       "<svg xmlns=\"http://www.w3.org/2000/svg\" xmlns:xlink=\"http://www.w3.org/1999/xlink\" width=\"400\" height=\"400\" viewBox=\"-200.0 -200.0 400 400\">\n",
       "<defs>\n",
       "</defs>\n",
       "<path d=\"M-300.0,3.6739403974420595e-14 L-350.0,4.2862637970157365e-14 A350,350,0,0,1,-338.07403920117395,-90.58666578588212 L-289.77774788672053,-77.64571353075611 A300,300,0,0,0,-300.0,3.6739403974420595e-14 Z\" stroke=\"white\" stroke-width=\"0.5\"/>\n",
       "</svg>"
      ],
      "text/plain": [
       "<IPython.core.display.SVG object>"
      ]
     },
     "metadata": {},
     "output_type": "display_data"
    },
    {
     "name": "stdout",
     "output_type": "stream",
     "text": [
      "Displaying: tile_ring5_division13.svg\n"
     ]
    },
    {
     "data": {
      "image/svg+xml": [
       "<svg xmlns=\"http://www.w3.org/2000/svg\" xmlns:xlink=\"http://www.w3.org/1999/xlink\" width=\"400\" height=\"400\" viewBox=\"-200.0 -200.0 400 400\">\n",
       "<defs>\n",
       "</defs>\n",
       "<path d=\"M-289.77774788672053,-77.64571353075611 L-338.07403920117395,-90.58666578588212 A350,350,0,0,1,-303.1088913245536,-174.99999999999991 L-259.80762113533166,-149.99999999999994 A300,300,0,0,0,-289.77774788672053,-77.64571353075611 Z\" stroke=\"white\" stroke-width=\"0.5\"/>\n",
       "</svg>"
      ],
      "text/plain": [
       "<IPython.core.display.SVG object>"
      ]
     },
     "metadata": {},
     "output_type": "display_data"
    },
    {
     "name": "stdout",
     "output_type": "stream",
     "text": [
      "Displaying: tile_ring5_division14.svg\n"
     ]
    },
    {
     "data": {
      "image/svg+xml": [
       "<svg xmlns=\"http://www.w3.org/2000/svg\" xmlns:xlink=\"http://www.w3.org/1999/xlink\" width=\"400\" height=\"400\" viewBox=\"-200.0 -200.0 400 400\">\n",
       "<defs>\n",
       "</defs>\n",
       "<path d=\"M-259.80762113533166,-149.99999999999994 L-303.1088913245536,-174.99999999999991 A350,350,0,0,1,-247.48737341529176,-247.4873734152915 L-212.13203435596438,-212.13203435596415 A300,300,0,0,0,-259.80762113533166,-149.99999999999994 Z\" stroke=\"white\" stroke-width=\"0.5\"/>\n",
       "</svg>"
      ],
      "text/plain": [
       "<IPython.core.display.SVG object>"
      ]
     },
     "metadata": {},
     "output_type": "display_data"
    },
    {
     "name": "stdout",
     "output_type": "stream",
     "text": [
      "Displaying: tile_ring5_division15.svg\n"
     ]
    },
    {
     "data": {
      "image/svg+xml": [
       "<svg xmlns=\"http://www.w3.org/2000/svg\" xmlns:xlink=\"http://www.w3.org/1999/xlink\" width=\"400\" height=\"400\" viewBox=\"-200.0 -200.0 400 400\">\n",
       "<defs>\n",
       "</defs>\n",
       "<path d=\"M-212.13203435596438,-212.13203435596415 L-247.48737341529176,-247.4873734152915 A350,350,0,0,1,-175.00000000000014,-303.10889132455344 L-150.00000000000014,-259.8076211353315 A300,300,0,0,0,-212.13203435596438,-212.13203435596415 Z\" stroke=\"white\" stroke-width=\"0.5\"/>\n",
       "</svg>"
      ],
      "text/plain": [
       "<IPython.core.display.SVG object>"
      ]
     },
     "metadata": {},
     "output_type": "display_data"
    },
    {
     "name": "stdout",
     "output_type": "stream",
     "text": [
      "Displaying: tile_ring5_division16.svg\n"
     ]
    },
    {
     "data": {
      "image/svg+xml": [
       "<svg xmlns=\"http://www.w3.org/2000/svg\" xmlns:xlink=\"http://www.w3.org/1999/xlink\" width=\"400\" height=\"400\" viewBox=\"-200.0 -200.0 400 400\">\n",
       "<defs>\n",
       "</defs>\n",
       "<path d=\"M-150.00000000000014,-259.8076211353315 L-175.00000000000014,-303.10889132455344 A350,350,0,0,1,-90.58666578588253,-338.07403920117383 L-77.64571353075645,-289.7777478867204 A300,300,0,0,0,-150.00000000000014,-259.8076211353315 Z\" stroke=\"white\" stroke-width=\"0.5\"/>\n",
       "</svg>"
      ],
      "text/plain": [
       "<IPython.core.display.SVG object>"
      ]
     },
     "metadata": {},
     "output_type": "display_data"
    },
    {
     "name": "stdout",
     "output_type": "stream",
     "text": [
      "Displaying: tile_ring5_division17.svg\n"
     ]
    },
    {
     "data": {
      "image/svg+xml": [
       "<svg xmlns=\"http://www.w3.org/2000/svg\" xmlns:xlink=\"http://www.w3.org/1999/xlink\" width=\"400\" height=\"400\" viewBox=\"-200.0 -200.0 400 400\">\n",
       "<defs>\n",
       "</defs>\n",
       "<path d=\"M-77.64571353075645,-289.7777478867204 L-90.58666578588253,-338.07403920117383 A350,350,0,0,1,-6.429395695523604e-14,-350.0 L-5.510910596163089e-14,-300.0 A300,300,0,0,0,-77.64571353075645,-289.7777478867204 Z\" stroke=\"white\" stroke-width=\"0.5\"/>\n",
       "</svg>"
      ],
      "text/plain": [
       "<IPython.core.display.SVG object>"
      ]
     },
     "metadata": {},
     "output_type": "display_data"
    },
    {
     "name": "stdout",
     "output_type": "stream",
     "text": [
      "Displaying: tile_ring5_division18.svg\n"
     ]
    },
    {
     "data": {
      "image/svg+xml": [
       "<svg xmlns=\"http://www.w3.org/2000/svg\" xmlns:xlink=\"http://www.w3.org/1999/xlink\" width=\"400\" height=\"400\" viewBox=\"-200.0 -200.0 400 400\">\n",
       "<defs>\n",
       "</defs>\n",
       "<path d=\"M-5.510910596163089e-14,-300.0 L-6.429395695523604e-14,-350.0 A350,350,0,0,1,90.5866657858821,-338.07403920117395 L77.64571353075608,-289.77774788672053 A300,300,0,0,0,-5.510910596163089e-14,-300.0 Z\" stroke=\"white\" stroke-width=\"0.5\"/>\n",
       "</svg>"
      ],
      "text/plain": [
       "<IPython.core.display.SVG object>"
      ]
     },
     "metadata": {},
     "output_type": "display_data"
    },
    {
     "name": "stdout",
     "output_type": "stream",
     "text": [
      "Displaying: tile_ring5_division19.svg\n"
     ]
    },
    {
     "data": {
      "image/svg+xml": [
       "<svg xmlns=\"http://www.w3.org/2000/svg\" xmlns:xlink=\"http://www.w3.org/1999/xlink\" width=\"400\" height=\"400\" viewBox=\"-200.0 -200.0 400 400\">\n",
       "<defs>\n",
       "</defs>\n",
       "<path d=\"M77.64571353075608,-289.77774788672053 L90.5866657858821,-338.07403920117395 A350,350,0,0,1,174.99999999999977,-303.10889132455367 L149.9999999999998,-259.8076211353317 A300,300,0,0,0,77.64571353075608,-289.77774788672053 Z\" stroke=\"white\" stroke-width=\"0.5\"/>\n",
       "</svg>"
      ],
      "text/plain": [
       "<IPython.core.display.SVG object>"
      ]
     },
     "metadata": {},
     "output_type": "display_data"
    },
    {
     "name": "stdout",
     "output_type": "stream",
     "text": [
      "Displaying: tile_ring5_division2.svg\n"
     ]
    },
    {
     "data": {
      "image/svg+xml": [
       "<svg xmlns=\"http://www.w3.org/2000/svg\" xmlns:xlink=\"http://www.w3.org/1999/xlink\" width=\"400\" height=\"400\" viewBox=\"-200.0 -200.0 400 400\">\n",
       "<defs>\n",
       "</defs>\n",
       "<path d=\"M259.8076211353316,149.99999999999997 L303.10889132455355,174.99999999999997 A350,350,0,0,1,247.48737341529164,247.48737341529161 L212.13203435596427,212.13203435596424 A300,300,0,0,0,259.8076211353316,149.99999999999997 Z\" stroke=\"white\" stroke-width=\"0.5\"/>\n",
       "</svg>"
      ],
      "text/plain": [
       "<IPython.core.display.SVG object>"
      ]
     },
     "metadata": {},
     "output_type": "display_data"
    },
    {
     "name": "stdout",
     "output_type": "stream",
     "text": [
      "Displaying: tile_ring5_division20.svg\n"
     ]
    },
    {
     "data": {
      "image/svg+xml": [
       "<svg xmlns=\"http://www.w3.org/2000/svg\" xmlns:xlink=\"http://www.w3.org/1999/xlink\" width=\"400\" height=\"400\" viewBox=\"-200.0 -200.0 400 400\">\n",
       "<defs>\n",
       "</defs>\n",
       "<path d=\"M149.9999999999998,-259.8076211353317 L174.99999999999977,-303.10889132455367 A350,350,0,0,1,247.4873734152916,-247.4873734152917 L212.1320343559642,-212.1320343559643 A300,300,0,0,0,149.9999999999998,-259.8076211353317 Z\" stroke=\"white\" stroke-width=\"0.5\"/>\n",
       "</svg>"
      ],
      "text/plain": [
       "<IPython.core.display.SVG object>"
      ]
     },
     "metadata": {},
     "output_type": "display_data"
    },
    {
     "name": "stdout",
     "output_type": "stream",
     "text": [
      "Displaying: tile_ring5_division21.svg\n"
     ]
    },
    {
     "data": {
      "image/svg+xml": [
       "<svg xmlns=\"http://www.w3.org/2000/svg\" xmlns:xlink=\"http://www.w3.org/1999/xlink\" width=\"400\" height=\"400\" viewBox=\"-200.0 -200.0 400 400\">\n",
       "<defs>\n",
       "</defs>\n",
       "<path d=\"M212.1320343559642,-212.1320343559643 L247.4873734152916,-247.4873734152917 A350,350,0,0,1,303.10889132455344,-175.00000000000014 L259.8076211353315,-150.00000000000014 A300,300,0,0,0,212.1320343559642,-212.1320343559643 Z\" stroke=\"white\" stroke-width=\"0.5\"/>\n",
       "</svg>"
      ],
      "text/plain": [
       "<IPython.core.display.SVG object>"
      ]
     },
     "metadata": {},
     "output_type": "display_data"
    },
    {
     "name": "stdout",
     "output_type": "stream",
     "text": [
      "Displaying: tile_ring5_division22.svg\n"
     ]
    },
    {
     "data": {
      "image/svg+xml": [
       "<svg xmlns=\"http://www.w3.org/2000/svg\" xmlns:xlink=\"http://www.w3.org/1999/xlink\" width=\"400\" height=\"400\" viewBox=\"-200.0 -200.0 400 400\">\n",
       "<defs>\n",
       "</defs>\n",
       "<path d=\"M259.8076211353315,-150.00000000000014 L303.10889132455344,-175.00000000000014 A350,350,0,0,1,338.07403920117383,-90.58666578588254 L289.7777478867204,-77.64571353075647 A300,300,0,0,0,259.8076211353315,-150.00000000000014 Z\" stroke=\"white\" stroke-width=\"0.5\"/>\n",
       "</svg>"
      ],
      "text/plain": [
       "<IPython.core.display.SVG object>"
      ]
     },
     "metadata": {},
     "output_type": "display_data"
    },
    {
     "name": "stdout",
     "output_type": "stream",
     "text": [
      "Displaying: tile_ring5_division23.svg\n"
     ]
    },
    {
     "data": {
      "image/svg+xml": [
       "<svg xmlns=\"http://www.w3.org/2000/svg\" xmlns:xlink=\"http://www.w3.org/1999/xlink\" width=\"400\" height=\"400\" viewBox=\"-200.0 -200.0 400 400\">\n",
       "<defs>\n",
       "</defs>\n",
       "<path d=\"M289.7777478867204,-77.64571353075647 L338.07403920117383,-90.58666578588254 A350,350,0,0,1,350.0,-8.572527594031473e-14 L300.0,-7.347880794884119e-14 A300,300,0,0,0,289.7777478867204,-77.64571353075647 Z\" stroke=\"white\" stroke-width=\"0.5\"/>\n",
       "</svg>"
      ],
      "text/plain": [
       "<IPython.core.display.SVG object>"
      ]
     },
     "metadata": {},
     "output_type": "display_data"
    },
    {
     "name": "stdout",
     "output_type": "stream",
     "text": [
      "Displaying: tile_ring5_division3.svg\n"
     ]
    },
    {
     "data": {
      "image/svg+xml": [
       "<svg xmlns=\"http://www.w3.org/2000/svg\" xmlns:xlink=\"http://www.w3.org/1999/xlink\" width=\"400\" height=\"400\" viewBox=\"-200.0 -200.0 400 400\">\n",
       "<defs>\n",
       "</defs>\n",
       "<path d=\"M212.13203435596427,212.13203435596424 L247.48737341529164,247.48737341529161 A350,350,0,0,1,175.00000000000003,303.1088913245535 L150.00000000000003,259.8076211353316 A300,300,0,0,0,212.13203435596427,212.13203435596424 Z\" stroke=\"white\" stroke-width=\"0.5\"/>\n",
       "</svg>"
      ],
      "text/plain": [
       "<IPython.core.display.SVG object>"
      ]
     },
     "metadata": {},
     "output_type": "display_data"
    },
    {
     "name": "stdout",
     "output_type": "stream",
     "text": [
      "Displaying: tile_ring5_division4.svg\n"
     ]
    },
    {
     "data": {
      "image/svg+xml": [
       "<svg xmlns=\"http://www.w3.org/2000/svg\" xmlns:xlink=\"http://www.w3.org/1999/xlink\" width=\"400\" height=\"400\" viewBox=\"-200.0 -200.0 400 400\">\n",
       "<defs>\n",
       "</defs>\n",
       "<path d=\"M150.00000000000003,259.8076211353316 L175.00000000000003,303.1088913245535 A350,350,0,0,1,90.58666578588233,338.0740392011739 L77.64571353075628,289.7777478867205 A300,300,0,0,0,150.00000000000003,259.8076211353316 Z\" stroke=\"white\" stroke-width=\"0.5\"/>\n",
       "</svg>"
      ],
      "text/plain": [
       "<IPython.core.display.SVG object>"
      ]
     },
     "metadata": {},
     "output_type": "display_data"
    },
    {
     "name": "stdout",
     "output_type": "stream",
     "text": [
      "Displaying: tile_ring5_division5.svg\n"
     ]
    },
    {
     "data": {
      "image/svg+xml": [
       "<svg xmlns=\"http://www.w3.org/2000/svg\" xmlns:xlink=\"http://www.w3.org/1999/xlink\" width=\"400\" height=\"400\" viewBox=\"-200.0 -200.0 400 400\">\n",
       "<defs>\n",
       "</defs>\n",
       "<path d=\"M77.64571353075628,289.7777478867205 L90.58666578588233,338.0740392011739 A350,350,0,0,1,2.1431318985078682e-14,350.0 L1.8369701987210297e-14,300.0 A300,300,0,0,0,77.64571353075628,289.7777478867205 Z\" stroke=\"white\" stroke-width=\"0.5\"/>\n",
       "</svg>"
      ],
      "text/plain": [
       "<IPython.core.display.SVG object>"
      ]
     },
     "metadata": {},
     "output_type": "display_data"
    },
    {
     "name": "stdout",
     "output_type": "stream",
     "text": [
      "Displaying: tile_ring5_division6.svg\n"
     ]
    },
    {
     "data": {
      "image/svg+xml": [
       "<svg xmlns=\"http://www.w3.org/2000/svg\" xmlns:xlink=\"http://www.w3.org/1999/xlink\" width=\"400\" height=\"400\" viewBox=\"-200.0 -200.0 400 400\">\n",
       "<defs>\n",
       "</defs>\n",
       "<path d=\"M1.8369701987210297e-14,300.0 L2.1431318985078682e-14,350.0 A350,350,0,0,1,-90.58666578588222,338.0740392011739 L-77.64571353075618,289.7777478867205 A300,300,0,0,0,1.8369701987210297e-14,300.0 Z\" stroke=\"white\" stroke-width=\"0.5\"/>\n",
       "</svg>"
      ],
      "text/plain": [
       "<IPython.core.display.SVG object>"
      ]
     },
     "metadata": {},
     "output_type": "display_data"
    },
    {
     "name": "stdout",
     "output_type": "stream",
     "text": [
      "Displaying: tile_ring5_division7.svg\n"
     ]
    },
    {
     "data": {
      "image/svg+xml": [
       "<svg xmlns=\"http://www.w3.org/2000/svg\" xmlns:xlink=\"http://www.w3.org/1999/xlink\" width=\"400\" height=\"400\" viewBox=\"-200.0 -200.0 400 400\">\n",
       "<defs>\n",
       "</defs>\n",
       "<path d=\"M-77.64571353075618,289.7777478867205 L-90.58666578588222,338.0740392011739 A350,350,0,0,1,-174.99999999999994,303.10889132455355 L-149.99999999999994,259.8076211353316 A300,300,0,0,0,-77.64571353075618,289.7777478867205 Z\" stroke=\"white\" stroke-width=\"0.5\"/>\n",
       "</svg>"
      ],
      "text/plain": [
       "<IPython.core.display.SVG object>"
      ]
     },
     "metadata": {},
     "output_type": "display_data"
    },
    {
     "name": "stdout",
     "output_type": "stream",
     "text": [
      "Displaying: tile_ring5_division8.svg\n"
     ]
    },
    {
     "data": {
      "image/svg+xml": [
       "<svg xmlns=\"http://www.w3.org/2000/svg\" xmlns:xlink=\"http://www.w3.org/1999/xlink\" width=\"400\" height=\"400\" viewBox=\"-200.0 -200.0 400 400\">\n",
       "<defs>\n",
       "</defs>\n",
       "<path d=\"M-149.99999999999994,259.8076211353316 L-174.99999999999994,303.10889132455355 A350,350,0,0,1,-247.48737341529161,247.48737341529164 L-212.13203435596424,212.13203435596427 A300,300,0,0,0,-149.99999999999994,259.8076211353316 Z\" stroke=\"white\" stroke-width=\"0.5\"/>\n",
       "</svg>"
      ],
      "text/plain": [
       "<IPython.core.display.SVG object>"
      ]
     },
     "metadata": {},
     "output_type": "display_data"
    },
    {
     "name": "stdout",
     "output_type": "stream",
     "text": [
      "Displaying: tile_ring5_division9.svg\n"
     ]
    },
    {
     "data": {
      "image/svg+xml": [
       "<svg xmlns=\"http://www.w3.org/2000/svg\" xmlns:xlink=\"http://www.w3.org/1999/xlink\" width=\"400\" height=\"400\" viewBox=\"-200.0 -200.0 400 400\">\n",
       "<defs>\n",
       "</defs>\n",
       "<path d=\"M-212.13203435596424,212.13203435596427 L-247.48737341529161,247.48737341529164 A350,350,0,0,1,-303.1088913245535,175.0000000000001 L-259.80762113533154,150.0000000000001 A300,300,0,0,0,-212.13203435596424,212.13203435596427 Z\" stroke=\"white\" stroke-width=\"0.5\"/>\n",
       "</svg>"
      ],
      "text/plain": [
       "<IPython.core.display.SVG object>"
      ]
     },
     "metadata": {},
     "output_type": "display_data"
    },
    {
     "name": "stdout",
     "output_type": "stream",
     "text": [
      "Displaying: tile_ring6_division0.svg\n"
     ]
    },
    {
     "data": {
      "image/svg+xml": [
       "<svg xmlns=\"http://www.w3.org/2000/svg\" xmlns:xlink=\"http://www.w3.org/1999/xlink\" width=\"400\" height=\"400\" viewBox=\"-200.0 -200.0 400 400\">\n",
       "<defs>\n",
       "</defs>\n",
       "<path d=\"M350.0,0.0 L400.0,0.0 A400,400,0,0,1,386.3703305156273,103.5276180410083 L338.0740392011739,90.58666578588226 A350,350,0,0,0,350.0,0.0 Z\" stroke=\"white\" stroke-width=\"0.5\"/>\n",
       "</svg>"
      ],
      "text/plain": [
       "<IPython.core.display.SVG object>"
      ]
     },
     "metadata": {},
     "output_type": "display_data"
    },
    {
     "name": "stdout",
     "output_type": "stream",
     "text": [
      "Displaying: tile_ring6_division1.svg\n"
     ]
    },
    {
     "data": {
      "image/svg+xml": [
       "<svg xmlns=\"http://www.w3.org/2000/svg\" xmlns:xlink=\"http://www.w3.org/1999/xlink\" width=\"400\" height=\"400\" viewBox=\"-200.0 -200.0 400 400\">\n",
       "<defs>\n",
       "</defs>\n",
       "<path d=\"M338.0740392011739,90.58666578588226 L386.3703305156273,103.5276180410083 A400,400,0,0,1,346.4101615137755,199.99999999999997 L303.10889132455355,174.99999999999997 A350,350,0,0,0,338.0740392011739,90.58666578588226 Z\" stroke=\"white\" stroke-width=\"0.5\"/>\n",
       "</svg>"
      ],
      "text/plain": [
       "<IPython.core.display.SVG object>"
      ]
     },
     "metadata": {},
     "output_type": "display_data"
    },
    {
     "name": "stdout",
     "output_type": "stream",
     "text": [
      "Displaying: tile_ring6_division10.svg\n"
     ]
    },
    {
     "data": {
      "image/svg+xml": [
       "<svg xmlns=\"http://www.w3.org/2000/svg\" xmlns:xlink=\"http://www.w3.org/1999/xlink\" width=\"400\" height=\"400\" viewBox=\"-200.0 -200.0 400 400\">\n",
       "<defs>\n",
       "</defs>\n",
       "<path d=\"M-303.1088913245535,175.0000000000001 L-346.4101615137754,200.00000000000014 A400,400,0,0,1,-386.3703305156273,103.52761804100841 L-338.0740392011739,90.58666578588236 A350,350,0,0,0,-303.1088913245535,175.0000000000001 Z\" stroke=\"white\" stroke-width=\"0.5\"/>\n",
       "</svg>"
      ],
      "text/plain": [
       "<IPython.core.display.SVG object>"
      ]
     },
     "metadata": {},
     "output_type": "display_data"
    },
    {
     "name": "stdout",
     "output_type": "stream",
     "text": [
      "Displaying: tile_ring6_division11.svg\n"
     ]
    },
    {
     "data": {
      "image/svg+xml": [
       "<svg xmlns=\"http://www.w3.org/2000/svg\" xmlns:xlink=\"http://www.w3.org/1999/xlink\" width=\"400\" height=\"400\" viewBox=\"-200.0 -200.0 400 400\">\n",
       "<defs>\n",
       "</defs>\n",
       "<path d=\"M-338.0740392011739,90.58666578588236 L-386.3703305156273,103.52761804100841 A400,400,0,0,1,-400.0,4.898587196589413e-14 L-350.0,4.2862637970157365e-14 A350,350,0,0,0,-338.0740392011739,90.58666578588236 Z\" stroke=\"white\" stroke-width=\"0.5\"/>\n",
       "</svg>"
      ],
      "text/plain": [
       "<IPython.core.display.SVG object>"
      ]
     },
     "metadata": {},
     "output_type": "display_data"
    },
    {
     "name": "stdout",
     "output_type": "stream",
     "text": [
      "Displaying: tile_ring6_division12.svg\n"
     ]
    },
    {
     "data": {
      "image/svg+xml": [
       "<svg xmlns=\"http://www.w3.org/2000/svg\" xmlns:xlink=\"http://www.w3.org/1999/xlink\" width=\"400\" height=\"400\" viewBox=\"-200.0 -200.0 400 400\">\n",
       "<defs>\n",
       "</defs>\n",
       "<path d=\"M-350.0,4.2862637970157365e-14 L-400.0,4.898587196589413e-14 A400,400,0,0,1,-386.37033051562736,-103.52761804100814 L-338.07403920117395,-90.58666578588212 A350,350,0,0,0,-350.0,4.2862637970157365e-14 Z\" stroke=\"white\" stroke-width=\"0.5\"/>\n",
       "</svg>"
      ],
      "text/plain": [
       "<IPython.core.display.SVG object>"
      ]
     },
     "metadata": {},
     "output_type": "display_data"
    },
    {
     "name": "stdout",
     "output_type": "stream",
     "text": [
      "Displaying: tile_ring6_division13.svg\n"
     ]
    },
    {
     "data": {
      "image/svg+xml": [
       "<svg xmlns=\"http://www.w3.org/2000/svg\" xmlns:xlink=\"http://www.w3.org/1999/xlink\" width=\"400\" height=\"400\" viewBox=\"-200.0 -200.0 400 400\">\n",
       "<defs>\n",
       "</defs>\n",
       "<path d=\"M-338.07403920117395,-90.58666578588212 L-386.37033051562736,-103.52761804100814 A400,400,0,0,1,-346.4101615137755,-199.99999999999991 L-303.1088913245536,-174.99999999999991 A350,350,0,0,0,-338.07403920117395,-90.58666578588212 Z\" stroke=\"white\" stroke-width=\"0.5\"/>\n",
       "</svg>"
      ],
      "text/plain": [
       "<IPython.core.display.SVG object>"
      ]
     },
     "metadata": {},
     "output_type": "display_data"
    },
    {
     "name": "stdout",
     "output_type": "stream",
     "text": [
      "Displaying: tile_ring6_division14.svg\n"
     ]
    },
    {
     "data": {
      "image/svg+xml": [
       "<svg xmlns=\"http://www.w3.org/2000/svg\" xmlns:xlink=\"http://www.w3.org/1999/xlink\" width=\"400\" height=\"400\" viewBox=\"-200.0 -200.0 400 400\">\n",
       "<defs>\n",
       "</defs>\n",
       "<path d=\"M-303.1088913245536,-174.99999999999991 L-346.4101615137755,-199.99999999999991 A400,400,0,0,1,-282.84271247461913,-282.84271247461885 L-247.48737341529176,-247.4873734152915 A350,350,0,0,0,-303.1088913245536,-174.99999999999991 Z\" stroke=\"white\" stroke-width=\"0.5\"/>\n",
       "</svg>"
      ],
      "text/plain": [
       "<IPython.core.display.SVG object>"
      ]
     },
     "metadata": {},
     "output_type": "display_data"
    },
    {
     "name": "stdout",
     "output_type": "stream",
     "text": [
      "Displaying: tile_ring6_division15.svg\n"
     ]
    },
    {
     "data": {
      "image/svg+xml": [
       "<svg xmlns=\"http://www.w3.org/2000/svg\" xmlns:xlink=\"http://www.w3.org/1999/xlink\" width=\"400\" height=\"400\" viewBox=\"-200.0 -200.0 400 400\">\n",
       "<defs>\n",
       "</defs>\n",
       "<path d=\"M-247.48737341529176,-247.4873734152915 L-282.84271247461913,-282.84271247461885 A400,400,0,0,1,-200.00000000000017,-346.41016151377534 L-175.00000000000014,-303.10889132455344 A350,350,0,0,0,-247.48737341529176,-247.4873734152915 Z\" stroke=\"white\" stroke-width=\"0.5\"/>\n",
       "</svg>"
      ],
      "text/plain": [
       "<IPython.core.display.SVG object>"
      ]
     },
     "metadata": {},
     "output_type": "display_data"
    },
    {
     "name": "stdout",
     "output_type": "stream",
     "text": [
      "Displaying: tile_ring6_division16.svg\n"
     ]
    },
    {
     "data": {
      "image/svg+xml": [
       "<svg xmlns=\"http://www.w3.org/2000/svg\" xmlns:xlink=\"http://www.w3.org/1999/xlink\" width=\"400\" height=\"400\" viewBox=\"-200.0 -200.0 400 400\">\n",
       "<defs>\n",
       "</defs>\n",
       "<path d=\"M-175.00000000000014,-303.10889132455344 L-200.00000000000017,-346.41016151377534 A400,400,0,0,1,-103.52761804100861,-386.37033051562724 L-90.58666578588253,-338.07403920117383 A350,350,0,0,0,-175.00000000000014,-303.10889132455344 Z\" stroke=\"white\" stroke-width=\"0.5\"/>\n",
       "</svg>"
      ],
      "text/plain": [
       "<IPython.core.display.SVG object>"
      ]
     },
     "metadata": {},
     "output_type": "display_data"
    },
    {
     "name": "stdout",
     "output_type": "stream",
     "text": [
      "Displaying: tile_ring6_division17.svg\n"
     ]
    },
    {
     "data": {
      "image/svg+xml": [
       "<svg xmlns=\"http://www.w3.org/2000/svg\" xmlns:xlink=\"http://www.w3.org/1999/xlink\" width=\"400\" height=\"400\" viewBox=\"-200.0 -200.0 400 400\">\n",
       "<defs>\n",
       "</defs>\n",
       "<path d=\"M-90.58666578588253,-338.07403920117383 L-103.52761804100861,-386.37033051562724 A400,400,0,0,1,-7.347880794884119e-14,-400.0 L-6.429395695523604e-14,-350.0 A350,350,0,0,0,-90.58666578588253,-338.07403920117383 Z\" stroke=\"white\" stroke-width=\"0.5\"/>\n",
       "</svg>"
      ],
      "text/plain": [
       "<IPython.core.display.SVG object>"
      ]
     },
     "metadata": {},
     "output_type": "display_data"
    },
    {
     "name": "stdout",
     "output_type": "stream",
     "text": [
      "Displaying: tile_ring6_division18.svg\n"
     ]
    },
    {
     "data": {
      "image/svg+xml": [
       "<svg xmlns=\"http://www.w3.org/2000/svg\" xmlns:xlink=\"http://www.w3.org/1999/xlink\" width=\"400\" height=\"400\" viewBox=\"-200.0 -200.0 400 400\">\n",
       "<defs>\n",
       "</defs>\n",
       "<path d=\"M-6.429395695523604e-14,-350.0 L-7.347880794884119e-14,-400.0 A400,400,0,0,1,103.52761804100811,-386.37033051562736 L90.5866657858821,-338.07403920117395 A350,350,0,0,0,-6.429395695523604e-14,-350.0 Z\" stroke=\"white\" stroke-width=\"0.5\"/>\n",
       "</svg>"
      ],
      "text/plain": [
       "<IPython.core.display.SVG object>"
      ]
     },
     "metadata": {},
     "output_type": "display_data"
    },
    {
     "name": "stdout",
     "output_type": "stream",
     "text": [
      "Displaying: tile_ring6_division19.svg\n"
     ]
    },
    {
     "data": {
      "image/svg+xml": [
       "<svg xmlns=\"http://www.w3.org/2000/svg\" xmlns:xlink=\"http://www.w3.org/1999/xlink\" width=\"400\" height=\"400\" viewBox=\"-200.0 -200.0 400 400\">\n",
       "<defs>\n",
       "</defs>\n",
       "<path d=\"M90.5866657858821,-338.07403920117395 L103.52761804100811,-386.37033051562736 A400,400,0,0,1,199.99999999999974,-346.4101615137756 L174.99999999999977,-303.10889132455367 A350,350,0,0,0,90.5866657858821,-338.07403920117395 Z\" stroke=\"white\" stroke-width=\"0.5\"/>\n",
       "</svg>"
      ],
      "text/plain": [
       "<IPython.core.display.SVG object>"
      ]
     },
     "metadata": {},
     "output_type": "display_data"
    },
    {
     "name": "stdout",
     "output_type": "stream",
     "text": [
      "Displaying: tile_ring6_division2.svg\n"
     ]
    },
    {
     "data": {
      "image/svg+xml": [
       "<svg xmlns=\"http://www.w3.org/2000/svg\" xmlns:xlink=\"http://www.w3.org/1999/xlink\" width=\"400\" height=\"400\" viewBox=\"-200.0 -200.0 400 400\">\n",
       "<defs>\n",
       "</defs>\n",
       "<path d=\"M303.10889132455355,174.99999999999997 L346.4101615137755,199.99999999999997 A400,400,0,0,1,282.842712474619,282.84271247461896 L247.48737341529164,247.48737341529161 A350,350,0,0,0,303.10889132455355,174.99999999999997 Z\" stroke=\"white\" stroke-width=\"0.5\"/>\n",
       "</svg>"
      ],
      "text/plain": [
       "<IPython.core.display.SVG object>"
      ]
     },
     "metadata": {},
     "output_type": "display_data"
    },
    {
     "name": "stdout",
     "output_type": "stream",
     "text": [
      "Displaying: tile_ring6_division20.svg\n"
     ]
    },
    {
     "data": {
      "image/svg+xml": [
       "<svg xmlns=\"http://www.w3.org/2000/svg\" xmlns:xlink=\"http://www.w3.org/1999/xlink\" width=\"400\" height=\"400\" viewBox=\"-200.0 -200.0 400 400\">\n",
       "<defs>\n",
       "</defs>\n",
       "<path d=\"M174.99999999999977,-303.10889132455367 L199.99999999999974,-346.4101615137756 A400,400,0,0,1,282.84271247461896,-282.8427124746191 L247.4873734152916,-247.4873734152917 A350,350,0,0,0,174.99999999999977,-303.10889132455367 Z\" stroke=\"white\" stroke-width=\"0.5\"/>\n",
       "</svg>"
      ],
      "text/plain": [
       "<IPython.core.display.SVG object>"
      ]
     },
     "metadata": {},
     "output_type": "display_data"
    },
    {
     "name": "stdout",
     "output_type": "stream",
     "text": [
      "Displaying: tile_ring6_division21.svg\n"
     ]
    },
    {
     "data": {
      "image/svg+xml": [
       "<svg xmlns=\"http://www.w3.org/2000/svg\" xmlns:xlink=\"http://www.w3.org/1999/xlink\" width=\"400\" height=\"400\" viewBox=\"-200.0 -200.0 400 400\">\n",
       "<defs>\n",
       "</defs>\n",
       "<path d=\"M247.4873734152916,-247.4873734152917 L282.84271247461896,-282.8427124746191 A400,400,0,0,1,346.41016151377534,-200.00000000000017 L303.10889132455344,-175.00000000000014 A350,350,0,0,0,247.4873734152916,-247.4873734152917 Z\" stroke=\"white\" stroke-width=\"0.5\"/>\n",
       "</svg>"
      ],
      "text/plain": [
       "<IPython.core.display.SVG object>"
      ]
     },
     "metadata": {},
     "output_type": "display_data"
    },
    {
     "name": "stdout",
     "output_type": "stream",
     "text": [
      "Displaying: tile_ring6_division22.svg\n"
     ]
    },
    {
     "data": {
      "image/svg+xml": [
       "<svg xmlns=\"http://www.w3.org/2000/svg\" xmlns:xlink=\"http://www.w3.org/1999/xlink\" width=\"400\" height=\"400\" viewBox=\"-200.0 -200.0 400 400\">\n",
       "<defs>\n",
       "</defs>\n",
       "<path d=\"M303.10889132455344,-175.00000000000014 L346.41016151377534,-200.00000000000017 A400,400,0,0,1,386.37033051562724,-103.52761804100862 L338.07403920117383,-90.58666578588254 A350,350,0,0,0,303.10889132455344,-175.00000000000014 Z\" stroke=\"white\" stroke-width=\"0.5\"/>\n",
       "</svg>"
      ],
      "text/plain": [
       "<IPython.core.display.SVG object>"
      ]
     },
     "metadata": {},
     "output_type": "display_data"
    },
    {
     "name": "stdout",
     "output_type": "stream",
     "text": [
      "Displaying: tile_ring6_division23.svg\n"
     ]
    },
    {
     "data": {
      "image/svg+xml": [
       "<svg xmlns=\"http://www.w3.org/2000/svg\" xmlns:xlink=\"http://www.w3.org/1999/xlink\" width=\"400\" height=\"400\" viewBox=\"-200.0 -200.0 400 400\">\n",
       "<defs>\n",
       "</defs>\n",
       "<path d=\"M338.07403920117383,-90.58666578588254 L386.37033051562724,-103.52761804100862 A400,400,0,0,1,400.0,-9.797174393178826e-14 L350.0,-8.572527594031473e-14 A350,350,0,0,0,338.07403920117383,-90.58666578588254 Z\" stroke=\"white\" stroke-width=\"0.5\"/>\n",
       "</svg>"
      ],
      "text/plain": [
       "<IPython.core.display.SVG object>"
      ]
     },
     "metadata": {},
     "output_type": "display_data"
    },
    {
     "name": "stdout",
     "output_type": "stream",
     "text": [
      "Displaying: tile_ring6_division3.svg\n"
     ]
    },
    {
     "data": {
      "image/svg+xml": [
       "<svg xmlns=\"http://www.w3.org/2000/svg\" xmlns:xlink=\"http://www.w3.org/1999/xlink\" width=\"400\" height=\"400\" viewBox=\"-200.0 -200.0 400 400\">\n",
       "<defs>\n",
       "</defs>\n",
       "<path d=\"M247.48737341529164,247.48737341529161 L282.842712474619,282.84271247461896 A400,400,0,0,1,200.00000000000006,346.41016151377545 L175.00000000000003,303.1088913245535 A350,350,0,0,0,247.48737341529164,247.48737341529161 Z\" stroke=\"white\" stroke-width=\"0.5\"/>\n",
       "</svg>"
      ],
      "text/plain": [
       "<IPython.core.display.SVG object>"
      ]
     },
     "metadata": {},
     "output_type": "display_data"
    },
    {
     "name": "stdout",
     "output_type": "stream",
     "text": [
      "Displaying: tile_ring6_division4.svg\n"
     ]
    },
    {
     "data": {
      "image/svg+xml": [
       "<svg xmlns=\"http://www.w3.org/2000/svg\" xmlns:xlink=\"http://www.w3.org/1999/xlink\" width=\"400\" height=\"400\" viewBox=\"-200.0 -200.0 400 400\">\n",
       "<defs>\n",
       "</defs>\n",
       "<path d=\"M175.00000000000003,303.1088913245535 L200.00000000000006,346.41016151377545 A400,400,0,0,1,103.52761804100838,386.3703305156273 L90.58666578588233,338.0740392011739 A350,350,0,0,0,175.00000000000003,303.1088913245535 Z\" stroke=\"white\" stroke-width=\"0.5\"/>\n",
       "</svg>"
      ],
      "text/plain": [
       "<IPython.core.display.SVG object>"
      ]
     },
     "metadata": {},
     "output_type": "display_data"
    },
    {
     "name": "stdout",
     "output_type": "stream",
     "text": [
      "Displaying: tile_ring6_division5.svg\n"
     ]
    },
    {
     "data": {
      "image/svg+xml": [
       "<svg xmlns=\"http://www.w3.org/2000/svg\" xmlns:xlink=\"http://www.w3.org/1999/xlink\" width=\"400\" height=\"400\" viewBox=\"-200.0 -200.0 400 400\">\n",
       "<defs>\n",
       "</defs>\n",
       "<path d=\"M90.58666578588233,338.0740392011739 L103.52761804100838,386.3703305156273 A400,400,0,0,1,2.4492935982947064e-14,400.0 L2.1431318985078682e-14,350.0 A350,350,0,0,0,90.58666578588233,338.0740392011739 Z\" stroke=\"white\" stroke-width=\"0.5\"/>\n",
       "</svg>"
      ],
      "text/plain": [
       "<IPython.core.display.SVG object>"
      ]
     },
     "metadata": {},
     "output_type": "display_data"
    },
    {
     "name": "stdout",
     "output_type": "stream",
     "text": [
      "Displaying: tile_ring6_division6.svg\n"
     ]
    },
    {
     "data": {
      "image/svg+xml": [
       "<svg xmlns=\"http://www.w3.org/2000/svg\" xmlns:xlink=\"http://www.w3.org/1999/xlink\" width=\"400\" height=\"400\" viewBox=\"-200.0 -200.0 400 400\">\n",
       "<defs>\n",
       "</defs>\n",
       "<path d=\"M2.1431318985078682e-14,350.0 L2.4492935982947064e-14,400.0 A400,400,0,0,1,-103.52761804100825,386.3703305156273 L-90.58666578588222,338.0740392011739 A350,350,0,0,0,2.1431318985078682e-14,350.0 Z\" stroke=\"white\" stroke-width=\"0.5\"/>\n",
       "</svg>"
      ],
      "text/plain": [
       "<IPython.core.display.SVG object>"
      ]
     },
     "metadata": {},
     "output_type": "display_data"
    },
    {
     "name": "stdout",
     "output_type": "stream",
     "text": [
      "Displaying: tile_ring6_division7.svg\n"
     ]
    },
    {
     "data": {
      "image/svg+xml": [
       "<svg xmlns=\"http://www.w3.org/2000/svg\" xmlns:xlink=\"http://www.w3.org/1999/xlink\" width=\"400\" height=\"400\" viewBox=\"-200.0 -200.0 400 400\">\n",
       "<defs>\n",
       "</defs>\n",
       "<path d=\"M-90.58666578588222,338.0740392011739 L-103.52761804100825,386.3703305156273 A400,400,0,0,1,-199.99999999999994,346.4101615137755 L-174.99999999999994,303.10889132455355 A350,350,0,0,0,-90.58666578588222,338.0740392011739 Z\" stroke=\"white\" stroke-width=\"0.5\"/>\n",
       "</svg>"
      ],
      "text/plain": [
       "<IPython.core.display.SVG object>"
      ]
     },
     "metadata": {},
     "output_type": "display_data"
    },
    {
     "name": "stdout",
     "output_type": "stream",
     "text": [
      "Displaying: tile_ring6_division8.svg\n"
     ]
    },
    {
     "data": {
      "image/svg+xml": [
       "<svg xmlns=\"http://www.w3.org/2000/svg\" xmlns:xlink=\"http://www.w3.org/1999/xlink\" width=\"400\" height=\"400\" viewBox=\"-200.0 -200.0 400 400\">\n",
       "<defs>\n",
       "</defs>\n",
       "<path d=\"M-174.99999999999994,303.10889132455355 L-199.99999999999994,346.4101615137755 A400,400,0,0,1,-282.84271247461896,282.842712474619 L-247.48737341529161,247.48737341529164 A350,350,0,0,0,-174.99999999999994,303.10889132455355 Z\" stroke=\"white\" stroke-width=\"0.5\"/>\n",
       "</svg>"
      ],
      "text/plain": [
       "<IPython.core.display.SVG object>"
      ]
     },
     "metadata": {},
     "output_type": "display_data"
    },
    {
     "name": "stdout",
     "output_type": "stream",
     "text": [
      "Displaying: tile_ring6_division9.svg\n"
     ]
    },
    {
     "data": {
      "image/svg+xml": [
       "<svg xmlns=\"http://www.w3.org/2000/svg\" xmlns:xlink=\"http://www.w3.org/1999/xlink\" width=\"400\" height=\"400\" viewBox=\"-200.0 -200.0 400 400\">\n",
       "<defs>\n",
       "</defs>\n",
       "<path d=\"M-247.48737341529161,247.48737341529164 L-282.84271247461896,282.842712474619 A400,400,0,0,1,-346.4101615137754,200.00000000000014 L-303.1088913245535,175.0000000000001 A350,350,0,0,0,-247.48737341529161,247.48737341529164 Z\" stroke=\"white\" stroke-width=\"0.5\"/>\n",
       "</svg>"
      ],
      "text/plain": [
       "<IPython.core.display.SVG object>"
      ]
     },
     "metadata": {},
     "output_type": "display_data"
    },
    {
     "name": "stdout",
     "output_type": "stream",
     "text": [
      "Displaying: tile_ring7_division0.svg\n"
     ]
    },
    {
     "data": {
      "image/svg+xml": [
       "<svg xmlns=\"http://www.w3.org/2000/svg\" xmlns:xlink=\"http://www.w3.org/1999/xlink\" width=\"400\" height=\"400\" viewBox=\"-200.0 -200.0 400 400\">\n",
       "<defs>\n",
       "</defs>\n",
       "<path d=\"M400.0,0.0 L450.0,0.0 A450,450,0,0,1,434.6666218300807,116.46857029613433 L386.3703305156273,103.5276180410083 A400,400,0,0,0,400.0,0.0 Z\" stroke=\"white\" stroke-width=\"0.5\"/>\n",
       "</svg>"
      ],
      "text/plain": [
       "<IPython.core.display.SVG object>"
      ]
     },
     "metadata": {},
     "output_type": "display_data"
    },
    {
     "name": "stdout",
     "output_type": "stream",
     "text": [
      "Displaying: tile_ring7_division1.svg\n"
     ]
    },
    {
     "data": {
      "image/svg+xml": [
       "<svg xmlns=\"http://www.w3.org/2000/svg\" xmlns:xlink=\"http://www.w3.org/1999/xlink\" width=\"400\" height=\"400\" viewBox=\"-200.0 -200.0 400 400\">\n",
       "<defs>\n",
       "</defs>\n",
       "<path d=\"M386.3703305156273,103.5276180410083 L434.6666218300807,116.46857029613433 A450,450,0,0,1,389.7114317029974,224.99999999999997 L346.4101615137755,199.99999999999997 A400,400,0,0,0,386.3703305156273,103.5276180410083 Z\" stroke=\"white\" stroke-width=\"0.5\"/>\n",
       "</svg>"
      ],
      "text/plain": [
       "<IPython.core.display.SVG object>"
      ]
     },
     "metadata": {},
     "output_type": "display_data"
    },
    {
     "name": "stdout",
     "output_type": "stream",
     "text": [
      "Displaying: tile_ring7_division10.svg\n"
     ]
    },
    {
     "data": {
      "image/svg+xml": [
       "<svg xmlns=\"http://www.w3.org/2000/svg\" xmlns:xlink=\"http://www.w3.org/1999/xlink\" width=\"400\" height=\"400\" viewBox=\"-200.0 -200.0 400 400\">\n",
       "<defs>\n",
       "</defs>\n",
       "<path d=\"M-346.4101615137754,200.00000000000014 L-389.71143170299734,225.00000000000014 A450,450,0,0,1,-434.6666218300807,116.46857029613446 L-386.3703305156273,103.52761804100841 A400,400,0,0,0,-346.4101615137754,200.00000000000014 Z\" stroke=\"white\" stroke-width=\"0.5\"/>\n",
       "</svg>"
      ],
      "text/plain": [
       "<IPython.core.display.SVG object>"
      ]
     },
     "metadata": {},
     "output_type": "display_data"
    },
    {
     "name": "stdout",
     "output_type": "stream",
     "text": [
      "Displaying: tile_ring7_division11.svg\n"
     ]
    },
    {
     "data": {
      "image/svg+xml": [
       "<svg xmlns=\"http://www.w3.org/2000/svg\" xmlns:xlink=\"http://www.w3.org/1999/xlink\" width=\"400\" height=\"400\" viewBox=\"-200.0 -200.0 400 400\">\n",
       "<defs>\n",
       "</defs>\n",
       "<path d=\"M-386.3703305156273,103.52761804100841 L-434.6666218300807,116.46857029613446 A450,450,0,0,1,-450.0,5.510910596163089e-14 L-400.0,4.898587196589413e-14 A400,400,0,0,0,-386.3703305156273,103.52761804100841 Z\" stroke=\"white\" stroke-width=\"0.5\"/>\n",
       "</svg>"
      ],
      "text/plain": [
       "<IPython.core.display.SVG object>"
      ]
     },
     "metadata": {},
     "output_type": "display_data"
    },
    {
     "name": "stdout",
     "output_type": "stream",
     "text": [
      "Displaying: tile_ring7_division12.svg\n"
     ]
    },
    {
     "data": {
      "image/svg+xml": [
       "<svg xmlns=\"http://www.w3.org/2000/svg\" xmlns:xlink=\"http://www.w3.org/1999/xlink\" width=\"400\" height=\"400\" viewBox=\"-200.0 -200.0 400 400\">\n",
       "<defs>\n",
       "</defs>\n",
       "<path d=\"M-400.0,4.898587196589413e-14 L-450.0,5.510910596163089e-14 A450,450,0,0,1,-434.66662183008077,-116.46857029613416 L-386.37033051562736,-103.52761804100814 A400,400,0,0,0,-400.0,4.898587196589413e-14 Z\" stroke=\"white\" stroke-width=\"0.5\"/>\n",
       "</svg>"
      ],
      "text/plain": [
       "<IPython.core.display.SVG object>"
      ]
     },
     "metadata": {},
     "output_type": "display_data"
    },
    {
     "name": "stdout",
     "output_type": "stream",
     "text": [
      "Displaying: tile_ring7_division13.svg\n"
     ]
    },
    {
     "data": {
      "image/svg+xml": [
       "<svg xmlns=\"http://www.w3.org/2000/svg\" xmlns:xlink=\"http://www.w3.org/1999/xlink\" width=\"400\" height=\"400\" viewBox=\"-200.0 -200.0 400 400\">\n",
       "<defs>\n",
       "</defs>\n",
       "<path d=\"M-386.37033051562736,-103.52761804100814 L-434.66662183008077,-116.46857029613416 A450,450,0,0,1,-389.71143170299746,-224.9999999999999 L-346.4101615137755,-199.99999999999991 A400,400,0,0,0,-386.37033051562736,-103.52761804100814 Z\" stroke=\"white\" stroke-width=\"0.5\"/>\n",
       "</svg>"
      ],
      "text/plain": [
       "<IPython.core.display.SVG object>"
      ]
     },
     "metadata": {},
     "output_type": "display_data"
    },
    {
     "name": "stdout",
     "output_type": "stream",
     "text": [
      "Displaying: tile_ring7_division14.svg\n"
     ]
    },
    {
     "data": {
      "image/svg+xml": [
       "<svg xmlns=\"http://www.w3.org/2000/svg\" xmlns:xlink=\"http://www.w3.org/1999/xlink\" width=\"400\" height=\"400\" viewBox=\"-200.0 -200.0 400 400\">\n",
       "<defs>\n",
       "</defs>\n",
       "<path d=\"M-346.4101615137755,-199.99999999999991 L-389.71143170299746,-224.9999999999999 A450,450,0,0,1,-318.19805153394657,-318.1980515339462 L-282.84271247461913,-282.84271247461885 A400,400,0,0,0,-346.4101615137755,-199.99999999999991 Z\" stroke=\"white\" stroke-width=\"0.5\"/>\n",
       "</svg>"
      ],
      "text/plain": [
       "<IPython.core.display.SVG object>"
      ]
     },
     "metadata": {},
     "output_type": "display_data"
    },
    {
     "name": "stdout",
     "output_type": "stream",
     "text": [
      "Displaying: tile_ring7_division15.svg\n"
     ]
    },
    {
     "data": {
      "image/svg+xml": [
       "<svg xmlns=\"http://www.w3.org/2000/svg\" xmlns:xlink=\"http://www.w3.org/1999/xlink\" width=\"400\" height=\"400\" viewBox=\"-200.0 -200.0 400 400\">\n",
       "<defs>\n",
       "</defs>\n",
       "<path d=\"M-282.84271247461913,-282.84271247461885 L-318.19805153394657,-318.1980515339462 A450,450,0,0,1,-225.0000000000002,-389.7114317029973 L-200.00000000000017,-346.41016151377534 A400,400,0,0,0,-282.84271247461913,-282.84271247461885 Z\" stroke=\"white\" stroke-width=\"0.5\"/>\n",
       "</svg>"
      ],
      "text/plain": [
       "<IPython.core.display.SVG object>"
      ]
     },
     "metadata": {},
     "output_type": "display_data"
    },
    {
     "name": "stdout",
     "output_type": "stream",
     "text": [
      "Displaying: tile_ring7_division16.svg\n"
     ]
    },
    {
     "data": {
      "image/svg+xml": [
       "<svg xmlns=\"http://www.w3.org/2000/svg\" xmlns:xlink=\"http://www.w3.org/1999/xlink\" width=\"400\" height=\"400\" viewBox=\"-200.0 -200.0 400 400\">\n",
       "<defs>\n",
       "</defs>\n",
       "<path d=\"M-200.00000000000017,-346.41016151377534 L-225.0000000000002,-389.7114317029973 A450,450,0,0,1,-116.46857029613469,-434.66662183008066 L-103.52761804100861,-386.37033051562724 A400,400,0,0,0,-200.00000000000017,-346.41016151377534 Z\" stroke=\"white\" stroke-width=\"0.5\"/>\n",
       "</svg>"
      ],
      "text/plain": [
       "<IPython.core.display.SVG object>"
      ]
     },
     "metadata": {},
     "output_type": "display_data"
    },
    {
     "name": "stdout",
     "output_type": "stream",
     "text": [
      "Displaying: tile_ring7_division17.svg\n"
     ]
    },
    {
     "data": {
      "image/svg+xml": [
       "<svg xmlns=\"http://www.w3.org/2000/svg\" xmlns:xlink=\"http://www.w3.org/1999/xlink\" width=\"400\" height=\"400\" viewBox=\"-200.0 -200.0 400 400\">\n",
       "<defs>\n",
       "</defs>\n",
       "<path d=\"M-103.52761804100861,-386.37033051562724 L-116.46857029613469,-434.66662183008066 A450,450,0,0,1,-8.266365894244634e-14,-450.0 L-7.347880794884119e-14,-400.0 A400,400,0,0,0,-103.52761804100861,-386.37033051562724 Z\" stroke=\"white\" stroke-width=\"0.5\"/>\n",
       "</svg>"
      ],
      "text/plain": [
       "<IPython.core.display.SVG object>"
      ]
     },
     "metadata": {},
     "output_type": "display_data"
    },
    {
     "name": "stdout",
     "output_type": "stream",
     "text": [
      "Displaying: tile_ring7_division18.svg\n"
     ]
    },
    {
     "data": {
      "image/svg+xml": [
       "<svg xmlns=\"http://www.w3.org/2000/svg\" xmlns:xlink=\"http://www.w3.org/1999/xlink\" width=\"400\" height=\"400\" viewBox=\"-200.0 -200.0 400 400\">\n",
       "<defs>\n",
       "</defs>\n",
       "<path d=\"M-7.347880794884119e-14,-400.0 L-8.266365894244634e-14,-450.0 A450,450,0,0,1,116.46857029613413,-434.66662183008077 L103.52761804100811,-386.37033051562736 A400,400,0,0,0,-7.347880794884119e-14,-400.0 Z\" stroke=\"white\" stroke-width=\"0.5\"/>\n",
       "</svg>"
      ],
      "text/plain": [
       "<IPython.core.display.SVG object>"
      ]
     },
     "metadata": {},
     "output_type": "display_data"
    },
    {
     "name": "stdout",
     "output_type": "stream",
     "text": [
      "Displaying: tile_ring7_division19.svg\n"
     ]
    },
    {
     "data": {
      "image/svg+xml": [
       "<svg xmlns=\"http://www.w3.org/2000/svg\" xmlns:xlink=\"http://www.w3.org/1999/xlink\" width=\"400\" height=\"400\" viewBox=\"-200.0 -200.0 400 400\">\n",
       "<defs>\n",
       "</defs>\n",
       "<path d=\"M103.52761804100811,-386.37033051562736 L116.46857029613413,-434.66662183008077 A450,450,0,0,1,224.9999999999997,-389.7114317029976 L199.99999999999974,-346.4101615137756 A400,400,0,0,0,103.52761804100811,-386.37033051562736 Z\" stroke=\"white\" stroke-width=\"0.5\"/>\n",
       "</svg>"
      ],
      "text/plain": [
       "<IPython.core.display.SVG object>"
      ]
     },
     "metadata": {},
     "output_type": "display_data"
    },
    {
     "name": "stdout",
     "output_type": "stream",
     "text": [
      "Displaying: tile_ring7_division2.svg\n"
     ]
    },
    {
     "data": {
      "image/svg+xml": [
       "<svg xmlns=\"http://www.w3.org/2000/svg\" xmlns:xlink=\"http://www.w3.org/1999/xlink\" width=\"400\" height=\"400\" viewBox=\"-200.0 -200.0 400 400\">\n",
       "<defs>\n",
       "</defs>\n",
       "<path d=\"M346.4101615137755,199.99999999999997 L389.7114317029974,224.99999999999997 A450,450,0,0,1,318.1980515339464,318.19805153394634 L282.842712474619,282.84271247461896 A400,400,0,0,0,346.4101615137755,199.99999999999997 Z\" stroke=\"white\" stroke-width=\"0.5\"/>\n",
       "</svg>"
      ],
      "text/plain": [
       "<IPython.core.display.SVG object>"
      ]
     },
     "metadata": {},
     "output_type": "display_data"
    },
    {
     "name": "stdout",
     "output_type": "stream",
     "text": [
      "Displaying: tile_ring7_division20.svg\n"
     ]
    },
    {
     "data": {
      "image/svg+xml": [
       "<svg xmlns=\"http://www.w3.org/2000/svg\" xmlns:xlink=\"http://www.w3.org/1999/xlink\" width=\"400\" height=\"400\" viewBox=\"-200.0 -200.0 400 400\">\n",
       "<defs>\n",
       "</defs>\n",
       "<path d=\"M199.99999999999974,-346.4101615137756 L224.9999999999997,-389.7114317029976 A450,450,0,0,1,318.1980515339463,-318.19805153394645 L282.84271247461896,-282.8427124746191 A400,400,0,0,0,199.99999999999974,-346.4101615137756 Z\" stroke=\"white\" stroke-width=\"0.5\"/>\n",
       "</svg>"
      ],
      "text/plain": [
       "<IPython.core.display.SVG object>"
      ]
     },
     "metadata": {},
     "output_type": "display_data"
    },
    {
     "name": "stdout",
     "output_type": "stream",
     "text": [
      "Displaying: tile_ring7_division21.svg\n"
     ]
    },
    {
     "data": {
      "image/svg+xml": [
       "<svg xmlns=\"http://www.w3.org/2000/svg\" xmlns:xlink=\"http://www.w3.org/1999/xlink\" width=\"400\" height=\"400\" viewBox=\"-200.0 -200.0 400 400\">\n",
       "<defs>\n",
       "</defs>\n",
       "<path d=\"M282.84271247461896,-282.8427124746191 L318.1980515339463,-318.19805153394645 A450,450,0,0,1,389.7114317029973,-225.0000000000002 L346.41016151377534,-200.00000000000017 A400,400,0,0,0,282.84271247461896,-282.8427124746191 Z\" stroke=\"white\" stroke-width=\"0.5\"/>\n",
       "</svg>"
      ],
      "text/plain": [
       "<IPython.core.display.SVG object>"
      ]
     },
     "metadata": {},
     "output_type": "display_data"
    },
    {
     "name": "stdout",
     "output_type": "stream",
     "text": [
      "Displaying: tile_ring7_division22.svg\n"
     ]
    },
    {
     "data": {
      "image/svg+xml": [
       "<svg xmlns=\"http://www.w3.org/2000/svg\" xmlns:xlink=\"http://www.w3.org/1999/xlink\" width=\"400\" height=\"400\" viewBox=\"-200.0 -200.0 400 400\">\n",
       "<defs>\n",
       "</defs>\n",
       "<path d=\"M346.41016151377534,-200.00000000000017 L389.7114317029973,-225.0000000000002 A450,450,0,0,1,434.66662183008066,-116.4685702961347 L386.37033051562724,-103.52761804100862 A400,400,0,0,0,346.41016151377534,-200.00000000000017 Z\" stroke=\"white\" stroke-width=\"0.5\"/>\n",
       "</svg>"
      ],
      "text/plain": [
       "<IPython.core.display.SVG object>"
      ]
     },
     "metadata": {},
     "output_type": "display_data"
    },
    {
     "name": "stdout",
     "output_type": "stream",
     "text": [
      "Displaying: tile_ring7_division23.svg\n"
     ]
    },
    {
     "data": {
      "image/svg+xml": [
       "<svg xmlns=\"http://www.w3.org/2000/svg\" xmlns:xlink=\"http://www.w3.org/1999/xlink\" width=\"400\" height=\"400\" viewBox=\"-200.0 -200.0 400 400\">\n",
       "<defs>\n",
       "</defs>\n",
       "<path d=\"M386.37033051562724,-103.52761804100862 L434.66662183008066,-116.4685702961347 A450,450,0,0,1,450.0,-1.1021821192326178e-13 L400.0,-9.797174393178826e-14 A400,400,0,0,0,386.37033051562724,-103.52761804100862 Z\" stroke=\"white\" stroke-width=\"0.5\"/>\n",
       "</svg>"
      ],
      "text/plain": [
       "<IPython.core.display.SVG object>"
      ]
     },
     "metadata": {},
     "output_type": "display_data"
    },
    {
     "name": "stdout",
     "output_type": "stream",
     "text": [
      "Displaying: tile_ring7_division3.svg\n"
     ]
    },
    {
     "data": {
      "image/svg+xml": [
       "<svg xmlns=\"http://www.w3.org/2000/svg\" xmlns:xlink=\"http://www.w3.org/1999/xlink\" width=\"400\" height=\"400\" viewBox=\"-200.0 -200.0 400 400\">\n",
       "<defs>\n",
       "</defs>\n",
       "<path d=\"M282.842712474619,282.84271247461896 L318.1980515339464,318.19805153394634 A450,450,0,0,1,225.00000000000006,389.71143170299734 L200.00000000000006,346.41016151377545 A400,400,0,0,0,282.842712474619,282.84271247461896 Z\" stroke=\"white\" stroke-width=\"0.5\"/>\n",
       "</svg>"
      ],
      "text/plain": [
       "<IPython.core.display.SVG object>"
      ]
     },
     "metadata": {},
     "output_type": "display_data"
    },
    {
     "name": "stdout",
     "output_type": "stream",
     "text": [
      "Displaying: tile_ring7_division4.svg\n"
     ]
    },
    {
     "data": {
      "image/svg+xml": [
       "<svg xmlns=\"http://www.w3.org/2000/svg\" xmlns:xlink=\"http://www.w3.org/1999/xlink\" width=\"400\" height=\"400\" viewBox=\"-200.0 -200.0 400 400\">\n",
       "<defs>\n",
       "</defs>\n",
       "<path d=\"M200.00000000000006,346.41016151377545 L225.00000000000006,389.71143170299734 A450,450,0,0,1,116.46857029613443,434.6666218300807 L103.52761804100838,386.3703305156273 A400,400,0,0,0,200.00000000000006,346.41016151377545 Z\" stroke=\"white\" stroke-width=\"0.5\"/>\n",
       "</svg>"
      ],
      "text/plain": [
       "<IPython.core.display.SVG object>"
      ]
     },
     "metadata": {},
     "output_type": "display_data"
    },
    {
     "name": "stdout",
     "output_type": "stream",
     "text": [
      "Displaying: tile_ring7_division5.svg\n"
     ]
    },
    {
     "data": {
      "image/svg+xml": [
       "<svg xmlns=\"http://www.w3.org/2000/svg\" xmlns:xlink=\"http://www.w3.org/1999/xlink\" width=\"400\" height=\"400\" viewBox=\"-200.0 -200.0 400 400\">\n",
       "<defs>\n",
       "</defs>\n",
       "<path d=\"M103.52761804100838,386.3703305156273 L116.46857029613443,434.6666218300807 A450,450,0,0,1,2.7554552980815446e-14,450.0 L2.4492935982947064e-14,400.0 A400,400,0,0,0,103.52761804100838,386.3703305156273 Z\" stroke=\"white\" stroke-width=\"0.5\"/>\n",
       "</svg>"
      ],
      "text/plain": [
       "<IPython.core.display.SVG object>"
      ]
     },
     "metadata": {},
     "output_type": "display_data"
    },
    {
     "name": "stdout",
     "output_type": "stream",
     "text": [
      "Displaying: tile_ring7_division6.svg\n"
     ]
    },
    {
     "data": {
      "image/svg+xml": [
       "<svg xmlns=\"http://www.w3.org/2000/svg\" xmlns:xlink=\"http://www.w3.org/1999/xlink\" width=\"400\" height=\"400\" viewBox=\"-200.0 -200.0 400 400\">\n",
       "<defs>\n",
       "</defs>\n",
       "<path d=\"M2.4492935982947064e-14,400.0 L2.7554552980815446e-14,450.0 A450,450,0,0,1,-116.46857029613429,434.6666218300807 L-103.52761804100825,386.3703305156273 A400,400,0,0,0,2.4492935982947064e-14,400.0 Z\" stroke=\"white\" stroke-width=\"0.5\"/>\n",
       "</svg>"
      ],
      "text/plain": [
       "<IPython.core.display.SVG object>"
      ]
     },
     "metadata": {},
     "output_type": "display_data"
    },
    {
     "name": "stdout",
     "output_type": "stream",
     "text": [
      "Displaying: tile_ring7_division7.svg\n"
     ]
    },
    {
     "data": {
      "image/svg+xml": [
       "<svg xmlns=\"http://www.w3.org/2000/svg\" xmlns:xlink=\"http://www.w3.org/1999/xlink\" width=\"400\" height=\"400\" viewBox=\"-200.0 -200.0 400 400\">\n",
       "<defs>\n",
       "</defs>\n",
       "<path d=\"M-103.52761804100825,386.3703305156273 L-116.46857029613429,434.6666218300807 A450,450,0,0,1,-224.99999999999991,389.7114317029974 L-199.99999999999994,346.4101615137755 A400,400,0,0,0,-103.52761804100825,386.3703305156273 Z\" stroke=\"white\" stroke-width=\"0.5\"/>\n",
       "</svg>"
      ],
      "text/plain": [
       "<IPython.core.display.SVG object>"
      ]
     },
     "metadata": {},
     "output_type": "display_data"
    },
    {
     "name": "stdout",
     "output_type": "stream",
     "text": [
      "Displaying: tile_ring7_division8.svg\n"
     ]
    },
    {
     "data": {
      "image/svg+xml": [
       "<svg xmlns=\"http://www.w3.org/2000/svg\" xmlns:xlink=\"http://www.w3.org/1999/xlink\" width=\"400\" height=\"400\" viewBox=\"-200.0 -200.0 400 400\">\n",
       "<defs>\n",
       "</defs>\n",
       "<path d=\"M-199.99999999999994,346.4101615137755 L-224.99999999999991,389.7114317029974 A450,450,0,0,1,-318.19805153394634,318.1980515339464 L-282.84271247461896,282.842712474619 A400,400,0,0,0,-199.99999999999994,346.4101615137755 Z\" stroke=\"white\" stroke-width=\"0.5\"/>\n",
       "</svg>"
      ],
      "text/plain": [
       "<IPython.core.display.SVG object>"
      ]
     },
     "metadata": {},
     "output_type": "display_data"
    },
    {
     "name": "stdout",
     "output_type": "stream",
     "text": [
      "Displaying: tile_ring7_division9.svg\n"
     ]
    },
    {
     "data": {
      "image/svg+xml": [
       "<svg xmlns=\"http://www.w3.org/2000/svg\" xmlns:xlink=\"http://www.w3.org/1999/xlink\" width=\"400\" height=\"400\" viewBox=\"-200.0 -200.0 400 400\">\n",
       "<defs>\n",
       "</defs>\n",
       "<path d=\"M-282.84271247461896,282.842712474619 L-318.19805153394634,318.1980515339464 A450,450,0,0,1,-389.71143170299734,225.00000000000014 L-346.4101615137754,200.00000000000014 A400,400,0,0,0,-282.84271247461896,282.842712474619 Z\" stroke=\"white\" stroke-width=\"0.5\"/>\n",
       "</svg>"
      ],
      "text/plain": [
       "<IPython.core.display.SVG object>"
      ]
     },
     "metadata": {},
     "output_type": "display_data"
    },
    {
     "name": "stdout",
     "output_type": "stream",
     "text": [
      "Displaying: tile_ring8_division0.svg\n"
     ]
    },
    {
     "data": {
      "image/svg+xml": [
       "<svg xmlns=\"http://www.w3.org/2000/svg\" xmlns:xlink=\"http://www.w3.org/1999/xlink\" width=\"400\" height=\"400\" viewBox=\"-200.0 -200.0 400 400\">\n",
       "<defs>\n",
       "</defs>\n",
       "<path d=\"M450.0,0.0 L500.0,0.0 A500,500,0,0,1,482.9629131445342,129.40952255126038 L434.6666218300807,116.46857029613433 A450,450,0,0,0,450.0,0.0 Z\" stroke=\"white\" stroke-width=\"0.5\"/>\n",
       "</svg>"
      ],
      "text/plain": [
       "<IPython.core.display.SVG object>"
      ]
     },
     "metadata": {},
     "output_type": "display_data"
    },
    {
     "name": "stdout",
     "output_type": "stream",
     "text": [
      "Displaying: tile_ring8_division1.svg\n"
     ]
    },
    {
     "data": {
      "image/svg+xml": [
       "<svg xmlns=\"http://www.w3.org/2000/svg\" xmlns:xlink=\"http://www.w3.org/1999/xlink\" width=\"400\" height=\"400\" viewBox=\"-200.0 -200.0 400 400\">\n",
       "<defs>\n",
       "</defs>\n",
       "<path d=\"M434.6666218300807,116.46857029613433 L482.9629131445342,129.40952255126038 A500,500,0,0,1,433.01270189221935,249.99999999999997 L389.7114317029974,224.99999999999997 A450,450,0,0,0,434.6666218300807,116.46857029613433 Z\" stroke=\"white\" stroke-width=\"0.5\"/>\n",
       "</svg>"
      ],
      "text/plain": [
       "<IPython.core.display.SVG object>"
      ]
     },
     "metadata": {},
     "output_type": "display_data"
    },
    {
     "name": "stdout",
     "output_type": "stream",
     "text": [
      "Displaying: tile_ring8_division10.svg\n"
     ]
    },
    {
     "data": {
      "image/svg+xml": [
       "<svg xmlns=\"http://www.w3.org/2000/svg\" xmlns:xlink=\"http://www.w3.org/1999/xlink\" width=\"400\" height=\"400\" viewBox=\"-200.0 -200.0 400 400\">\n",
       "<defs>\n",
       "</defs>\n",
       "<path d=\"M-389.71143170299734,225.00000000000014 L-433.01270189221924,250.00000000000017 A500,500,0,0,1,-482.9629131445341,129.40952255126052 L-434.6666218300807,116.46857029613446 A450,450,0,0,0,-389.71143170299734,225.00000000000014 Z\" stroke=\"white\" stroke-width=\"0.5\"/>\n",
       "</svg>"
      ],
      "text/plain": [
       "<IPython.core.display.SVG object>"
      ]
     },
     "metadata": {},
     "output_type": "display_data"
    },
    {
     "name": "stdout",
     "output_type": "stream",
     "text": [
      "Displaying: tile_ring8_division11.svg\n"
     ]
    },
    {
     "data": {
      "image/svg+xml": [
       "<svg xmlns=\"http://www.w3.org/2000/svg\" xmlns:xlink=\"http://www.w3.org/1999/xlink\" width=\"400\" height=\"400\" viewBox=\"-200.0 -200.0 400 400\">\n",
       "<defs>\n",
       "</defs>\n",
       "<path d=\"M-434.6666218300807,116.46857029613446 L-482.9629131445341,129.40952255126052 A500,500,0,0,1,-500.0,6.123233995736766e-14 L-450.0,5.510910596163089e-14 A450,450,0,0,0,-434.6666218300807,116.46857029613446 Z\" stroke=\"white\" stroke-width=\"0.5\"/>\n",
       "</svg>"
      ],
      "text/plain": [
       "<IPython.core.display.SVG object>"
      ]
     },
     "metadata": {},
     "output_type": "display_data"
    },
    {
     "name": "stdout",
     "output_type": "stream",
     "text": [
      "Displaying: tile_ring8_division12.svg\n"
     ]
    },
    {
     "data": {
      "image/svg+xml": [
       "<svg xmlns=\"http://www.w3.org/2000/svg\" xmlns:xlink=\"http://www.w3.org/1999/xlink\" width=\"400\" height=\"400\" viewBox=\"-200.0 -200.0 400 400\">\n",
       "<defs>\n",
       "</defs>\n",
       "<path d=\"M-450.0,5.510910596163089e-14 L-500.0,6.123233995736766e-14 A500,500,0,0,1,-482.9629131445342,-129.40952255126018 L-434.66662183008077,-116.46857029613416 A450,450,0,0,0,-450.0,5.510910596163089e-14 Z\" stroke=\"white\" stroke-width=\"0.5\"/>\n",
       "</svg>"
      ],
      "text/plain": [
       "<IPython.core.display.SVG object>"
      ]
     },
     "metadata": {},
     "output_type": "display_data"
    },
    {
     "name": "stdout",
     "output_type": "stream",
     "text": [
      "Displaying: tile_ring8_division13.svg\n"
     ]
    },
    {
     "data": {
      "image/svg+xml": [
       "<svg xmlns=\"http://www.w3.org/2000/svg\" xmlns:xlink=\"http://www.w3.org/1999/xlink\" width=\"400\" height=\"400\" viewBox=\"-200.0 -200.0 400 400\">\n",
       "<defs>\n",
       "</defs>\n",
       "<path d=\"M-434.66662183008077,-116.46857029613416 L-482.9629131445342,-129.40952255126018 A500,500,0,0,1,-433.0127018922194,-249.9999999999999 L-389.71143170299746,-224.9999999999999 A450,450,0,0,0,-434.66662183008077,-116.46857029613416 Z\" stroke=\"white\" stroke-width=\"0.5\"/>\n",
       "</svg>"
      ],
      "text/plain": [
       "<IPython.core.display.SVG object>"
      ]
     },
     "metadata": {},
     "output_type": "display_data"
    },
    {
     "name": "stdout",
     "output_type": "stream",
     "text": [
      "Displaying: tile_ring8_division14.svg\n"
     ]
    },
    {
     "data": {
      "image/svg+xml": [
       "<svg xmlns=\"http://www.w3.org/2000/svg\" xmlns:xlink=\"http://www.w3.org/1999/xlink\" width=\"400\" height=\"400\" viewBox=\"-200.0 -200.0 400 400\">\n",
       "<defs>\n",
       "</defs>\n",
       "<path d=\"M-389.71143170299746,-224.9999999999999 L-433.0127018922194,-249.9999999999999 A500,500,0,0,1,-353.55339059327395,-353.55339059327355 L-318.19805153394657,-318.1980515339462 A450,450,0,0,0,-389.71143170299746,-224.9999999999999 Z\" stroke=\"white\" stroke-width=\"0.5\"/>\n",
       "</svg>"
      ],
      "text/plain": [
       "<IPython.core.display.SVG object>"
      ]
     },
     "metadata": {},
     "output_type": "display_data"
    },
    {
     "name": "stdout",
     "output_type": "stream",
     "text": [
      "Displaying: tile_ring8_division15.svg\n"
     ]
    },
    {
     "data": {
      "image/svg+xml": [
       "<svg xmlns=\"http://www.w3.org/2000/svg\" xmlns:xlink=\"http://www.w3.org/1999/xlink\" width=\"400\" height=\"400\" viewBox=\"-200.0 -200.0 400 400\">\n",
       "<defs>\n",
       "</defs>\n",
       "<path d=\"M-318.19805153394657,-318.1980515339462 L-353.55339059327395,-353.55339059327355 A500,500,0,0,1,-250.00000000000023,-433.0127018922192 L-225.0000000000002,-389.7114317029973 A450,450,0,0,0,-318.19805153394657,-318.1980515339462 Z\" stroke=\"white\" stroke-width=\"0.5\"/>\n",
       "</svg>"
      ],
      "text/plain": [
       "<IPython.core.display.SVG object>"
      ]
     },
     "metadata": {},
     "output_type": "display_data"
    },
    {
     "name": "stdout",
     "output_type": "stream",
     "text": [
      "Displaying: tile_ring8_division16.svg\n"
     ]
    },
    {
     "data": {
      "image/svg+xml": [
       "<svg xmlns=\"http://www.w3.org/2000/svg\" xmlns:xlink=\"http://www.w3.org/1999/xlink\" width=\"400\" height=\"400\" viewBox=\"-200.0 -200.0 400 400\">\n",
       "<defs>\n",
       "</defs>\n",
       "<path d=\"M-225.0000000000002,-389.7114317029973 L-250.00000000000023,-433.0127018922192 A500,500,0,0,1,-129.40952255126075,-482.96291314453407 L-116.46857029613469,-434.66662183008066 A450,450,0,0,0,-225.0000000000002,-389.7114317029973 Z\" stroke=\"white\" stroke-width=\"0.5\"/>\n",
       "</svg>"
      ],
      "text/plain": [
       "<IPython.core.display.SVG object>"
      ]
     },
     "metadata": {},
     "output_type": "display_data"
    },
    {
     "name": "stdout",
     "output_type": "stream",
     "text": [
      "Displaying: tile_ring8_division17.svg\n"
     ]
    },
    {
     "data": {
      "image/svg+xml": [
       "<svg xmlns=\"http://www.w3.org/2000/svg\" xmlns:xlink=\"http://www.w3.org/1999/xlink\" width=\"400\" height=\"400\" viewBox=\"-200.0 -200.0 400 400\">\n",
       "<defs>\n",
       "</defs>\n",
       "<path d=\"M-116.46857029613469,-434.66662183008066 L-129.40952255126075,-482.96291314453407 A500,500,0,0,1,-9.184850993605149e-14,-500.0 L-8.266365894244634e-14,-450.0 A450,450,0,0,0,-116.46857029613469,-434.66662183008066 Z\" stroke=\"white\" stroke-width=\"0.5\"/>\n",
       "</svg>"
      ],
      "text/plain": [
       "<IPython.core.display.SVG object>"
      ]
     },
     "metadata": {},
     "output_type": "display_data"
    },
    {
     "name": "stdout",
     "output_type": "stream",
     "text": [
      "Displaying: tile_ring8_division18.svg\n"
     ]
    },
    {
     "data": {
      "image/svg+xml": [
       "<svg xmlns=\"http://www.w3.org/2000/svg\" xmlns:xlink=\"http://www.w3.org/1999/xlink\" width=\"400\" height=\"400\" viewBox=\"-200.0 -200.0 400 400\">\n",
       "<defs>\n",
       "</defs>\n",
       "<path d=\"M-8.266365894244634e-14,-450.0 L-9.184850993605149e-14,-500.0 A500,500,0,0,1,129.40952255126015,-482.9629131445342 L116.46857029613413,-434.66662183008077 A450,450,0,0,0,-8.266365894244634e-14,-450.0 Z\" stroke=\"white\" stroke-width=\"0.5\"/>\n",
       "</svg>"
      ],
      "text/plain": [
       "<IPython.core.display.SVG object>"
      ]
     },
     "metadata": {},
     "output_type": "display_data"
    },
    {
     "name": "stdout",
     "output_type": "stream",
     "text": [
      "Displaying: tile_ring8_division19.svg\n"
     ]
    },
    {
     "data": {
      "image/svg+xml": [
       "<svg xmlns=\"http://www.w3.org/2000/svg\" xmlns:xlink=\"http://www.w3.org/1999/xlink\" width=\"400\" height=\"400\" viewBox=\"-200.0 -200.0 400 400\">\n",
       "<defs>\n",
       "</defs>\n",
       "<path d=\"M116.46857029613413,-434.66662183008077 L129.40952255126015,-482.9629131445342 A500,500,0,0,1,249.99999999999966,-433.0127018922195 L224.9999999999997,-389.7114317029976 A450,450,0,0,0,116.46857029613413,-434.66662183008077 Z\" stroke=\"white\" stroke-width=\"0.5\"/>\n",
       "</svg>"
      ],
      "text/plain": [
       "<IPython.core.display.SVG object>"
      ]
     },
     "metadata": {},
     "output_type": "display_data"
    },
    {
     "name": "stdout",
     "output_type": "stream",
     "text": [
      "Displaying: tile_ring8_division2.svg\n"
     ]
    },
    {
     "data": {
      "image/svg+xml": [
       "<svg xmlns=\"http://www.w3.org/2000/svg\" xmlns:xlink=\"http://www.w3.org/1999/xlink\" width=\"400\" height=\"400\" viewBox=\"-200.0 -200.0 400 400\">\n",
       "<defs>\n",
       "</defs>\n",
       "<path d=\"M389.7114317029974,224.99999999999997 L433.01270189221935,249.99999999999997 A500,500,0,0,1,353.5533905932738,353.5533905932737 L318.1980515339464,318.19805153394634 A450,450,0,0,0,389.7114317029974,224.99999999999997 Z\" stroke=\"white\" stroke-width=\"0.5\"/>\n",
       "</svg>"
      ],
      "text/plain": [
       "<IPython.core.display.SVG object>"
      ]
     },
     "metadata": {},
     "output_type": "display_data"
    },
    {
     "name": "stdout",
     "output_type": "stream",
     "text": [
      "Displaying: tile_ring8_division20.svg\n"
     ]
    },
    {
     "data": {
      "image/svg+xml": [
       "<svg xmlns=\"http://www.w3.org/2000/svg\" xmlns:xlink=\"http://www.w3.org/1999/xlink\" width=\"400\" height=\"400\" viewBox=\"-200.0 -200.0 400 400\">\n",
       "<defs>\n",
       "</defs>\n",
       "<path d=\"M224.9999999999997,-389.7114317029976 L249.99999999999966,-433.0127018922195 A500,500,0,0,1,353.55339059327366,-353.55339059327383 L318.1980515339463,-318.19805153394645 A450,450,0,0,0,224.9999999999997,-389.7114317029976 Z\" stroke=\"white\" stroke-width=\"0.5\"/>\n",
       "</svg>"
      ],
      "text/plain": [
       "<IPython.core.display.SVG object>"
      ]
     },
     "metadata": {},
     "output_type": "display_data"
    },
    {
     "name": "stdout",
     "output_type": "stream",
     "text": [
      "Displaying: tile_ring8_division21.svg\n"
     ]
    },
    {
     "data": {
      "image/svg+xml": [
       "<svg xmlns=\"http://www.w3.org/2000/svg\" xmlns:xlink=\"http://www.w3.org/1999/xlink\" width=\"400\" height=\"400\" viewBox=\"-200.0 -200.0 400 400\">\n",
       "<defs>\n",
       "</defs>\n",
       "<path d=\"M318.1980515339463,-318.19805153394645 L353.55339059327366,-353.55339059327383 A500,500,0,0,1,433.0127018922192,-250.00000000000023 L389.7114317029973,-225.0000000000002 A450,450,0,0,0,318.1980515339463,-318.19805153394645 Z\" stroke=\"white\" stroke-width=\"0.5\"/>\n",
       "</svg>"
      ],
      "text/plain": [
       "<IPython.core.display.SVG object>"
      ]
     },
     "metadata": {},
     "output_type": "display_data"
    },
    {
     "name": "stdout",
     "output_type": "stream",
     "text": [
      "Displaying: tile_ring8_division22.svg\n"
     ]
    },
    {
     "data": {
      "image/svg+xml": [
       "<svg xmlns=\"http://www.w3.org/2000/svg\" xmlns:xlink=\"http://www.w3.org/1999/xlink\" width=\"400\" height=\"400\" viewBox=\"-200.0 -200.0 400 400\">\n",
       "<defs>\n",
       "</defs>\n",
       "<path d=\"M389.7114317029973,-225.0000000000002 L433.0127018922192,-250.00000000000023 A500,500,0,0,1,482.96291314453407,-129.40952255126078 L434.66662183008066,-116.4685702961347 A450,450,0,0,0,389.7114317029973,-225.0000000000002 Z\" stroke=\"white\" stroke-width=\"0.5\"/>\n",
       "</svg>"
      ],
      "text/plain": [
       "<IPython.core.display.SVG object>"
      ]
     },
     "metadata": {},
     "output_type": "display_data"
    },
    {
     "name": "stdout",
     "output_type": "stream",
     "text": [
      "Displaying: tile_ring8_division23.svg\n"
     ]
    },
    {
     "data": {
      "image/svg+xml": [
       "<svg xmlns=\"http://www.w3.org/2000/svg\" xmlns:xlink=\"http://www.w3.org/1999/xlink\" width=\"400\" height=\"400\" viewBox=\"-200.0 -200.0 400 400\">\n",
       "<defs>\n",
       "</defs>\n",
       "<path d=\"M434.66662183008066,-116.4685702961347 L482.96291314453407,-129.40952255126078 A500,500,0,0,1,500.0,-1.2246467991473532e-13 L450.0,-1.1021821192326178e-13 A450,450,0,0,0,434.66662183008066,-116.4685702961347 Z\" stroke=\"white\" stroke-width=\"0.5\"/>\n",
       "</svg>"
      ],
      "text/plain": [
       "<IPython.core.display.SVG object>"
      ]
     },
     "metadata": {},
     "output_type": "display_data"
    },
    {
     "name": "stdout",
     "output_type": "stream",
     "text": [
      "Displaying: tile_ring8_division3.svg\n"
     ]
    },
    {
     "data": {
      "image/svg+xml": [
       "<svg xmlns=\"http://www.w3.org/2000/svg\" xmlns:xlink=\"http://www.w3.org/1999/xlink\" width=\"400\" height=\"400\" viewBox=\"-200.0 -200.0 400 400\">\n",
       "<defs>\n",
       "</defs>\n",
       "<path d=\"M318.1980515339464,318.19805153394634 L353.5533905932738,353.5533905932737 A500,500,0,0,1,250.00000000000006,433.0127018922193 L225.00000000000006,389.71143170299734 A450,450,0,0,0,318.1980515339464,318.19805153394634 Z\" stroke=\"white\" stroke-width=\"0.5\"/>\n",
       "</svg>"
      ],
      "text/plain": [
       "<IPython.core.display.SVG object>"
      ]
     },
     "metadata": {},
     "output_type": "display_data"
    },
    {
     "name": "stdout",
     "output_type": "stream",
     "text": [
      "Displaying: tile_ring8_division4.svg\n"
     ]
    },
    {
     "data": {
      "image/svg+xml": [
       "<svg xmlns=\"http://www.w3.org/2000/svg\" xmlns:xlink=\"http://www.w3.org/1999/xlink\" width=\"400\" height=\"400\" viewBox=\"-200.0 -200.0 400 400\">\n",
       "<defs>\n",
       "</defs>\n",
       "<path d=\"M225.00000000000006,389.71143170299734 L250.00000000000006,433.0127018922193 A500,500,0,0,1,129.4095225512605,482.9629131445341 L116.46857029613443,434.6666218300807 A450,450,0,0,0,225.00000000000006,389.71143170299734 Z\" stroke=\"white\" stroke-width=\"0.5\"/>\n",
       "</svg>"
      ],
      "text/plain": [
       "<IPython.core.display.SVG object>"
      ]
     },
     "metadata": {},
     "output_type": "display_data"
    },
    {
     "name": "stdout",
     "output_type": "stream",
     "text": [
      "Displaying: tile_ring8_division5.svg\n"
     ]
    },
    {
     "data": {
      "image/svg+xml": [
       "<svg xmlns=\"http://www.w3.org/2000/svg\" xmlns:xlink=\"http://www.w3.org/1999/xlink\" width=\"400\" height=\"400\" viewBox=\"-200.0 -200.0 400 400\">\n",
       "<defs>\n",
       "</defs>\n",
       "<path d=\"M116.46857029613443,434.6666218300807 L129.4095225512605,482.9629131445341 A500,500,0,0,1,3.061616997868383e-14,500.0 L2.7554552980815446e-14,450.0 A450,450,0,0,0,116.46857029613443,434.6666218300807 Z\" stroke=\"white\" stroke-width=\"0.5\"/>\n",
       "</svg>"
      ],
      "text/plain": [
       "<IPython.core.display.SVG object>"
      ]
     },
     "metadata": {},
     "output_type": "display_data"
    },
    {
     "name": "stdout",
     "output_type": "stream",
     "text": [
      "Displaying: tile_ring8_division6.svg\n"
     ]
    },
    {
     "data": {
      "image/svg+xml": [
       "<svg xmlns=\"http://www.w3.org/2000/svg\" xmlns:xlink=\"http://www.w3.org/1999/xlink\" width=\"400\" height=\"400\" viewBox=\"-200.0 -200.0 400 400\">\n",
       "<defs>\n",
       "</defs>\n",
       "<path d=\"M2.7554552980815446e-14,450.0 L3.061616997868383e-14,500.0 A500,500,0,0,1,-129.40952255126032,482.9629131445342 L-116.46857029613429,434.6666218300807 A450,450,0,0,0,2.7554552980815446e-14,450.0 Z\" stroke=\"white\" stroke-width=\"0.5\"/>\n",
       "</svg>"
      ],
      "text/plain": [
       "<IPython.core.display.SVG object>"
      ]
     },
     "metadata": {},
     "output_type": "display_data"
    },
    {
     "name": "stdout",
     "output_type": "stream",
     "text": [
      "Displaying: tile_ring8_division7.svg\n"
     ]
    },
    {
     "data": {
      "image/svg+xml": [
       "<svg xmlns=\"http://www.w3.org/2000/svg\" xmlns:xlink=\"http://www.w3.org/1999/xlink\" width=\"400\" height=\"400\" viewBox=\"-200.0 -200.0 400 400\">\n",
       "<defs>\n",
       "</defs>\n",
       "<path d=\"M-116.46857029613429,434.6666218300807 L-129.40952255126032,482.9629131445342 A500,500,0,0,1,-249.99999999999991,433.01270189221935 L-224.99999999999991,389.7114317029974 A450,450,0,0,0,-116.46857029613429,434.6666218300807 Z\" stroke=\"white\" stroke-width=\"0.5\"/>\n",
       "</svg>"
      ],
      "text/plain": [
       "<IPython.core.display.SVG object>"
      ]
     },
     "metadata": {},
     "output_type": "display_data"
    },
    {
     "name": "stdout",
     "output_type": "stream",
     "text": [
      "Displaying: tile_ring8_division8.svg\n"
     ]
    },
    {
     "data": {
      "image/svg+xml": [
       "<svg xmlns=\"http://www.w3.org/2000/svg\" xmlns:xlink=\"http://www.w3.org/1999/xlink\" width=\"400\" height=\"400\" viewBox=\"-200.0 -200.0 400 400\">\n",
       "<defs>\n",
       "</defs>\n",
       "<path d=\"M-224.99999999999991,389.7114317029974 L-249.99999999999991,433.01270189221935 A500,500,0,0,1,-353.5533905932737,353.5533905932738 L-318.19805153394634,318.1980515339464 A450,450,0,0,0,-224.99999999999991,389.7114317029974 Z\" stroke=\"white\" stroke-width=\"0.5\"/>\n",
       "</svg>"
      ],
      "text/plain": [
       "<IPython.core.display.SVG object>"
      ]
     },
     "metadata": {},
     "output_type": "display_data"
    },
    {
     "name": "stdout",
     "output_type": "stream",
     "text": [
      "Displaying: tile_ring8_division9.svg\n"
     ]
    },
    {
     "data": {
      "image/svg+xml": [
       "<svg xmlns=\"http://www.w3.org/2000/svg\" xmlns:xlink=\"http://www.w3.org/1999/xlink\" width=\"400\" height=\"400\" viewBox=\"-200.0 -200.0 400 400\">\n",
       "<defs>\n",
       "</defs>\n",
       "<path d=\"M-318.19805153394634,318.1980515339464 L-353.5533905932737,353.5533905932738 A500,500,0,0,1,-433.01270189221924,250.00000000000017 L-389.71143170299734,225.00000000000014 A450,450,0,0,0,-318.19805153394634,318.1980515339464 Z\" stroke=\"white\" stroke-width=\"0.5\"/>\n",
       "</svg>"
      ],
      "text/plain": [
       "<IPython.core.display.SVG object>"
      ]
     },
     "metadata": {},
     "output_type": "display_data"
    },
    {
     "name": "stdout",
     "output_type": "stream",
     "text": [
      "Displaying: tile_ring9_division0.svg\n"
     ]
    },
    {
     "data": {
      "image/svg+xml": [
       "<svg xmlns=\"http://www.w3.org/2000/svg\" xmlns:xlink=\"http://www.w3.org/1999/xlink\" width=\"400\" height=\"400\" viewBox=\"-200.0 -200.0 400 400\">\n",
       "<defs>\n",
       "</defs>\n",
       "<path d=\"M500.0,0.0 L550.0,0.0 A550,550,0,0,1,531.2592044589876,142.35047480638642 L482.9629131445342,129.40952255126038 A500,500,0,0,0,500.0,0.0 Z\" stroke=\"white\" stroke-width=\"0.5\"/>\n",
       "</svg>"
      ],
      "text/plain": [
       "<IPython.core.display.SVG object>"
      ]
     },
     "metadata": {},
     "output_type": "display_data"
    },
    {
     "name": "stdout",
     "output_type": "stream",
     "text": [
      "Displaying: tile_ring9_division1.svg\n"
     ]
    },
    {
     "data": {
      "image/svg+xml": [
       "<svg xmlns=\"http://www.w3.org/2000/svg\" xmlns:xlink=\"http://www.w3.org/1999/xlink\" width=\"400\" height=\"400\" viewBox=\"-200.0 -200.0 400 400\">\n",
       "<defs>\n",
       "</defs>\n",
       "<path d=\"M482.9629131445342,129.40952255126038 L531.2592044589876,142.35047480638642 A550,550,0,0,1,476.3139720814413,274.99999999999994 L433.01270189221935,249.99999999999997 A500,500,0,0,0,482.9629131445342,129.40952255126038 Z\" stroke=\"white\" stroke-width=\"0.5\"/>\n",
       "</svg>"
      ],
      "text/plain": [
       "<IPython.core.display.SVG object>"
      ]
     },
     "metadata": {},
     "output_type": "display_data"
    },
    {
     "name": "stdout",
     "output_type": "stream",
     "text": [
      "Displaying: tile_ring9_division10.svg\n"
     ]
    },
    {
     "data": {
      "image/svg+xml": [
       "<svg xmlns=\"http://www.w3.org/2000/svg\" xmlns:xlink=\"http://www.w3.org/1999/xlink\" width=\"400\" height=\"400\" viewBox=\"-200.0 -200.0 400 400\">\n",
       "<defs>\n",
       "</defs>\n",
       "<path d=\"M-433.01270189221924,250.00000000000017 L-476.3139720814412,275.00000000000017 A550,550,0,0,1,-531.2592044589875,142.35047480638656 L-482.9629131445341,129.40952255126052 A500,500,0,0,0,-433.01270189221924,250.00000000000017 Z\" stroke=\"white\" stroke-width=\"0.5\"/>\n",
       "</svg>"
      ],
      "text/plain": [
       "<IPython.core.display.SVG object>"
      ]
     },
     "metadata": {},
     "output_type": "display_data"
    },
    {
     "name": "stdout",
     "output_type": "stream",
     "text": [
      "Displaying: tile_ring9_division11.svg\n"
     ]
    },
    {
     "data": {
      "image/svg+xml": [
       "<svg xmlns=\"http://www.w3.org/2000/svg\" xmlns:xlink=\"http://www.w3.org/1999/xlink\" width=\"400\" height=\"400\" viewBox=\"-200.0 -200.0 400 400\">\n",
       "<defs>\n",
       "</defs>\n",
       "<path d=\"M-482.9629131445341,129.40952255126052 L-531.2592044589875,142.35047480638656 A550,550,0,0,1,-550.0,6.735557395310443e-14 L-500.0,6.123233995736766e-14 A500,500,0,0,0,-482.9629131445341,129.40952255126052 Z\" stroke=\"white\" stroke-width=\"0.5\"/>\n",
       "</svg>"
      ],
      "text/plain": [
       "<IPython.core.display.SVG object>"
      ]
     },
     "metadata": {},
     "output_type": "display_data"
    },
    {
     "name": "stdout",
     "output_type": "stream",
     "text": [
      "Displaying: tile_ring9_division12.svg\n"
     ]
    },
    {
     "data": {
      "image/svg+xml": [
       "<svg xmlns=\"http://www.w3.org/2000/svg\" xmlns:xlink=\"http://www.w3.org/1999/xlink\" width=\"400\" height=\"400\" viewBox=\"-200.0 -200.0 400 400\">\n",
       "<defs>\n",
       "</defs>\n",
       "<path d=\"M-500.0,6.123233995736766e-14 L-550.0,6.735557395310443e-14 A550,550,0,0,1,-531.2592044589876,-142.3504748063862 L-482.9629131445342,-129.40952255126018 A500,500,0,0,0,-500.0,6.123233995736766e-14 Z\" stroke=\"white\" stroke-width=\"0.5\"/>\n",
       "</svg>"
      ],
      "text/plain": [
       "<IPython.core.display.SVG object>"
      ]
     },
     "metadata": {},
     "output_type": "display_data"
    },
    {
     "name": "stdout",
     "output_type": "stream",
     "text": [
      "Displaying: tile_ring9_division13.svg\n"
     ]
    },
    {
     "data": {
      "image/svg+xml": [
       "<svg xmlns=\"http://www.w3.org/2000/svg\" xmlns:xlink=\"http://www.w3.org/1999/xlink\" width=\"400\" height=\"400\" viewBox=\"-200.0 -200.0 400 400\">\n",
       "<defs>\n",
       "</defs>\n",
       "<path d=\"M-482.9629131445342,-129.40952255126018 L-531.2592044589876,-142.3504748063862 A550,550,0,0,1,-476.31397208144136,-274.9999999999999 L-433.0127018922194,-249.9999999999999 A500,500,0,0,0,-482.9629131445342,-129.40952255126018 Z\" stroke=\"white\" stroke-width=\"0.5\"/>\n",
       "</svg>"
      ],
      "text/plain": [
       "<IPython.core.display.SVG object>"
      ]
     },
     "metadata": {},
     "output_type": "display_data"
    },
    {
     "name": "stdout",
     "output_type": "stream",
     "text": [
      "Displaying: tile_ring9_division14.svg\n"
     ]
    },
    {
     "data": {
      "image/svg+xml": [
       "<svg xmlns=\"http://www.w3.org/2000/svg\" xmlns:xlink=\"http://www.w3.org/1999/xlink\" width=\"400\" height=\"400\" viewBox=\"-200.0 -200.0 400 400\">\n",
       "<defs>\n",
       "</defs>\n",
       "<path d=\"M-433.0127018922194,-249.9999999999999 L-476.31397208144136,-274.9999999999999 A550,550,0,0,1,-388.9087296526013,-388.9087296526009 L-353.55339059327395,-353.55339059327355 A500,500,0,0,0,-433.0127018922194,-249.9999999999999 Z\" stroke=\"white\" stroke-width=\"0.5\"/>\n",
       "</svg>"
      ],
      "text/plain": [
       "<IPython.core.display.SVG object>"
      ]
     },
     "metadata": {},
     "output_type": "display_data"
    },
    {
     "name": "stdout",
     "output_type": "stream",
     "text": [
      "Displaying: tile_ring9_division15.svg\n"
     ]
    },
    {
     "data": {
      "image/svg+xml": [
       "<svg xmlns=\"http://www.w3.org/2000/svg\" xmlns:xlink=\"http://www.w3.org/1999/xlink\" width=\"400\" height=\"400\" viewBox=\"-200.0 -200.0 400 400\">\n",
       "<defs>\n",
       "</defs>\n",
       "<path d=\"M-353.55339059327395,-353.55339059327355 L-388.9087296526013,-388.9087296526009 A550,550,0,0,1,-275.0000000000002,-476.3139720814411 L-250.00000000000023,-433.0127018922192 A500,500,0,0,0,-353.55339059327395,-353.55339059327355 Z\" stroke=\"white\" stroke-width=\"0.5\"/>\n",
       "</svg>"
      ],
      "text/plain": [
       "<IPython.core.display.SVG object>"
      ]
     },
     "metadata": {},
     "output_type": "display_data"
    },
    {
     "name": "stdout",
     "output_type": "stream",
     "text": [
      "Displaying: tile_ring9_division16.svg\n"
     ]
    },
    {
     "data": {
      "image/svg+xml": [
       "<svg xmlns=\"http://www.w3.org/2000/svg\" xmlns:xlink=\"http://www.w3.org/1999/xlink\" width=\"400\" height=\"400\" viewBox=\"-200.0 -200.0 400 400\">\n",
       "<defs>\n",
       "</defs>\n",
       "<path d=\"M-250.00000000000023,-433.0127018922192 L-275.0000000000002,-476.3139720814411 A550,550,0,0,1,-142.35047480638684,-531.2592044589875 L-129.40952255126075,-482.96291314453407 A500,500,0,0,0,-250.00000000000023,-433.0127018922192 Z\" stroke=\"white\" stroke-width=\"0.5\"/>\n",
       "</svg>"
      ],
      "text/plain": [
       "<IPython.core.display.SVG object>"
      ]
     },
     "metadata": {},
     "output_type": "display_data"
    },
    {
     "name": "stdout",
     "output_type": "stream",
     "text": [
      "Displaying: tile_ring9_division17.svg\n"
     ]
    },
    {
     "data": {
      "image/svg+xml": [
       "<svg xmlns=\"http://www.w3.org/2000/svg\" xmlns:xlink=\"http://www.w3.org/1999/xlink\" width=\"400\" height=\"400\" viewBox=\"-200.0 -200.0 400 400\">\n",
       "<defs>\n",
       "</defs>\n",
       "<path d=\"M-129.40952255126075,-482.96291314453407 L-142.35047480638684,-531.2592044589875 A550,550,0,0,1,-1.0103336092965664e-13,-550.0 L-9.184850993605149e-14,-500.0 A500,500,0,0,0,-129.40952255126075,-482.96291314453407 Z\" stroke=\"white\" stroke-width=\"0.5\"/>\n",
       "</svg>"
      ],
      "text/plain": [
       "<IPython.core.display.SVG object>"
      ]
     },
     "metadata": {},
     "output_type": "display_data"
    },
    {
     "name": "stdout",
     "output_type": "stream",
     "text": [
      "Displaying: tile_ring9_division18.svg\n"
     ]
    },
    {
     "data": {
      "image/svg+xml": [
       "<svg xmlns=\"http://www.w3.org/2000/svg\" xmlns:xlink=\"http://www.w3.org/1999/xlink\" width=\"400\" height=\"400\" viewBox=\"-200.0 -200.0 400 400\">\n",
       "<defs>\n",
       "</defs>\n",
       "<path d=\"M-9.184850993605149e-14,-500.0 L-1.0103336092965664e-13,-550.0 A550,550,0,0,1,142.35047480638616,-531.2592044589876 L129.40952255126015,-482.9629131445342 A500,500,0,0,0,-9.184850993605149e-14,-500.0 Z\" stroke=\"white\" stroke-width=\"0.5\"/>\n",
       "</svg>"
      ],
      "text/plain": [
       "<IPython.core.display.SVG object>"
      ]
     },
     "metadata": {},
     "output_type": "display_data"
    },
    {
     "name": "stdout",
     "output_type": "stream",
     "text": [
      "Displaying: tile_ring9_division19.svg\n"
     ]
    },
    {
     "data": {
      "image/svg+xml": [
       "<svg xmlns=\"http://www.w3.org/2000/svg\" xmlns:xlink=\"http://www.w3.org/1999/xlink\" width=\"400\" height=\"400\" viewBox=\"-200.0 -200.0 400 400\">\n",
       "<defs>\n",
       "</defs>\n",
       "<path d=\"M129.40952255126015,-482.9629131445342 L142.35047480638616,-531.2592044589876 A550,550,0,0,1,274.99999999999966,-476.3139720814415 L249.99999999999966,-433.0127018922195 A500,500,0,0,0,129.40952255126015,-482.9629131445342 Z\" stroke=\"white\" stroke-width=\"0.5\"/>\n",
       "</svg>"
      ],
      "text/plain": [
       "<IPython.core.display.SVG object>"
      ]
     },
     "metadata": {},
     "output_type": "display_data"
    },
    {
     "name": "stdout",
     "output_type": "stream",
     "text": [
      "Displaying: tile_ring9_division2.svg\n"
     ]
    },
    {
     "data": {
      "image/svg+xml": [
       "<svg xmlns=\"http://www.w3.org/2000/svg\" xmlns:xlink=\"http://www.w3.org/1999/xlink\" width=\"400\" height=\"400\" viewBox=\"-200.0 -200.0 400 400\">\n",
       "<defs>\n",
       "</defs>\n",
       "<path d=\"M433.01270189221935,249.99999999999997 L476.3139720814413,274.99999999999994 A550,550,0,0,1,388.90872965260115,388.9087296526011 L353.5533905932738,353.5533905932737 A500,500,0,0,0,433.01270189221935,249.99999999999997 Z\" stroke=\"white\" stroke-width=\"0.5\"/>\n",
       "</svg>"
      ],
      "text/plain": [
       "<IPython.core.display.SVG object>"
      ]
     },
     "metadata": {},
     "output_type": "display_data"
    },
    {
     "name": "stdout",
     "output_type": "stream",
     "text": [
      "Displaying: tile_ring9_division20.svg\n"
     ]
    },
    {
     "data": {
      "image/svg+xml": [
       "<svg xmlns=\"http://www.w3.org/2000/svg\" xmlns:xlink=\"http://www.w3.org/1999/xlink\" width=\"400\" height=\"400\" viewBox=\"-200.0 -200.0 400 400\">\n",
       "<defs>\n",
       "</defs>\n",
       "<path d=\"M249.99999999999966,-433.0127018922195 L274.99999999999966,-476.3139720814415 A550,550,0,0,1,388.90872965260104,-388.9087296526012 L353.55339059327366,-353.55339059327383 A500,500,0,0,0,249.99999999999966,-433.0127018922195 Z\" stroke=\"white\" stroke-width=\"0.5\"/>\n",
       "</svg>"
      ],
      "text/plain": [
       "<IPython.core.display.SVG object>"
      ]
     },
     "metadata": {},
     "output_type": "display_data"
    },
    {
     "name": "stdout",
     "output_type": "stream",
     "text": [
      "Displaying: tile_ring9_division21.svg\n"
     ]
    },
    {
     "data": {
      "image/svg+xml": [
       "<svg xmlns=\"http://www.w3.org/2000/svg\" xmlns:xlink=\"http://www.w3.org/1999/xlink\" width=\"400\" height=\"400\" viewBox=\"-200.0 -200.0 400 400\">\n",
       "<defs>\n",
       "</defs>\n",
       "<path d=\"M353.55339059327366,-353.55339059327383 L388.90872965260104,-388.9087296526012 A550,550,0,0,1,476.3139720814411,-275.0000000000002 L433.0127018922192,-250.00000000000023 A500,500,0,0,0,353.55339059327366,-353.55339059327383 Z\" stroke=\"white\" stroke-width=\"0.5\"/>\n",
       "</svg>"
      ],
      "text/plain": [
       "<IPython.core.display.SVG object>"
      ]
     },
     "metadata": {},
     "output_type": "display_data"
    },
    {
     "name": "stdout",
     "output_type": "stream",
     "text": [
      "Displaying: tile_ring9_division22.svg\n"
     ]
    },
    {
     "data": {
      "image/svg+xml": [
       "<svg xmlns=\"http://www.w3.org/2000/svg\" xmlns:xlink=\"http://www.w3.org/1999/xlink\" width=\"400\" height=\"400\" viewBox=\"-200.0 -200.0 400 400\">\n",
       "<defs>\n",
       "</defs>\n",
       "<path d=\"M433.0127018922192,-250.00000000000023 L476.3139720814411,-275.0000000000002 A550,550,0,0,1,531.2592044589875,-142.35047480638687 L482.96291314453407,-129.40952255126078 A500,500,0,0,0,433.0127018922192,-250.00000000000023 Z\" stroke=\"white\" stroke-width=\"0.5\"/>\n",
       "</svg>"
      ],
      "text/plain": [
       "<IPython.core.display.SVG object>"
      ]
     },
     "metadata": {},
     "output_type": "display_data"
    },
    {
     "name": "stdout",
     "output_type": "stream",
     "text": [
      "Displaying: tile_ring9_division23.svg\n"
     ]
    },
    {
     "data": {
      "image/svg+xml": [
       "<svg xmlns=\"http://www.w3.org/2000/svg\" xmlns:xlink=\"http://www.w3.org/1999/xlink\" width=\"400\" height=\"400\" viewBox=\"-200.0 -200.0 400 400\">\n",
       "<defs>\n",
       "</defs>\n",
       "<path d=\"M482.96291314453407,-129.40952255126078 L531.2592044589875,-142.35047480638687 A550,550,0,0,1,550.0,-1.3471114790620886e-13 L500.0,-1.2246467991473532e-13 A500,500,0,0,0,482.96291314453407,-129.40952255126078 Z\" stroke=\"white\" stroke-width=\"0.5\"/>\n",
       "</svg>"
      ],
      "text/plain": [
       "<IPython.core.display.SVG object>"
      ]
     },
     "metadata": {},
     "output_type": "display_data"
    },
    {
     "name": "stdout",
     "output_type": "stream",
     "text": [
      "Displaying: tile_ring9_division3.svg\n"
     ]
    },
    {
     "data": {
      "image/svg+xml": [
       "<svg xmlns=\"http://www.w3.org/2000/svg\" xmlns:xlink=\"http://www.w3.org/1999/xlink\" width=\"400\" height=\"400\" viewBox=\"-200.0 -200.0 400 400\">\n",
       "<defs>\n",
       "</defs>\n",
       "<path d=\"M353.5533905932738,353.5533905932737 L388.90872965260115,388.9087296526011 A550,550,0,0,1,275.00000000000006,476.31397208144125 L250.00000000000006,433.0127018922193 A500,500,0,0,0,353.5533905932738,353.5533905932737 Z\" stroke=\"white\" stroke-width=\"0.5\"/>\n",
       "</svg>"
      ],
      "text/plain": [
       "<IPython.core.display.SVG object>"
      ]
     },
     "metadata": {},
     "output_type": "display_data"
    },
    {
     "name": "stdout",
     "output_type": "stream",
     "text": [
      "Displaying: tile_ring9_division4.svg\n"
     ]
    },
    {
     "data": {
      "image/svg+xml": [
       "<svg xmlns=\"http://www.w3.org/2000/svg\" xmlns:xlink=\"http://www.w3.org/1999/xlink\" width=\"400\" height=\"400\" viewBox=\"-200.0 -200.0 400 400\">\n",
       "<defs>\n",
       "</defs>\n",
       "<path d=\"M250.00000000000006,433.0127018922193 L275.00000000000006,476.31397208144125 A550,550,0,0,1,142.35047480638653,531.2592044589875 L129.4095225512605,482.9629131445341 A500,500,0,0,0,250.00000000000006,433.0127018922193 Z\" stroke=\"white\" stroke-width=\"0.5\"/>\n",
       "</svg>"
      ],
      "text/plain": [
       "<IPython.core.display.SVG object>"
      ]
     },
     "metadata": {},
     "output_type": "display_data"
    },
    {
     "name": "stdout",
     "output_type": "stream",
     "text": [
      "Displaying: tile_ring9_division5.svg\n"
     ]
    },
    {
     "data": {
      "image/svg+xml": [
       "<svg xmlns=\"http://www.w3.org/2000/svg\" xmlns:xlink=\"http://www.w3.org/1999/xlink\" width=\"400\" height=\"400\" viewBox=\"-200.0 -200.0 400 400\">\n",
       "<defs>\n",
       "</defs>\n",
       "<path d=\"M129.4095225512605,482.9629131445341 L142.35047480638653,531.2592044589875 A550,550,0,0,1,3.3677786976552216e-14,550.0 L3.061616997868383e-14,500.0 A500,500,0,0,0,129.4095225512605,482.9629131445341 Z\" stroke=\"white\" stroke-width=\"0.5\"/>\n",
       "</svg>"
      ],
      "text/plain": [
       "<IPython.core.display.SVG object>"
      ]
     },
     "metadata": {},
     "output_type": "display_data"
    },
    {
     "name": "stdout",
     "output_type": "stream",
     "text": [
      "Displaying: tile_ring9_division6.svg\n"
     ]
    },
    {
     "data": {
      "image/svg+xml": [
       "<svg xmlns=\"http://www.w3.org/2000/svg\" xmlns:xlink=\"http://www.w3.org/1999/xlink\" width=\"400\" height=\"400\" viewBox=\"-200.0 -200.0 400 400\">\n",
       "<defs>\n",
       "</defs>\n",
       "<path d=\"M3.061616997868383e-14,500.0 L3.3677786976552216e-14,550.0 A550,550,0,0,1,-142.35047480638636,531.2592044589876 L-129.40952255126032,482.9629131445342 A500,500,0,0,0,3.061616997868383e-14,500.0 Z\" stroke=\"white\" stroke-width=\"0.5\"/>\n",
       "</svg>"
      ],
      "text/plain": [
       "<IPython.core.display.SVG object>"
      ]
     },
     "metadata": {},
     "output_type": "display_data"
    },
    {
     "name": "stdout",
     "output_type": "stream",
     "text": [
      "Displaying: tile_ring9_division7.svg\n"
     ]
    },
    {
     "data": {
      "image/svg+xml": [
       "<svg xmlns=\"http://www.w3.org/2000/svg\" xmlns:xlink=\"http://www.w3.org/1999/xlink\" width=\"400\" height=\"400\" viewBox=\"-200.0 -200.0 400 400\">\n",
       "<defs>\n",
       "</defs>\n",
       "<path d=\"M-129.40952255126032,482.9629131445342 L-142.35047480638636,531.2592044589876 A550,550,0,0,1,-274.9999999999999,476.3139720814413 L-249.99999999999991,433.01270189221935 A500,500,0,0,0,-129.40952255126032,482.9629131445342 Z\" stroke=\"white\" stroke-width=\"0.5\"/>\n",
       "</svg>"
      ],
      "text/plain": [
       "<IPython.core.display.SVG object>"
      ]
     },
     "metadata": {},
     "output_type": "display_data"
    },
    {
     "name": "stdout",
     "output_type": "stream",
     "text": [
      "Displaying: tile_ring9_division8.svg\n"
     ]
    },
    {
     "data": {
      "image/svg+xml": [
       "<svg xmlns=\"http://www.w3.org/2000/svg\" xmlns:xlink=\"http://www.w3.org/1999/xlink\" width=\"400\" height=\"400\" viewBox=\"-200.0 -200.0 400 400\">\n",
       "<defs>\n",
       "</defs>\n",
       "<path d=\"M-249.99999999999991,433.01270189221935 L-274.9999999999999,476.3139720814413 A550,550,0,0,1,-388.9087296526011,388.90872965260115 L-353.5533905932737,353.5533905932738 A500,500,0,0,0,-249.99999999999991,433.01270189221935 Z\" stroke=\"white\" stroke-width=\"0.5\"/>\n",
       "</svg>"
      ],
      "text/plain": [
       "<IPython.core.display.SVG object>"
      ]
     },
     "metadata": {},
     "output_type": "display_data"
    },
    {
     "name": "stdout",
     "output_type": "stream",
     "text": [
      "Displaying: tile_ring9_division9.svg\n"
     ]
    },
    {
     "data": {
      "image/svg+xml": [
       "<svg xmlns=\"http://www.w3.org/2000/svg\" xmlns:xlink=\"http://www.w3.org/1999/xlink\" width=\"400\" height=\"400\" viewBox=\"-200.0 -200.0 400 400\">\n",
       "<defs>\n",
       "</defs>\n",
       "<path d=\"M-353.5533905932737,353.5533905932738 L-388.9087296526011,388.90872965260115 A550,550,0,0,1,-476.3139720814412,275.00000000000017 L-433.01270189221924,250.00000000000017 A500,500,0,0,0,-353.5533905932737,353.5533905932738 Z\" stroke=\"white\" stroke-width=\"0.5\"/>\n",
       "</svg>"
      ],
      "text/plain": [
       "<IPython.core.display.SVG object>"
      ]
     },
     "metadata": {},
     "output_type": "display_data"
    }
   ],
   "source": [
    "# import os\n",
    "# from IPython.display import SVG, display\n",
    "\n",
    "# # Directory containing SVG files\n",
    "# svg_dir = 'svg_tiles'\n",
    "\n",
    "# # Load and display each SVG tile\n",
    "# svg_files = sorted([f for f in os.listdir(svg_dir) if f.endswith('.svg')])\n",
    "# for svg_file in svg_files:\n",
    "#     print(f'Displaying: {svg_file}')\n",
    "#     display(SVG(os.path.join(svg_dir, svg_file)))"
   ]
  },
  {
   "cell_type": "code",
   "execution_count": 4,
   "id": "d1a6278f",
   "metadata": {},
   "outputs": [],
   "source": [
    "template_json_text = r\"\"\"\n",
    "{\n",
    "  \"id\": 1,\n",
    "  \"type\": \"canvas\",\n",
    "  \"title\": \"Panel Title\",\n",
    "  \"gridPos\": {\n",
    "    \"x\": 0,\n",
    "    \"y\": 0,\n",
    "    \"h\": 8,\n",
    "    \"w\": 12\n",
    "  },\n",
    "  \"fieldConfig\": {\n",
    "    \"defaults\": {\n",
    "      \"mappings\": [],\n",
    "      \"thresholds\": {\n",
    "        \"mode\": \"absolute\",\n",
    "        \"steps\": [\n",
    "          {\n",
    "            \"color\": \"blue\",\n",
    "            \"value\": null\n",
    "          },\n",
    "          {\n",
    "            \"value\": 0,\n",
    "            \"color\": \"#EAB839\"\n",
    "          },\n",
    "          {\n",
    "            \"value\": 10,\n",
    "            \"color\": \"red\"\n",
    "          }\n",
    "        ]\n",
    "      },\n",
    "      \"color\": {\n",
    "        \"mode\": \"thresholds\"\n",
    "      },\n",
    "      \"min\": 0,\n",
    "      \"fieldMinMax\": false,\n",
    "      \"max\": 2\n",
    "    },\n",
    "    \"overrides\": []\n",
    "  },\n",
    "  \"pluginVersion\": \"11.6.0+security-01\",\n",
    "  \"targets\": [\n",
    "    {\n",
    "      \"refId\": \"A\",\n",
    "      \"datasource\": {\n",
    "        \"type\": \"prometheus\",\n",
    "        \"uid\": \"EflW1u9nz\"\n",
    "      },\n",
    "      \"editorMode\": \"builder\",\n",
    "      \"expr\": \"sphenix_sEPD_current_readback_uA\",\n",
    "      \"legendFormat\": \"__auto\",\n",
    "      \"range\": true,\n",
    "      \"useBackend\": false,\n",
    "      \"disableTextWrap\": false,\n",
    "      \"fullMetaSearch\": false,\n",
    "      \"includeNullMetadata\": true\n",
    "    }\n",
    "  ],\n",
    "  \"datasource\": {\n",
    "    \"uid\": \"EflW1u9nz\",\n",
    "    \"type\": \"prometheus\"\n",
    "  },\n",
    "  \"options\": {\n",
    "    \"inlineEditing\": true,\n",
    "    \"showAdvancedTypes\": true,\n",
    "    \"panZoom\": false,\n",
    "    \"infinitePan\": false,\n",
    "    \"root\": {\n",
    "      \"type\": \"frame\",\n",
    "      \"elements\": [\n",
    "        {\n",
    "        }\n",
    "      ],\n",
    "      \"background\": {\n",
    "        \"color\": {\n",
    "          \"fixed\": \"transparent\"\n",
    "        },\n",
    "        \"image\": {\n",
    "          \"mode\": \"fixed\",\n",
    "          \"field\": \"\",\n",
    "          \"fixed\": \"\"\n",
    "        },\n",
    "        \"size\": \"cover\"\n",
    "      },\n",
    "      \"border\": {\n",
    "        \"color\": {\n",
    "          \"fixed\": \"dark-green\"\n",
    "        }\n",
    "      },\n",
    "      \"name\": \"Element 1745423716553\",\n",
    "      \"constraint\": {\n",
    "        \"vertical\": \"top\",\n",
    "        \"horizontal\": \"left\"\n",
    "      },\n",
    "      \"placement\": {\n",
    "        \"width\": 100,\n",
    "        \"height\": 100,\n",
    "        \"top\": 0,\n",
    "        \"left\": 0,\n",
    "        \"rotation\": 0\n",
    "      }\n",
    "    }\n",
    "  }\n",
    "}\n",
    "\"\"\"\n",
    "import json\n",
    "template_json = json.loads(template_json_text)\n"
   ]
  },
  {
   "cell_type": "code",
   "execution_count": 5,
   "id": "2ea48201",
   "metadata": {},
   "outputs": [
    {
     "name": "stdout",
     "output_type": "stream",
     "text": [
      "Added 372 tiles to the JSON template. Saved as 'sepd_panel.json'\n"
     ]
    }
   ],
   "source": [
    "import json\n",
    "import os\n",
    "\n",
    "# Load all SVG files\n",
    "svg_dir = 'svg_tiles'\n",
    "svg_files = sorted([f for f in os.listdir(svg_dir) if f.endswith('.svg')])\n",
    "\n",
    "# Clear existing elements except the first one (template)\n",
    "template_json['options']['root']['elements'] = template_json['options']['root']['elements'][:1]\n",
    "\n",
    "# Add each tile as an element to the template JSON\n",
    "for svg_file in svg_files:\n",
    "    # Parse ring and division from filename\n",
    "    parts = svg_file.replace('.svg', '').split('_')\n",
    "    ring = int(parts[1].replace('ring', ''))\n",
    "    division = int(parts[2].replace('division', ''))\n",
    "    \n",
    "    # Create element for this tile\n",
    "    element = {\n",
    "        \"config\": {\n",
    "            \"path\": {\n",
    "                \"mode\": \"fixed\",\n",
    "                \"fixed\": f\"https://raw.githubusercontent.com/tlprotzman/sepd_tile_svg/refs/heads/main/svg_tiles/{svg_file}\"\n",
    "            },\n",
    "            \"fill\": {\n",
    "                \"fixed\": \"#FFFFFF\",\n",
    "                \"field\": f\"{{__name__=\\\"sphenix_sEPD_current_readback_uA\\\", channel=\\\"{ring*24 + division}\\\", dev_level=\\\"production\\\", instance=\\\"daq02.sphenix.bnl.gov:9113\\\", job=\\\"GLOBAL\\\"}}\"\n",
    "            }\n",
    "        },\n",
    "        \"background\": {\n",
    "            \"color\": {\n",
    "                \"fixed\": \"transparent\"\n",
    "            }\n",
    "        },\n",
    "        \"placement\": {\n",
    "            \"top\": 0,\n",
    "            \"height\": 100,\n",
    "            \"left\": 0,\n",
    "            \"width\": 100,\n",
    "            \"rotation\": 0\n",
    "        },\n",
    "        \"links\": [],\n",
    "        \"type\": \"icon\",\n",
    "        \"name\": f\"Tile Ring {ring} Division {division}\",\n",
    "        \"constraint\": {\n",
    "            \"vertical\": \"center\",\n",
    "            \"horizontal\": \"center\"\n",
    "        },\n",
    "        \"border\": {\n",
    "            \"color\": {\n",
    "                \"fixed\": \"transparent\"\n",
    "            }\n",
    "        }\n",
    "    }\n",
    "    \n",
    "    template_json['options']['root']['elements'].append(element)\n",
    "\n",
    "# Save the updated template JSON\n",
    "with open('sepd_panel.json', 'w') as f:\n",
    "    json.dump(template_json, f, indent=2)\n",
    "\n",
    "print(f\"Added {len(svg_files)} tiles to the JSON template. Saved as 'sepd_panel.json'\")"
   ]
  }
 ],
 "metadata": {
  "kernelspec": {
   "display_name": "random",
   "language": "python",
   "name": "python3"
  },
  "language_info": {
   "codemirror_mode": {
    "name": "ipython",
    "version": 3
   },
   "file_extension": ".py",
   "mimetype": "text/x-python",
   "name": "python",
   "nbconvert_exporter": "python",
   "pygments_lexer": "ipython3",
   "version": "3.13.2"
  }
 },
 "nbformat": 4,
 "nbformat_minor": 5
}
